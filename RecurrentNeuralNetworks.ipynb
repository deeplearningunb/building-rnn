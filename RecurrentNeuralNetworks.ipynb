{
 "cells": [
  {
   "cell_type": "markdown",
   "metadata": {},
   "source": [
    "# Recurrent Neural Networks\n",
    "\n",
    "calcular o preço das ações do google"
   ]
  },
  {
   "cell_type": "code",
   "execution_count": 1,
   "metadata": {},
   "outputs": [],
   "source": [
    "# Part 1 - Data Preprocessing\n",
    "\n",
    "# Importing the libraries\n",
    "import numpy as np\n",
    "import matplotlib.pyplot as plt\n",
    "import pandas as pd"
   ]
  },
  {
   "cell_type": "code",
   "execution_count": 2,
   "metadata": {},
   "outputs": [],
   "source": [
    "from tensorflow.keras.optimizers import SGD"
   ]
  },
  {
   "cell_type": "code",
   "execution_count": 3,
   "metadata": {},
   "outputs": [],
   "source": [
    "# Importing the training set\n",
    "dataset_train = pd.read_csv('Google_Stock_Price_Train.csv')\n",
    "training_set = dataset_train.iloc[:, 1:2].values"
   ]
  },
  {
   "cell_type": "code",
   "execution_count": 4,
   "metadata": {},
   "outputs": [],
   "source": [
    "# Feature Scaling\n",
    "from sklearn.preprocessing import MinMaxScaler\n",
    "sc = MinMaxScaler(feature_range = (0, 1))\n",
    "training_set_scaled = sc.fit_transform(training_set)"
   ]
  },
  {
   "cell_type": "code",
   "execution_count": 5,
   "metadata": {},
   "outputs": [
    {
     "data": {
      "text/plain": [
       "array([[[0.08581368],\n",
       "        [0.09701243],\n",
       "        [0.09433366],\n",
       "        ...,\n",
       "        [0.07846566],\n",
       "        [0.08034452],\n",
       "        [0.08497656]],\n",
       "\n",
       "       [[0.09701243],\n",
       "        [0.09433366],\n",
       "        [0.09156187],\n",
       "        ...,\n",
       "        [0.08034452],\n",
       "        [0.08497656],\n",
       "        [0.08627874]],\n",
       "\n",
       "       [[0.09433366],\n",
       "        [0.09156187],\n",
       "        [0.07984225],\n",
       "        ...,\n",
       "        [0.08497656],\n",
       "        [0.08627874],\n",
       "        [0.08471612]],\n",
       "\n",
       "       ...,\n",
       "\n",
       "       [[0.92106928],\n",
       "        [0.92438053],\n",
       "        [0.93048218],\n",
       "        ...,\n",
       "        [0.95475854],\n",
       "        [0.95204256],\n",
       "        [0.95163331]],\n",
       "\n",
       "       [[0.92438053],\n",
       "        [0.93048218],\n",
       "        [0.9299055 ],\n",
       "        ...,\n",
       "        [0.95204256],\n",
       "        [0.95163331],\n",
       "        [0.95725128]],\n",
       "\n",
       "       [[0.93048218],\n",
       "        [0.9299055 ],\n",
       "        [0.93113327],\n",
       "        ...,\n",
       "        [0.95163331],\n",
       "        [0.95725128],\n",
       "        [0.93796041]]])"
      ]
     },
     "execution_count": 5,
     "metadata": {},
     "output_type": "execute_result"
    }
   ],
   "source": [
    "# Creating a data structure with 60 timesteps and 1 output\n",
    "X_train = []\n",
    "y_train = []\n",
    "for i in range(60, 1258):\n",
    "    X_train.append(training_set_scaled[i-60:i, 0])\n",
    "    y_train.append(training_set_scaled[i, 0])\n",
    "X_train, y_train = np.array(X_train), np.array(y_train)\n",
    "\n",
    "# Reshaping\n",
    "X_train = np.reshape(X_train, (X_train.shape[0], X_train.shape[1], 1))\n",
    "X_train"
   ]
  },
  {
   "cell_type": "code",
   "execution_count": 18,
   "metadata": {},
   "outputs": [],
   "source": [
    "# Part 2 - Building the RNN\n",
    "\n",
    "# Importing the Keras libraries and packages\n",
    "from keras.models import Sequential\n",
    "from keras.layers import Dense, LSTM, Dropout, GRU, Bidirectional\n",
    "import math\n",
    "from sklearn.metrics import mean_squared_error\n",
    "\n",
    "# Initialising the RNN\n",
    "regressorGRU = Sequential()\n",
    "\n",
    "# Adding the first LSTM layer and some Dropout regularisation\n",
    "regressorGRU.add(GRU(units = 50, return_sequences = True, input_shape = (X_train.shape[1], 1),activation='tanh'))\n",
    "regressorGRU.add(Dropout(0.2))\n",
    "\n",
    "# Adding a second LSTM layer and some Dropout regularisation\n",
    "regressorGRU.add(GRU(units = 50, return_sequences = True,activation='tanh'))\n",
    "regressorGRU.add(Dropout(0.2))\n",
    "\n",
    "# Adding a third LSTM layer and some Dropout regularisation\n",
    "regressorGRU.add(GRU(units = 50, return_sequences = True,activation='tanh'))\n",
    "regressorGRU.add(Dropout(0.2))\n",
    "\n",
    "# Adding a fourth LSTM layer and some Dropout regularisation\n",
    "regressorGRU.add(GRU(units = 50,activation='tanh'))\n",
    "regressorGRU.add(Dropout(0.2))\n",
    "\n",
    "# Adding the output layer\n",
    "regressorGRU.add(Dense(units = 1))\n",
    "\n",
    "# Compiling the RNN\n",
    "regressorGRU.compile(optimizer = 'adam', loss = 'mean_squared_error')"
   ]
  },
  {
   "cell_type": "code",
   "execution_count": 19,
   "metadata": {},
   "outputs": [
    {
     "name": "stdout",
     "output_type": "stream",
     "text": [
      "Epoch 1/50\n",
      "8/8 [==============================] - 18s 329ms/step - loss: 0.0890\n",
      "Epoch 2/50\n",
      "8/8 [==============================] - 3s 325ms/step - loss: 0.0234\n",
      "Epoch 3/50\n",
      "8/8 [==============================] - 3s 338ms/step - loss: 0.0140\n",
      "Epoch 4/50\n",
      "8/8 [==============================] - 3s 349ms/step - loss: 0.0101\n",
      "Epoch 5/50\n",
      "8/8 [==============================] - 3s 334ms/step - loss: 0.0072\n",
      "Epoch 6/50\n",
      "8/8 [==============================] - 3s 332ms/step - loss: 0.0056\n",
      "Epoch 7/50\n",
      "8/8 [==============================] - 3s 332ms/step - loss: 0.0055\n",
      "Epoch 8/50\n",
      "8/8 [==============================] - 3s 327ms/step - loss: 0.0050\n",
      "Epoch 9/50\n",
      "8/8 [==============================] - 3s 339ms/step - loss: 0.0049\n",
      "Epoch 10/50\n",
      "8/8 [==============================] - 3s 350ms/step - loss: 0.0048\n",
      "Epoch 11/50\n",
      "8/8 [==============================] - 3s 400ms/step - loss: 0.0048\n",
      "Epoch 12/50\n",
      "8/8 [==============================] - 3s 326ms/step - loss: 0.0046\n",
      "Epoch 13/50\n",
      "8/8 [==============================] - 3s 327ms/step - loss: 0.0046\n",
      "Epoch 14/50\n",
      "8/8 [==============================] - 3s 339ms/step - loss: 0.0041\n",
      "Epoch 15/50\n",
      "8/8 [==============================] - 3s 345ms/step - loss: 0.0044\n",
      "Epoch 16/50\n",
      "8/8 [==============================] - 3s 350ms/step - loss: 0.0042\n",
      "Epoch 17/50\n",
      "8/8 [==============================] - 3s 334ms/step - loss: 0.0041\n",
      "Epoch 18/50\n",
      "8/8 [==============================] - 3s 332ms/step - loss: 0.0041\n",
      "Epoch 19/50\n",
      "8/8 [==============================] - 3s 329ms/step - loss: 0.0037\n",
      "Epoch 20/50\n",
      "8/8 [==============================] - 3s 329ms/step - loss: 0.0042\n",
      "Epoch 21/50\n",
      "8/8 [==============================] - 3s 350ms/step - loss: 0.0038\n",
      "Epoch 22/50\n",
      "8/8 [==============================] - 3s 361ms/step - loss: 0.0041\n",
      "Epoch 23/50\n",
      "8/8 [==============================] - 3s 343ms/step - loss: 0.0040\n",
      "Epoch 24/50\n",
      "8/8 [==============================] - 3s 337ms/step - loss: 0.0038\n",
      "Epoch 25/50\n",
      "8/8 [==============================] - 3s 334ms/step - loss: 0.0035\n",
      "Epoch 26/50\n",
      "8/8 [==============================] - 3s 334ms/step - loss: 0.0036\n",
      "Epoch 27/50\n",
      "8/8 [==============================] - 3s 353ms/step - loss: 0.0034\n",
      "Epoch 28/50\n",
      "8/8 [==============================] - 3s 348ms/step - loss: 0.0036\n",
      "Epoch 29/50\n",
      "8/8 [==============================] - 3s 329ms/step - loss: 0.0031\n",
      "Epoch 30/50\n",
      "8/8 [==============================] - 3s 327ms/step - loss: 0.0033\n",
      "Epoch 31/50\n",
      "8/8 [==============================] - 3s 332ms/step - loss: 0.0037\n",
      "Epoch 32/50\n",
      "8/8 [==============================] - 3s 331ms/step - loss: 0.0034\n",
      "Epoch 33/50\n",
      "8/8 [==============================] - 3s 359ms/step - loss: 0.0033\n",
      "Epoch 34/50\n",
      "8/8 [==============================] - 3s 343ms/step - loss: 0.0033\n",
      "Epoch 35/50\n",
      "8/8 [==============================] - 3s 329ms/step - loss: 0.0035\n",
      "Epoch 36/50\n",
      "8/8 [==============================] - 3s 337ms/step - loss: 0.0032\n",
      "Epoch 37/50\n",
      "8/8 [==============================] - 3s 325ms/step - loss: 0.0035\n",
      "Epoch 38/50\n",
      "8/8 [==============================] - 3s 334ms/step - loss: 0.0032\n",
      "Epoch 39/50\n",
      "8/8 [==============================] - 3s 351ms/step - loss: 0.0034\n",
      "Epoch 40/50\n",
      "8/8 [==============================] - 3s 356ms/step - loss: 0.0033\n",
      "Epoch 41/50\n",
      "8/8 [==============================] - 3s 337ms/step - loss: 0.0034\n",
      "Epoch 42/50\n",
      "8/8 [==============================] - 3s 427ms/step - loss: 0.0032\n",
      "Epoch 43/50\n",
      "8/8 [==============================] - 3s 356ms/step - loss: 0.0028\n",
      "Epoch 44/50\n",
      "8/8 [==============================] - 3s 354ms/step - loss: 0.0031\n",
      "Epoch 45/50\n",
      "8/8 [==============================] - 3s 424ms/step - loss: 0.0031\n",
      "Epoch 46/50\n",
      "8/8 [==============================] - 3s 381ms/step - loss: 0.0030\n",
      "Epoch 47/50\n",
      "8/8 [==============================] - 3s 382ms/step - loss: 0.0033\n",
      "Epoch 48/50\n",
      "8/8 [==============================] - 3s 350ms/step - loss: 0.0031\n",
      "Epoch 49/50\n",
      "8/8 [==============================] - 3s 374ms/step - loss: 0.0029\n",
      "Epoch 50/50\n",
      "8/8 [==============================] - 3s 408ms/step - loss: 0.0030\n"
     ]
    },
    {
     "data": {
      "text/plain": [
       "<keras.callbacks.History at 0x2248b9fbf98>"
      ]
     },
     "execution_count": 19,
     "metadata": {},
     "output_type": "execute_result"
    }
   ],
   "source": [
    "# Fitting the RNN to the Training set\n",
    "regressorGRU.fit(X_train, y_train, epochs = 50, batch_size = 150)"
   ]
  },
  {
   "cell_type": "code",
   "execution_count": 20,
   "metadata": {},
   "outputs": [],
   "source": [
    "# Part 3 - Making the predictions and visualising the results\n",
    "\n",
    "# Getting the real stock price of 2017\n",
    "dataset_test = pd.read_csv('Google_Stock_Price_Test.csv')\n",
    "real_stock_price = dataset_test.iloc[:, 1:2].values\n",
    "\n",
    "# Getting the predicted stock price of 2017\n",
    "dataset_total = pd.concat((dataset_train['Open'], dataset_test['Open']), axis = 0)\n",
    "inputs = dataset_total[len(dataset_total) - len(dataset_test) - 60:].values\n",
    "inputs = inputs.reshape(-1,1)\n",
    "inputs = sc.transform(inputs)\n",
    "X_test = []\n",
    "for i in range(60, 80):\n",
    "    X_test.append(inputs[i-60:i, 0])\n",
    "X_test = np.array(X_test)\n",
    "X_test = np.reshape(X_test, (X_test.shape[0], X_test.shape[1], 1))\n",
    "predicted_stock_price = regressorGRU.predict(X_test)\n",
    "predicted_stock_price = sc.inverse_transform(predicted_stock_price)"
   ]
  },
  {
   "cell_type": "code",
   "execution_count": 21,
   "metadata": {},
   "outputs": [
    {
     "data": {
      "image/png": "[encoded data removed]",
      "text/plain": [
       "<Figure size 640x480 with 1 Axes>"
      ]
     },
     "metadata": {},
     "output_type": "display_data"
    }
   ],
   "source": [
    "# Visualising the results\n",
    "plt.plot(real_stock_price, color = 'red', label = 'Real Google Stock Price')\n",
    "plt.plot(predicted_stock_price, color = 'blue', label = 'Predicted Google Stock Price')\n",
    "plt.title('Google Stock Price Prediction')\n",
    "plt.xlabel('Time')\n",
    "plt.ylabel('Google Stock Price')\n",
    "plt.legend()\n",
    "plt.show()"
   ]
  },
  {
   "cell_type": "markdown",
   "metadata": {},
   "source": [
    "## FIM"
   ]
  }
 ],
 "metadata": {
  "kernelspec": {
   "display_name": "Python 3",
   "language": "python",
   "name": "python3"
  },
  "language_info": {
   "codemirror_mode": {
    "name": "ipython",
    "version": 3
   },
   "file_extension": ".py",
   "mimetype": "text/x-python",
   "name": "python",
   "nbconvert_exporter": "python",
   "pygments_lexer": "ipython3",
   "version": "3.7.3"
  }
 },
 "nbformat": 4,
 "nbformat_minor": 4
}
