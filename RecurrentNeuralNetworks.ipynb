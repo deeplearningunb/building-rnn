{
 "cells": [
  {
   "cell_type": "markdown",
   "metadata": {},
   "source": [
    "# Recurrent Neural Networks\n",
    "\n",
    "calcular o preço das ações do google"
   ]
  },
  {
   "cell_type": "code",
   "execution_count": 2,
   "metadata": {
    "collapsed": true,
    "jupyter": {
     "outputs_hidden": true
    },
    "tags": []
   },
   "outputs": [
    {
     "name": "stdout",
     "output_type": "stream",
     "text": [
      "Collecting matplotlib\n",
      "  Downloading matplotlib-3.5.1-cp38-cp38-manylinux_2_5_x86_64.manylinux1_x86_64.whl (11.3 MB)\n",
      "\u001b[K     |████████████████████████████████| 11.3 MB 12.5 MB/s eta 0:00:01\n",
      "\u001b[?25hRequirement already satisfied: packaging>=20.0 in /srv/conda/envs/notebook/lib/python3.8/site-packages (from matplotlib) (20.9)\n",
      "Collecting fonttools>=4.22.0\n",
      "  Downloading fonttools-4.31.2-py3-none-any.whl (899 kB)\n",
      "\u001b[K     |████████████████████████████████| 899 kB 131.8 MB/s eta 0:00:01\n",
      "\u001b[?25hRequirement already satisfied: numpy>=1.17 in /srv/conda/envs/notebook/lib/python3.8/site-packages (from matplotlib) (1.20.3)\n",
      "Collecting kiwisolver>=1.0.1\n",
      "  Downloading kiwisolver-1.4.2-cp38-cp38-manylinux_2_5_x86_64.manylinux1_x86_64.whl (1.2 MB)\n",
      "\u001b[K     |████████████████████████████████| 1.2 MB 10.0 MB/s eta 0:00:01\n",
      "\u001b[?25hRequirement already satisfied: python-dateutil>=2.7 in /srv/conda/envs/notebook/lib/python3.8/site-packages (from matplotlib) (2.8.1)\n",
      "Requirement already satisfied: pillow>=6.2.0 in /srv/conda/envs/notebook/lib/python3.8/site-packages (from matplotlib) (9.0.1)\n",
      "Collecting cycler>=0.10\n",
      "  Downloading cycler-0.11.0-py3-none-any.whl (6.4 kB)\n",
      "Requirement already satisfied: pyparsing>=2.2.1 in /srv/conda/envs/notebook/lib/python3.8/site-packages (from matplotlib) (2.4.7)\n",
      "Requirement already satisfied: six>=1.5 in /srv/conda/envs/notebook/lib/python3.8/site-packages (from python-dateutil>=2.7->matplotlib) (1.16.0)\n",
      "Installing collected packages: kiwisolver, fonttools, cycler, matplotlib\n",
      "Successfully installed cycler-0.11.0 fonttools-4.31.2 kiwisolver-1.4.2 matplotlib-3.5.1\n"
     ]
    }
   ],
   "source": [
    "!pip install matplotlib"
   ]
  },
  {
   "cell_type": "code",
   "execution_count": 3,
   "metadata": {},
   "outputs": [],
   "source": [
    "# Part 1 - Data Preprocessing\n",
    "\n",
    "# Importing the libraries\n",
    "import numpy as np\n",
    "import matplotlib.pyplot as plt\n",
    "import pandas as pd"
   ]
  },
  {
   "cell_type": "code",
   "execution_count": 4,
   "metadata": {},
   "outputs": [],
   "source": [
    "# Importing the training set\n",
    "dataset_train = pd.read_csv('Google_Stock_Price_Train.csv')\n",
    "training_set = dataset_train.iloc[:, 1:2].values"
   ]
  },
  {
   "cell_type": "code",
   "execution_count": 5,
   "metadata": {},
   "outputs": [],
   "source": [
    "# Feature Scaling\n",
    "from sklearn.preprocessing import MinMaxScaler\n",
    "mms = MinMaxScaler(feature_range = (0, 1))\n",
    "training_set_scaled = mms.fit_transform(training_set)"
   ]
  },
  {
   "cell_type": "code",
   "execution_count": 7,
   "metadata": {},
   "outputs": [
    {
     "data": {
      "text/plain": [
       "array([[0.08581368, 0.09701243, 0.09433366, ..., 0.07846566, 0.08034452,\n",
       "        0.08497656],\n",
       "       [0.09701243, 0.09433366, 0.09156187, ..., 0.08034452, 0.08497656,\n",
       "        0.08627874],\n",
       "       [0.09433366, 0.09156187, 0.07984225, ..., 0.08497656, 0.08627874,\n",
       "        0.08471612],\n",
       "       ...,\n",
       "       [0.92106928, 0.92438053, 0.93048218, ..., 0.95475854, 0.95204256,\n",
       "        0.95163331],\n",
       "       [0.92438053, 0.93048218, 0.9299055 , ..., 0.95204256, 0.95163331,\n",
       "        0.95725128],\n",
       "       [0.93048218, 0.9299055 , 0.93113327, ..., 0.95163331, 0.95725128,\n",
       "        0.93796041]])"
      ]
     },
     "execution_count": 7,
     "metadata": {},
     "output_type": "execute_result"
    }
   ],
   "source": [
    "# Creating a data structure with 60 timesteps and 1 output (Many-to-One)\n",
    "X_train = []\n",
    "y_train = []\n",
    "for i in range(60, 1258):\n",
    "    X_train.append(training_set_scaled[i-60:i, 0])\n",
    "    y_train.append(training_set_scaled[i, 0])\n",
    "X_train, y_train = np.array(X_train), np.array(y_train)\n",
    "X_train"
   ]
  },
  {
   "cell_type": "code",
   "execution_count": 10,
   "metadata": {},
   "outputs": [
    {
     "data": {
      "text/plain": [
       "(1198, 60, 1)"
      ]
     },
     "execution_count": 10,
     "metadata": {},
     "output_type": "execute_result"
    }
   ],
   "source": [
    "X_train.shape"
   ]
  },
  {
   "cell_type": "code",
   "execution_count": 11,
   "metadata": {},
   "outputs": [
    {
     "data": {
      "text/plain": [
       "array([[[0.08581368],\n",
       "        [0.09701243],\n",
       "        [0.09433366],\n",
       "        ...,\n",
       "        [0.07846566],\n",
       "        [0.08034452],\n",
       "        [0.08497656]],\n",
       "\n",
       "       [[0.09701243],\n",
       "        [0.09433366],\n",
       "        [0.09156187],\n",
       "        ...,\n",
       "        [0.08034452],\n",
       "        [0.08497656],\n",
       "        [0.08627874]],\n",
       "\n",
       "       [[0.09433366],\n",
       "        [0.09156187],\n",
       "        [0.07984225],\n",
       "        ...,\n",
       "        [0.08497656],\n",
       "        [0.08627874],\n",
       "        [0.08471612]],\n",
       "\n",
       "       ...,\n",
       "\n",
       "       [[0.92106928],\n",
       "        [0.92438053],\n",
       "        [0.93048218],\n",
       "        ...,\n",
       "        [0.95475854],\n",
       "        [0.95204256],\n",
       "        [0.95163331]],\n",
       "\n",
       "       [[0.92438053],\n",
       "        [0.93048218],\n",
       "        [0.9299055 ],\n",
       "        ...,\n",
       "        [0.95204256],\n",
       "        [0.95163331],\n",
       "        [0.95725128]],\n",
       "\n",
       "       [[0.93048218],\n",
       "        [0.9299055 ],\n",
       "        [0.93113327],\n",
       "        ...,\n",
       "        [0.95163331],\n",
       "        [0.95725128],\n",
       "        [0.93796041]]])"
      ]
     },
     "execution_count": 11,
     "metadata": {},
     "output_type": "execute_result"
    }
   ],
   "source": [
    "# Reshaping\n",
    "X_train = np.reshape(X_train, (X_train.shape[0], X_train.shape[1], 1))\n",
    "X_train"
   ]
  },
  {
   "cell_type": "code",
   "execution_count": 12,
   "metadata": {},
   "outputs": [
    {
     "data": {
      "text/plain": [
       "(1198, 60, 1)"
      ]
     },
     "execution_count": 12,
     "metadata": {},
     "output_type": "execute_result"
    }
   ],
   "source": [
    "X_train.shape"
   ]
  },
  {
   "cell_type": "code",
   "execution_count": 57,
   "metadata": {},
   "outputs": [],
   "source": [
    "# Part 2 - Building the RNN\n",
    "\n",
    "# Importing the Keras libraries and packages\n",
    "from keras.models import Sequential\n",
    "from keras.layers import Dense\n",
    "from keras.layers import LSTM\n",
    "from keras.layers import GRU\n",
    "from keras.layers import Dropout\n",
    "\n",
    "# Initialising the RNN\n",
    "regressor = Sequential()\n",
    "\n",
    "# Adding the first LSTM layer and some Dropout regularisation\n",
    "regressor.add(GRU(units = 80, return_sequences = True, input_shape = (X_train.shape[1], 1)))\n",
    "regressor.add(Dropout(0.2))\n",
    "\n",
    "# Adding a second LSTM layer and some Dropout regularisation\n",
    "regressor.add(GRU(units = 80, return_sequences = True))\n",
    "regressor.add(Dropout(0.2))\n",
    "\n",
    "# Adding a third LSTM layer and some Dropout regularisation\n",
    "regressor.add(GRU(units = 80, return_sequences = True))\n",
    "regressor.add(Dropout(0.2))\n",
    "\n",
    "# Adding a fourth LSTM layer and some Dropout regularisation\n",
    "regressor.add(GRU(units = 80))\n",
    "regressor.add(Dropout(0.2))\n",
    "\n",
    "# Adding the output layer\n",
    "regressor.add(Dense(units = 1))\n",
    "\n",
    "# Compiling the RNN\n",
    "regressor.compile(optimizer = 'adam', loss = 'mean_squared_error', metrics = ['accuracy'])\n",
    "# regressor.compile(optimizer = 'adam', loss = 'binary_crossentropy', metrics = ['accuracy'])"
   ]
  },
  {
   "cell_type": "code",
   "execution_count": 58,
   "metadata": {},
   "outputs": [
    {
     "name": "stdout",
     "output_type": "stream",
     "text": [
      "Epoch 1/100\n",
      "19/19 [==============================] - 5s 82ms/step - loss: 0.0532 - accuracy: 0.0017\n",
      "Epoch 2/100\n",
      "19/19 [==============================] - 2s 82ms/step - loss: 0.0085 - accuracy: 0.0017\n",
      "Epoch 3/100\n",
      "19/19 [==============================] - 2s 81ms/step - loss: 0.0052 - accuracy: 0.0017\n",
      "Epoch 4/100\n",
      "19/19 [==============================] - 2s 81ms/step - loss: 0.0038 - accuracy: 0.0017\n",
      "Epoch 5/100\n",
      "19/19 [==============================] - 2s 81ms/step - loss: 0.0033 - accuracy: 0.0017\n",
      "Epoch 6/100\n",
      "19/19 [==============================] - 2s 81ms/step - loss: 0.0034 - accuracy: 0.0017\n",
      "Epoch 7/100\n",
      "19/19 [==============================] - 2s 81ms/step - loss: 0.0035 - accuracy: 0.0017\n",
      "Epoch 8/100\n",
      "19/19 [==============================] - 2s 80ms/step - loss: 0.0037 - accuracy: 0.0017\n",
      "Epoch 9/100\n",
      "19/19 [==============================] - 2s 80ms/step - loss: 0.0031 - accuracy: 0.0017\n",
      "Epoch 10/100\n",
      "19/19 [==============================] - 2s 80ms/step - loss: 0.0031 - accuracy: 0.0017\n",
      "Epoch 11/100\n",
      "19/19 [==============================] - 2s 81ms/step - loss: 0.0030 - accuracy: 0.0017\n",
      "Epoch 12/100\n",
      "19/19 [==============================] - 2s 81ms/step - loss: 0.0029 - accuracy: 0.0017\n",
      "Epoch 13/100\n",
      "19/19 [==============================] - 2s 80ms/step - loss: 0.0028 - accuracy: 0.0017\n",
      "Epoch 14/100\n",
      "19/19 [==============================] - 2s 81ms/step - loss: 0.0028 - accuracy: 0.0017\n",
      "Epoch 15/100\n",
      "19/19 [==============================] - 2s 81ms/step - loss: 0.0026 - accuracy: 0.0017\n",
      "Epoch 16/100\n",
      "19/19 [==============================] - 2s 81ms/step - loss: 0.0027 - accuracy: 0.0017\n",
      "Epoch 17/100\n",
      "19/19 [==============================] - 2s 81ms/step - loss: 0.0026 - accuracy: 0.0017\n",
      "Epoch 18/100\n",
      "19/19 [==============================] - 2s 81ms/step - loss: 0.0023 - accuracy: 0.0017\n",
      "Epoch 19/100\n",
      "19/19 [==============================] - 2s 81ms/step - loss: 0.0026 - accuracy: 0.0017\n",
      "Epoch 20/100\n",
      "19/19 [==============================] - 2s 81ms/step - loss: 0.0028 - accuracy: 0.0017\n",
      "Epoch 21/100\n",
      "19/19 [==============================] - 2s 80ms/step - loss: 0.0027 - accuracy: 0.0017\n",
      "Epoch 22/100\n",
      "19/19 [==============================] - 2s 81ms/step - loss: 0.0025 - accuracy: 0.0017\n",
      "Epoch 23/100\n",
      "19/19 [==============================] - 2s 81ms/step - loss: 0.0025 - accuracy: 0.0017\n",
      "Epoch 24/100\n",
      "19/19 [==============================] - 2s 81ms/step - loss: 0.0023 - accuracy: 0.0017\n",
      "Epoch 25/100\n",
      "19/19 [==============================] - 2s 80ms/step - loss: 0.0025 - accuracy: 0.0017\n",
      "Epoch 26/100\n",
      "19/19 [==============================] - 2s 81ms/step - loss: 0.0022 - accuracy: 0.0017\n",
      "Epoch 27/100\n",
      "19/19 [==============================] - 2s 80ms/step - loss: 0.0024 - accuracy: 0.0017\n",
      "Epoch 28/100\n",
      "19/19 [==============================] - 2s 81ms/step - loss: 0.0022 - accuracy: 0.0017\n",
      "Epoch 29/100\n",
      "19/19 [==============================] - 2s 81ms/step - loss: 0.0021 - accuracy: 0.0017\n",
      "Epoch 30/100\n",
      "19/19 [==============================] - 2s 81ms/step - loss: 0.0024 - accuracy: 0.0017\n",
      "Epoch 31/100\n",
      "19/19 [==============================] - 2s 80ms/step - loss: 0.0023 - accuracy: 0.0017\n",
      "Epoch 32/100\n",
      "19/19 [==============================] - 2s 80ms/step - loss: 0.0028 - accuracy: 0.0017\n",
      "Epoch 33/100\n",
      "19/19 [==============================] - 2s 80ms/step - loss: 0.0024 - accuracy: 0.0017\n",
      "Epoch 34/100\n",
      "19/19 [==============================] - 2s 80ms/step - loss: 0.0020 - accuracy: 0.0017\n",
      "Epoch 35/100\n",
      "19/19 [==============================] - 2s 80ms/step - loss: 0.0022 - accuracy: 0.0017\n",
      "Epoch 36/100\n",
      "19/19 [==============================] - 2s 80ms/step - loss: 0.0020 - accuracy: 0.0017\n",
      "Epoch 37/100\n",
      "19/19 [==============================] - 2s 80ms/step - loss: 0.0019 - accuracy: 0.0017\n",
      "Epoch 38/100\n",
      "19/19 [==============================] - 2s 81ms/step - loss: 0.0020 - accuracy: 0.0017\n",
      "Epoch 39/100\n",
      "19/19 [==============================] - 2s 81ms/step - loss: 0.0019 - accuracy: 0.0017\n",
      "Epoch 40/100\n",
      "19/19 [==============================] - 2s 80ms/step - loss: 0.0018 - accuracy: 0.0017\n",
      "Epoch 41/100\n",
      "19/19 [==============================] - 2s 81ms/step - loss: 0.0019 - accuracy: 0.0017\n",
      "Epoch 42/100\n",
      "19/19 [==============================] - 2s 79ms/step - loss: 0.0027 - accuracy: 0.0017\n",
      "Epoch 43/100\n",
      "19/19 [==============================] - 2s 81ms/step - loss: 0.0028 - accuracy: 0.0017\n",
      "Epoch 44/100\n",
      "19/19 [==============================] - 2s 81ms/step - loss: 0.0024 - accuracy: 0.0017\n",
      "Epoch 45/100\n",
      "19/19 [==============================] - 2s 81ms/step - loss: 0.0020 - accuracy: 0.0017\n",
      "Epoch 46/100\n",
      "19/19 [==============================] - 2s 81ms/step - loss: 0.0021 - accuracy: 0.0017\n",
      "Epoch 47/100\n",
      "19/19 [==============================] - 2s 80ms/step - loss: 0.0018 - accuracy: 0.0017\n",
      "Epoch 48/100\n",
      "19/19 [==============================] - 2s 80ms/step - loss: 0.0019 - accuracy: 0.0017\n",
      "Epoch 49/100\n",
      "19/19 [==============================] - 2s 81ms/step - loss: 0.0020 - accuracy: 0.0017\n",
      "Epoch 50/100\n",
      "19/19 [==============================] - 2s 81ms/step - loss: 0.0019 - accuracy: 0.0017\n",
      "Epoch 51/100\n",
      "19/19 [==============================] - 2s 81ms/step - loss: 0.0018 - accuracy: 0.0017\n",
      "Epoch 52/100\n",
      "19/19 [==============================] - 2s 81ms/step - loss: 0.0017 - accuracy: 0.0017\n",
      "Epoch 53/100\n",
      "19/19 [==============================] - 2s 80ms/step - loss: 0.0019 - accuracy: 0.0017\n",
      "Epoch 54/100\n",
      "19/19 [==============================] - 1s 78ms/step - loss: 0.0016 - accuracy: 0.0017\n",
      "Epoch 55/100\n",
      "19/19 [==============================] - 2s 81ms/step - loss: 0.0017 - accuracy: 0.0017\n",
      "Epoch 56/100\n",
      "19/19 [==============================] - 2s 80ms/step - loss: 0.0016 - accuracy: 0.0017\n",
      "Epoch 57/100\n",
      "19/19 [==============================] - 2s 81ms/step - loss: 0.0017 - accuracy: 0.0017\n",
      "Epoch 58/100\n",
      "19/19 [==============================] - 2s 80ms/step - loss: 0.0016 - accuracy: 0.0017\n",
      "Epoch 59/100\n",
      "19/19 [==============================] - 2s 79ms/step - loss: 0.0018 - accuracy: 0.0017\n",
      "Epoch 60/100\n",
      "19/19 [==============================] - 2s 80ms/step - loss: 0.0016 - accuracy: 0.0017\n",
      "Epoch 61/100\n",
      "19/19 [==============================] - 1s 78ms/step - loss: 0.0019 - accuracy: 0.0017\n",
      "Epoch 62/100\n",
      "19/19 [==============================] - 2s 80ms/step - loss: 0.0016 - accuracy: 0.0017\n",
      "Epoch 63/100\n",
      "19/19 [==============================] - 2s 80ms/step - loss: 0.0017 - accuracy: 0.0017\n",
      "Epoch 64/100\n",
      "19/19 [==============================] - 2s 80ms/step - loss: 0.0018 - accuracy: 0.0017\n",
      "Epoch 65/100\n",
      "19/19 [==============================] - 2s 80ms/step - loss: 0.0016 - accuracy: 0.0017\n",
      "Epoch 66/100\n",
      "19/19 [==============================] - 2s 80ms/step - loss: 0.0017 - accuracy: 0.0017\n",
      "Epoch 67/100\n",
      "19/19 [==============================] - 2s 80ms/step - loss: 0.0014 - accuracy: 0.0017\n",
      "Epoch 68/100\n",
      "19/19 [==============================] - 2s 80ms/step - loss: 0.0015 - accuracy: 0.0017\n",
      "Epoch 69/100\n",
      "19/19 [==============================] - 2s 80ms/step - loss: 0.0014 - accuracy: 0.0017\n",
      "Epoch 70/100\n",
      "19/19 [==============================] - 2s 80ms/step - loss: 0.0015 - accuracy: 0.0017\n",
      "Epoch 71/100\n",
      "19/19 [==============================] - 2s 80ms/step - loss: 0.0017 - accuracy: 0.0017\n",
      "Epoch 72/100\n",
      "19/19 [==============================] - 2s 80ms/step - loss: 0.0014 - accuracy: 0.0017\n",
      "Epoch 73/100\n",
      "19/19 [==============================] - 2s 79ms/step - loss: 0.0015 - accuracy: 0.0017\n",
      "Epoch 74/100\n",
      "19/19 [==============================] - 2s 80ms/step - loss: 0.0015 - accuracy: 0.0017\n",
      "Epoch 75/100\n",
      "19/19 [==============================] - 2s 81ms/step - loss: 0.0016 - accuracy: 0.0017\n",
      "Epoch 76/100\n",
      "19/19 [==============================] - 2s 80ms/step - loss: 0.0015 - accuracy: 0.0017\n",
      "Epoch 77/100\n",
      "19/19 [==============================] - 2s 80ms/step - loss: 0.0016 - accuracy: 0.0017\n",
      "Epoch 78/100\n",
      "19/19 [==============================] - 2s 80ms/step - loss: 0.0016 - accuracy: 0.0017\n",
      "Epoch 79/100\n",
      "19/19 [==============================] - 2s 80ms/step - loss: 0.0016 - accuracy: 0.0017\n",
      "Epoch 80/100\n",
      "19/19 [==============================] - 2s 80ms/step - loss: 0.0016 - accuracy: 0.0017\n",
      "Epoch 81/100\n",
      "19/19 [==============================] - 2s 80ms/step - loss: 0.0015 - accuracy: 0.0017\n",
      "Epoch 82/100\n",
      "19/19 [==============================] - 2s 79ms/step - loss: 0.0014 - accuracy: 0.0017\n",
      "Epoch 83/100\n",
      "19/19 [==============================] - 2s 80ms/step - loss: 0.0015 - accuracy: 0.0017\n",
      "Epoch 84/100\n",
      "19/19 [==============================] - 2s 80ms/step - loss: 0.0015 - accuracy: 0.0017\n",
      "Epoch 85/100\n",
      "19/19 [==============================] - 2s 80ms/step - loss: 0.0015 - accuracy: 0.0017\n",
      "Epoch 86/100\n",
      "19/19 [==============================] - 2s 80ms/step - loss: 0.0014 - accuracy: 0.0017\n",
      "Epoch 87/100\n",
      "19/19 [==============================] - 2s 80ms/step - loss: 0.0014 - accuracy: 0.0017\n",
      "Epoch 88/100\n",
      "19/19 [==============================] - 2s 80ms/step - loss: 0.0016 - accuracy: 0.0017\n",
      "Epoch 89/100\n",
      "19/19 [==============================] - 2s 80ms/step - loss: 0.0016 - accuracy: 0.0017\n",
      "Epoch 90/100\n",
      "19/19 [==============================] - 2s 80ms/step - loss: 0.0015 - accuracy: 0.0017\n",
      "Epoch 91/100\n",
      "19/19 [==============================] - 2s 80ms/step - loss: 0.0014 - accuracy: 0.0017\n",
      "Epoch 92/100\n",
      "19/19 [==============================] - 2s 82ms/step - loss: 0.0014 - accuracy: 0.0017\n",
      "Epoch 93/100\n",
      "19/19 [==============================] - 2s 80ms/step - loss: 0.0013 - accuracy: 0.0017\n",
      "Epoch 94/100\n",
      "19/19 [==============================] - 2s 80ms/step - loss: 0.0014 - accuracy: 0.0017\n",
      "Epoch 95/100\n",
      "19/19 [==============================] - 2s 81ms/step - loss: 0.0013 - accuracy: 0.0017\n",
      "Epoch 96/100\n",
      "19/19 [==============================] - 2s 80ms/step - loss: 0.0015 - accuracy: 0.0017\n",
      "Epoch 97/100\n",
      "19/19 [==============================] - 2s 81ms/step - loss: 0.0013 - accuracy: 0.0017\n",
      "Epoch 98/100\n",
      "19/19 [==============================] - 2s 81ms/step - loss: 0.0014 - accuracy: 0.0017\n",
      "Epoch 99/100\n",
      "19/19 [==============================] - 2s 80ms/step - loss: 0.0012 - accuracy: 0.0017\n",
      "Epoch 100/100\n",
      "19/19 [==============================] - 1s 79ms/step - loss: 0.0015 - accuracy: 0.0017\n"
     ]
    },
    {
     "data": {
      "text/plain": [
       "<keras.callbacks.History at 0x7f73f81ab520>"
      ]
     },
     "execution_count": 58,
     "metadata": {},
     "output_type": "execute_result"
    }
   ],
   "source": [
    "# Fitting the RNN to the Training set\n",
    "regressor.fit(X_train, y_train, epochs = 100, batch_size = 64)"
   ]
  },
  {
   "cell_type": "code",
   "execution_count": 59,
   "metadata": {},
   "outputs": [
    {
     "data": {
      "text/plain": [
       "1278"
      ]
     },
     "execution_count": 59,
     "metadata": {},
     "output_type": "execute_result"
    }
   ],
   "source": [
    "# Part 3 - Making the predictions and visualising the results\n",
    "\n",
    "# Getting the real stock price of 2017\n",
    "dataset_test = pd.read_csv('Google_Stock_Price_Test.csv')\n",
    "real_stock_price = dataset_test.iloc[:, 1:2].values\n",
    "\n",
    "\n",
    "dataset_total = pd.concat((dataset_train['Open'], dataset_test['Open']), axis = 0)\n",
    "len(dataset_total)"
   ]
  },
  {
   "cell_type": "code",
   "execution_count": 60,
   "metadata": {},
   "outputs": [
    {
     "data": {
      "text/plain": [
       "1198"
      ]
     },
     "execution_count": 60,
     "metadata": {},
     "output_type": "execute_result"
    }
   ],
   "source": [
    "len(dataset_total) - len(dataset_test) - 60"
   ]
  },
  {
   "cell_type": "code",
   "execution_count": 61,
   "metadata": {},
   "outputs": [
    {
     "data": {
      "text/plain": [
       "80"
      ]
     },
     "execution_count": 61,
     "metadata": {},
     "output_type": "execute_result"
    }
   ],
   "source": [
    "# Training dataset has 20 entries and its needed the previous historical 60 entries to input the model. \n",
    "# So after concatenate both sets take only the last 80 entries\n",
    "inputs = dataset_total[len(dataset_total) - len(dataset_test) - 60:].values\n",
    "len(inputs)"
   ]
  },
  {
   "cell_type": "code",
   "execution_count": 62,
   "metadata": {},
   "outputs": [
    {
     "name": "stdout",
     "output_type": "stream",
     "text": [
      "WARNING:tensorflow:5 out of the last 5 calls to <function Model.make_predict_function.<locals>.predict_function at 0x7f73f02b3dc0> triggered tf.function retracing. Tracing is expensive and the excessive number of tracings could be due to (1) creating @tf.function repeatedly in a loop, (2) passing tensors with different shapes, (3) passing Python objects instead of tensors. For (1), please define your @tf.function outside of the loop. For (2), @tf.function has experimental_relax_shapes=True option that relaxes argument shapes that can avoid unnecessary retracing. For (3), please refer to https://www.tensorflow.org/guide/function#controlling_retracing and https://www.tensorflow.org/api_docs/python/tf/function for  more details.\n"
     ]
    }
   ],
   "source": [
    "# Getting the predicted stock price of 2017\n",
    "inputs = inputs.reshape(-1,1)\n",
    "inputs = mms.transform(inputs)\n",
    "X_test = []\n",
    "for i in range(60, 80):\n",
    "    X_test.append(inputs[i-60:i, 0])\n",
    "X_test = np.array(X_test)\n",
    "X_test = np.reshape(X_test, (X_test.shape[0], X_test.shape[1], 1))\n",
    "\n",
    "predicted_stock_price = regressor.predict(X_test)\n",
    "\n",
    "predicted_stock_price = mms.inverse_transform(predicted_stock_price)"
   ]
  },
  {
   "cell_type": "code",
   "execution_count": 63,
   "metadata": {},
   "outputs": [
    {
     "data": {
      "image/png": "[encoded data removed]",
      "text/plain": [
       "<Figure size 432x288 with 1 Axes>"
      ]
     },
     "metadata": {
      "needs_background": "light"
     },
     "output_type": "display_data"
    }
   ],
   "source": [
    "# Visualising the results\n",
    "plt.plot(real_stock_price, color = 'red', label = 'Real Google Stock Price')\n",
    "plt.plot(predicted_stock_price, color = 'blue', label = 'Predicted Google Stock Price')\n",
    "\n",
    "plt.title('Google Stock Price Prediction')\n",
    "plt.xlabel('Time')\n",
    "plt.ylabel('Google Stock Price')\n",
    "plt.legend()\n",
    "\n",
    "plt.show()"
   ]
  },
  {
   "cell_type": "markdown",
   "metadata": {},
   "source": [
    "## FIM"
   ]
  }
 ],
 "metadata": {
  "kernelspec": {
   "display_name": "Python 3",
   "language": "python",
   "name": "python3"
  },
  "language_info": {
   "codemirror_mode": {
    "name": "ipython",
    "version": 3
   },
   "file_extension": ".py",
   "mimetype": "text/x-python",
   "name": "python",
   "nbconvert_exporter": "python",
   "pygments_lexer": "ipython3",
   "version": "3.8.10"
  }
 },
 "nbformat": 4,
 "nbformat_minor": 4
}
