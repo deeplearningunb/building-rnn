{
  "nbformat": 4,
  "nbformat_minor": 0,
  "metadata": {
    "kernelspec": {
      "display_name": "Python 3",
      "language": "python",
      "name": "python3"
    },
    "language_info": {
      "codemirror_mode": {
        "name": "ipython",
        "version": 3
      },
      "file_extension": ".py",
      "mimetype": "text/x-python",
      "name": "python",
      "nbconvert_exporter": "python",
      "pygments_lexer": "ipython3",
      "version": "3.7.1"
    },
    "colab": {
      "name": "RecurrentNeuralNetworks.ipynb",
      "provenance": [],
      "collapsed_sections": []
    }
  },
  "cells": [
    {
      "cell_type": "markdown",
      "metadata": {
        "id": "N45W66sNqvsX"
      },
      "source": [
        "# Recurrent Neural Networks\n",
        "\n",
        "calcular o preço das ações do google"
      ]
    },
    {
      "cell_type": "code",
      "metadata": {
        "id": "ipWJh4l4qvsc"
      },
      "source": [
        "# Part 1 - Data Preprocessing\n",
        "\n",
        "# Importing the libraries\n",
        "import numpy as np\n",
        "import matplotlib.pyplot as plt\n",
        "import pandas as pd"
      ],
      "execution_count": 1,
      "outputs": []
    },
    {
      "cell_type": "code",
      "metadata": {
        "id": "FHwjk1jJqvse"
      },
      "source": [
        "# Importing the training set\n",
        "dataset_train = pd.read_csv('Google_Stock_Price_Train.csv')\n",
        "training_set = dataset_train.iloc[:, 1:2].values"
      ],
      "execution_count": 2,
      "outputs": []
    },
    {
      "cell_type": "code",
      "metadata": {
        "id": "PZzopLhwqvse"
      },
      "source": [
        "# Feature Scaling\n",
        "from sklearn.preprocessing import MinMaxScaler\n",
        "sc = MinMaxScaler(feature_range = (0, 1))\n",
        "training_set_scaled = sc.fit_transform(training_set)"
      ],
      "execution_count": 3,
      "outputs": []
    },
    {
      "cell_type": "code",
      "metadata": {
        "colab": {
          "base_uri": "https://localhost:8080/"
        },
        "id": "k8BtZlZhqvse",
        "outputId": "dc45098a-8764-4778-de55-7310876e7dc9"
      },
      "source": [
        "# Creating a data structure with 60 timesteps and 1 output\n",
        "X_train = []\n",
        "y_train = []\n",
        "for i in range(60, 1258):\n",
        "    X_train.append(training_set_scaled[i-60:i, 0])\n",
        "    y_train.append(training_set_scaled[i, 0])\n",
        "X_train, y_train = np.array(X_train), np.array(y_train)\n",
        "\n",
        "# Reshaping\n",
        "X_train = np.reshape(X_train, (X_train.shape[0], X_train.shape[1], 1))\n",
        "X_train"
      ],
      "execution_count": 4,
      "outputs": [
        {
          "output_type": "execute_result",
          "data": {
            "text/plain": [
              "array([[[0.08581368],\n",
              "        [0.09701243],\n",
              "        [0.09433366],\n",
              "        ...,\n",
              "        [0.07846566],\n",
              "        [0.08034452],\n",
              "        [0.08497656]],\n",
              "\n",
              "       [[0.09701243],\n",
              "        [0.09433366],\n",
              "        [0.09156187],\n",
              "        ...,\n",
              "        [0.08034452],\n",
              "        [0.08497656],\n",
              "        [0.08627874]],\n",
              "\n",
              "       [[0.09433366],\n",
              "        [0.09156187],\n",
              "        [0.07984225],\n",
              "        ...,\n",
              "        [0.08497656],\n",
              "        [0.08627874],\n",
              "        [0.08471612]],\n",
              "\n",
              "       ...,\n",
              "\n",
              "       [[0.92106928],\n",
              "        [0.92438053],\n",
              "        [0.93048218],\n",
              "        ...,\n",
              "        [0.95475854],\n",
              "        [0.95204256],\n",
              "        [0.95163331]],\n",
              "\n",
              "       [[0.92438053],\n",
              "        [0.93048218],\n",
              "        [0.9299055 ],\n",
              "        ...,\n",
              "        [0.95204256],\n",
              "        [0.95163331],\n",
              "        [0.95725128]],\n",
              "\n",
              "       [[0.93048218],\n",
              "        [0.9299055 ],\n",
              "        [0.93113327],\n",
              "        ...,\n",
              "        [0.95163331],\n",
              "        [0.95725128],\n",
              "        [0.93796041]]])"
            ]
          },
          "metadata": {
            "tags": []
          },
          "execution_count": 4
        }
      ]
    },
    {
      "cell_type": "code",
      "metadata": {
        "id": "7PR3meJmqvsg"
      },
      "source": [
        "# Part 2 - Building the RNN\n",
        "\n",
        "# Importing the Keras libraries and packages\n",
        "from keras.models import Sequential\n",
        "from keras.layers import Dense\n",
        "from keras.layers import GRU\n",
        "from keras.layers import Dropout\n",
        "\n",
        "# Initialising the RNN\n",
        "regressor = Sequential()\n",
        "\n",
        "# Adding the first GRU layer\n",
        "regressor.add(GRU(units = 100, return_sequences = True, input_shape = (X_train.shape[1], 1)))\n",
        "\n",
        "# Adding a second GRU layer\n",
        "regressor.add(GRU(units = 75, return_sequences = True))\n",
        "\n",
        "# Adding a second GRU layer\n",
        "regressor.add(GRU(units = 50))\n",
        "\n",
        "\n",
        "# Adding the output layer\n",
        "regressor.add(Dense(units = 1))\n",
        "\n",
        "# Compiling the RNN\n",
        "regressor.compile(optimizer = 'adam', loss = 'mean_squared_error')"
      ],
      "execution_count": 5,
      "outputs": []
    },
    {
      "cell_type": "code",
      "metadata": {
        "colab": {
          "base_uri": "https://localhost:8080/"
        },
        "id": "Gb8Bq9Dcqvsh",
        "outputId": "37fc93de-064f-4bdd-a447-b391fbeabc2b"
      },
      "source": [
        "# Fitting the RNN to the Training set\n",
        "regressor.fit(X_train, y_train, epochs = 25, batch_size = 32)"
      ],
      "execution_count": 6,
      "outputs": [
        {
          "output_type": "stream",
          "text": [
            "Epoch 1/25\n",
            "38/38 [==============================] - 9s 96ms/step - loss: 0.0394\n",
            "Epoch 2/25\n",
            "38/38 [==============================] - 4s 101ms/step - loss: 9.6665e-04\n",
            "Epoch 3/25\n",
            "38/38 [==============================] - 4s 100ms/step - loss: 6.8290e-04\n",
            "Epoch 4/25\n",
            "38/38 [==============================] - 4s 99ms/step - loss: 5.8143e-04\n",
            "Epoch 5/25\n",
            "38/38 [==============================] - 4s 99ms/step - loss: 6.0310e-04\n",
            "Epoch 6/25\n",
            "38/38 [==============================] - 4s 97ms/step - loss: 5.3245e-04\n",
            "Epoch 7/25\n",
            "38/38 [==============================] - 4s 100ms/step - loss: 5.2079e-04\n",
            "Epoch 8/25\n",
            "38/38 [==============================] - 4s 97ms/step - loss: 4.6032e-04\n",
            "Epoch 9/25\n",
            "38/38 [==============================] - 4s 98ms/step - loss: 4.5536e-04\n",
            "Epoch 10/25\n",
            "38/38 [==============================] - 4s 98ms/step - loss: 5.6613e-04\n",
            "Epoch 11/25\n",
            "38/38 [==============================] - 4s 99ms/step - loss: 4.9567e-04\n",
            "Epoch 12/25\n",
            "38/38 [==============================] - 4s 99ms/step - loss: 3.9772e-04\n",
            "Epoch 13/25\n",
            "38/38 [==============================] - 4s 100ms/step - loss: 3.7027e-04\n",
            "Epoch 14/25\n",
            "38/38 [==============================] - 4s 99ms/step - loss: 5.0336e-04\n",
            "Epoch 15/25\n",
            "38/38 [==============================] - 4s 98ms/step - loss: 3.9678e-04\n",
            "Epoch 16/25\n",
            "38/38 [==============================] - 4s 98ms/step - loss: 3.7415e-04\n",
            "Epoch 17/25\n",
            "38/38 [==============================] - 4s 99ms/step - loss: 3.2729e-04\n",
            "Epoch 18/25\n",
            "38/38 [==============================] - 4s 98ms/step - loss: 3.6107e-04\n",
            "Epoch 19/25\n",
            "38/38 [==============================] - 4s 99ms/step - loss: 3.6408e-04\n",
            "Epoch 20/25\n",
            "38/38 [==============================] - 4s 99ms/step - loss: 3.1462e-04\n",
            "Epoch 21/25\n",
            "38/38 [==============================] - 4s 99ms/step - loss: 3.5530e-04\n",
            "Epoch 22/25\n",
            "38/38 [==============================] - 4s 98ms/step - loss: 3.7808e-04\n",
            "Epoch 23/25\n",
            "38/38 [==============================] - 4s 98ms/step - loss: 4.5836e-04\n",
            "Epoch 24/25\n",
            "38/38 [==============================] - 4s 98ms/step - loss: 3.1979e-04\n",
            "Epoch 25/25\n",
            "38/38 [==============================] - 4s 97ms/step - loss: 3.9585e-04\n"
          ],
          "name": "stdout"
        },
        {
          "output_type": "execute_result",
          "data": {
            "text/plain": [
              "<tensorflow.python.keras.callbacks.History at 0x7f329f51e1d0>"
            ]
          },
          "metadata": {
            "tags": []
          },
          "execution_count": 6
        }
      ]
    },
    {
      "cell_type": "code",
      "metadata": {
        "id": "JjJRPN0Oqvsi"
      },
      "source": [
        "\n",
        "# Part 3 - Making the predictions and visualising the results\n",
        "\n",
        "# Getting the real stock price of 2017\n",
        "dataset_test = pd.read_csv('Google_Stock_Price_Test.csv')\n",
        "real_stock_price = dataset_test.iloc[:, 1:2].values\n",
        "\n",
        "# Getting the predicted stock price of 2017\n",
        "dataset_total = pd.concat((dataset_train['Open'], dataset_test['Open']), axis = 0)\n",
        "inputs = dataset_total[len(dataset_total) - len(dataset_test) - 60:].values\n",
        "inputs = inputs.reshape(-1,1)\n",
        "inputs = sc.transform(inputs)\n",
        "X_test = []\n",
        "for i in range(60, 80):\n",
        "    X_test.append(inputs[i-60:i, 0])\n",
        "X_test = np.array(X_test)\n",
        "X_test = np.reshape(X_test, (X_test.shape[0], X_test.shape[1], 1))\n",
        "predicted_stock_price = regressor.predict(X_test)\n",
        "predicted_stock_price = sc.inverse_transform(predicted_stock_price)"
      ],
      "execution_count": 7,
      "outputs": []
    },
    {
      "cell_type": "code",
      "metadata": {
        "colab": {
          "base_uri": "https://localhost:8080/",
          "height": 295
        },
        "id": "Ecf2jnRsqvsj",
        "outputId": "43d75d39-3c85-47b2-a536-5fbabd93c8b0"
      },
      "source": [
        "# Visualising the results\n",
        "plt.plot(real_stock_price, color = 'red', label = 'Real Google Stock Price')\n",
        "plt.plot(predicted_stock_price, color = 'green', label = 'Predicted Google Stock Price')\n",
        "plt.title('Google Stock Price Prediction')\n",
        "plt.xlabel('Time')\n",
        "plt.ylabel('Google Stock Price')\n",
        "plt.legend()\n",
        "plt.show()"
      ],
      "execution_count": 8,
      "outputs": [
        {
          "output_type": "display_data",
          "data": {
            "image/png": "[encoded data removed]",
            "text/plain": [
              "<Figure size 432x288 with 1 Axes>"
            ]
          },
          "metadata": {
            "tags": [],
            "needs_background": "light"
          }
        }
      ]
    },
    {
      "cell_type": "markdown",
      "metadata": {
        "id": "VQ7k4heaqvsj"
      },
      "source": [
        "## FIM"
      ]
    }
  ]
}