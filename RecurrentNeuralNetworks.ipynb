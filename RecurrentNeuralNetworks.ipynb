{
 "cells": [
  {
   "cell_type": "markdown",
   "source": [
    "# Recurrent Neural Networks\n",
    "\n",
    "calcular o preço das ações do google"
   ],
   "metadata": {}
  },
  {
   "cell_type": "code",
   "execution_count": 120,
   "source": [
    "# Part 1 - Data Preprocessing\n",
    "\n",
    "# Importing the libraries\n",
    "import numpy as np\n",
    "import matplotlib.pyplot as plt\n",
    "import pandas as pd"
   ],
   "outputs": [],
   "metadata": {}
  },
  {
   "cell_type": "code",
   "execution_count": 121,
   "source": [
    "# Importing the training set\n",
    "dataset_train = pd.read_csv('Google_Stock_Price_Train.csv')\n",
    "training_set = dataset_train.iloc[:, 1:2].values"
   ],
   "outputs": [],
   "metadata": {}
  },
  {
   "cell_type": "code",
   "execution_count": 122,
   "source": [
    "# Feature Scaling\r\n",
    "from sklearn.preprocessing import MinMaxScaler\r\n",
    "sc = MinMaxScaler(feature_range = (0, 1))\r\n",
    "training_set_scaled = sc.fit_transform(training_set)"
   ],
   "outputs": [],
   "metadata": {}
  },
  {
   "cell_type": "code",
   "execution_count": 123,
   "source": [
    "# Creating a data structure with 60 timesteps and 1 output\r\n",
    "X_train = []\r\n",
    "y_train = []\r\n",
    "for i in range(60, 1258):\r\n",
    "    X_train.append(training_set_scaled[i-60:i, 0])\r\n",
    "    y_train.append(training_set_scaled[i, 0])\r\n",
    "X_train, y_train = np.array(X_train), np.array(y_train)\r\n",
    "\r\n",
    "# Reshaping\r\n",
    "X_train = np.reshape(X_train, (X_train.shape[0], X_train.shape[1], 1))\r\n",
    "X_train"
   ],
   "outputs": [
    {
     "output_type": "execute_result",
     "data": {
      "text/plain": [
       "array([[[0.08581368],\n",
       "        [0.09701243],\n",
       "        [0.09433366],\n",
       "        ...,\n",
       "        [0.07846566],\n",
       "        [0.08034452],\n",
       "        [0.08497656]],\n",
       "\n",
       "       [[0.09701243],\n",
       "        [0.09433366],\n",
       "        [0.09156187],\n",
       "        ...,\n",
       "        [0.08034452],\n",
       "        [0.08497656],\n",
       "        [0.08627874]],\n",
       "\n",
       "       [[0.09433366],\n",
       "        [0.09156187],\n",
       "        [0.07984225],\n",
       "        ...,\n",
       "        [0.08497656],\n",
       "        [0.08627874],\n",
       "        [0.08471612]],\n",
       "\n",
       "       ...,\n",
       "\n",
       "       [[0.92106928],\n",
       "        [0.92438053],\n",
       "        [0.93048218],\n",
       "        ...,\n",
       "        [0.95475854],\n",
       "        [0.95204256],\n",
       "        [0.95163331]],\n",
       "\n",
       "       [[0.92438053],\n",
       "        [0.93048218],\n",
       "        [0.9299055 ],\n",
       "        ...,\n",
       "        [0.95204256],\n",
       "        [0.95163331],\n",
       "        [0.95725128]],\n",
       "\n",
       "       [[0.93048218],\n",
       "        [0.9299055 ],\n",
       "        [0.93113327],\n",
       "        ...,\n",
       "        [0.95163331],\n",
       "        [0.95725128],\n",
       "        [0.93796041]]])"
      ]
     },
     "metadata": {},
     "execution_count": 123
    }
   ],
   "metadata": {}
  },
  {
   "cell_type": "code",
   "execution_count": 136,
   "source": [
    "# Part 2 - Building the RNN\r\n",
    "\r\n",
    "# Importing the Keras libraries and packages\r\n",
    "from keras.models import Sequential\r\n",
    "from keras.layers import Dense\r\n",
    "from keras.layers import LSTM\r\n",
    "from keras.layers import Dropout\r\n",
    "\r\n",
    "# Initialising the RNN\r\n",
    "regressor = Sequential()\r\n",
    "\r\n",
    "# Adding the first LSTM layer and some Dropout regularisation\r\n",
    "regressor.add(LSTM(units = 25, return_sequences = True, input_shape = (X_train.shape[1], 1)))\r\n",
    "regressor.add(Dropout(0.2))\r\n",
    "\r\n",
    "# Adding a second LSTM layer and some Dropout regularisation\r\n",
    "regressor.add(LSTM(units = 100, return_sequences = True))\r\n",
    "regressor.add(Dropout(0.2))\r\n",
    "\r\n",
    "# Adding a third LSTM layer and some Dropout regularisation\r\n",
    "regressor.add(LSTM(units = 200, return_sequences = True))\r\n",
    "regressor.add(Dropout(0.2))\r\n",
    "\r\n",
    "# Adding a fourth LSTM layer and some Dropout regularisation\r\n",
    "regressor.add(LSTM(units = 100))\r\n",
    "regressor.add(Dropout(0.2))\r\n",
    "\r\n",
    "# Adding the output layer\r\n",
    "regressor.add(Dense(units = 1))\r\n",
    "\r\n",
    "# Compiling the RNN\r\n",
    "regressor.compile(optimizer = 'adam', loss = 'mean_squared_error')"
   ],
   "outputs": [],
   "metadata": {}
  },
  {
   "cell_type": "code",
   "execution_count": 137,
   "source": [
    "# Fitting the RNN to the Training set\r\n",
    "regressor.fit(X_train, y_train, epochs = 25, batch_size = 64)"
   ],
   "outputs": [
    {
     "output_type": "stream",
     "name": "stdout",
     "text": [
      "Epoch 1/25\n",
      "19/19 [==============================] - 11s 213ms/step - loss: 0.0622\n",
      "Epoch 2/25\n",
      "19/19 [==============================] - 4s 204ms/step - loss: 0.0093\n",
      "Epoch 3/25\n",
      "19/19 [==============================] - 4s 205ms/step - loss: 0.0052\n",
      "Epoch 4/25\n",
      "19/19 [==============================] - 4s 211ms/step - loss: 0.0041\n",
      "Epoch 5/25\n",
      "19/19 [==============================] - 4s 215ms/step - loss: 0.0040\n",
      "Epoch 6/25\n",
      "19/19 [==============================] - 4s 210ms/step - loss: 0.0039\n",
      "Epoch 7/25\n",
      "19/19 [==============================] - 4s 211ms/step - loss: 0.0041\n",
      "Epoch 8/25\n",
      "19/19 [==============================] - 4s 210ms/step - loss: 0.0040\n",
      "Epoch 9/25\n",
      "19/19 [==============================] - 4s 211ms/step - loss: 0.0038\n",
      "Epoch 10/25\n",
      "19/19 [==============================] - 4s 209ms/step - loss: 0.0038\n",
      "Epoch 11/25\n",
      "19/19 [==============================] - 4s 210ms/step - loss: 0.0035\n",
      "Epoch 12/25\n",
      "19/19 [==============================] - 4s 212ms/step - loss: 0.0035\n",
      "Epoch 13/25\n",
      "19/19 [==============================] - 4s 211ms/step - loss: 0.0038\n",
      "Epoch 14/25\n",
      "19/19 [==============================] - 4s 215ms/step - loss: 0.0032\n",
      "Epoch 15/25\n",
      "19/19 [==============================] - 4s 210ms/step - loss: 0.0033\n",
      "Epoch 16/25\n",
      "19/19 [==============================] - 4s 214ms/step - loss: 0.0033\n",
      "Epoch 17/25\n",
      "19/19 [==============================] - 4s 220ms/step - loss: 0.0033\n",
      "Epoch 18/25\n",
      "19/19 [==============================] - 4s 213ms/step - loss: 0.0033\n",
      "Epoch 19/25\n",
      "19/19 [==============================] - 4s 211ms/step - loss: 0.0030\n",
      "Epoch 20/25\n",
      "19/19 [==============================] - 4s 218ms/step - loss: 0.0031\n",
      "Epoch 21/25\n",
      "19/19 [==============================] - 4s 211ms/step - loss: 0.0030\n",
      "Epoch 22/25\n",
      "19/19 [==============================] - 4s 213ms/step - loss: 0.0036\n",
      "Epoch 23/25\n",
      "19/19 [==============================] - 4s 213ms/step - loss: 0.0031\n",
      "Epoch 24/25\n",
      "19/19 [==============================] - 4s 210ms/step - loss: 0.0030\n",
      "Epoch 25/25\n",
      "19/19 [==============================] - 4s 214ms/step - loss: 0.0031\n"
     ]
    },
    {
     "output_type": "execute_result",
     "data": {
      "text/plain": [
       "<keras.callbacks.History at 0x21e5b401b50>"
      ]
     },
     "metadata": {},
     "execution_count": 137
    }
   ],
   "metadata": {}
  },
  {
   "cell_type": "code",
   "execution_count": 142,
   "source": [
    "# Part 3 - Making the predictions and visualising the results\r\n",
    "\r\n",
    "# Getting the real stock price of 2017\r\n",
    "dataset_test = pd.read_csv('Google_Stock_Price_Test.csv')\r\n",
    "real_stock_price = dataset_test.iloc[:, 1:2].values\r\n",
    "\r\n",
    "# Getting the predicted stock price of 2017\r\n",
    "dataset_total = pd.concat((dataset_train['Open'], dataset_test['Open']), axis = 0)\r\n",
    "inputs = dataset_total[len(dataset_total) - len(dataset_test) - 60:].values\r\n",
    "inputs = inputs.reshape(-1,1)\r\n",
    "inputs = sc.transform(inputs)\r\n",
    "X_test = []\r\n",
    "for i in range(60, 80):\r\n",
    "    X_test.append(inputs[i-60:i, 0])\r\n",
    "X_test = np.array(X_test)\r\n",
    "X_test = np.reshape(X_test, (X_test.shape[0], X_test.shape[1], 1))\r\n",
    "predicted_stock_price = regressor.predict(X_test)\r\n",
    "predicted_stock_price = sc.inverse_transform(predicted_stock_price)"
   ],
   "outputs": [],
   "metadata": {}
  },
  {
   "cell_type": "code",
   "execution_count": 143,
   "source": [
    "predicted_stock_price = regressor.predict(X_test)\r\n",
    "predicted_stock_price = sc.inverse_transform(predicted_stock_price)\r\n",
    "predicted_stock_price"
   ],
   "outputs": [
    {
     "output_type": "execute_result",
     "data": {
      "text/plain": [
       "array([[789.1683 ],\n",
       "       [789.885  ],\n",
       "       [790.22546],\n",
       "       [790.25775],\n",
       "       [790.10504],\n",
       "       [789.94354],\n",
       "       [789.92926],\n",
       "       [790.1507 ],\n",
       "       [790.6495 ],\n",
       "       [791.424  ],\n",
       "       [792.43646],\n",
       "       [793.6221 ],\n",
       "       [794.90326],\n",
       "       [796.21484],\n",
       "       [797.50464],\n",
       "       [798.81   ],\n",
       "       [800.2135 ],\n",
       "       [801.81995],\n",
       "       [803.6784 ],\n",
       "       [805.68085]], dtype=float32)"
      ]
     },
     "metadata": {},
     "execution_count": 143
    }
   ],
   "metadata": {}
  },
  {
   "cell_type": "code",
   "execution_count": 144,
   "source": [
    "# Visualising the results\r\n",
    "plt.plot(real_stock_price, color = 'red', label = 'Real Google Stock Price')\r\n",
    "plt.plot(predicted_stock_price, color = 'blue', label = 'Predicted Google Stock Price')\r\n",
    "plt.title('Google Stock Price Prediction')\r\n",
    "plt.xlabel('Time')\r\n",
    "plt.ylabel('Google Stock Price')\r\n",
    "plt.legend()\r\n",
    "plt.show()"
   ],
   "outputs": [
    {
     "output_type": "display_data",
     "data": {
      "image/png": "[encoded data removed]",
      "text/plain": [
       "<Figure size 432x288 with 1 Axes>"
      ]
     },
     "metadata": {
      "needs_background": "light"
     }
    }
   ],
   "metadata": {}
  },
  {
   "cell_type": "markdown",
   "source": [
    "## FIM"
   ],
   "metadata": {}
  }
 ],
 "metadata": {
  "kernelspec": {
   "display_name": "Python 3",
   "language": "python",
   "name": "python3"
  },
  "language_info": {
   "codemirror_mode": {
    "name": "ipython",
    "version": 3
   },
   "file_extension": ".py",
   "mimetype": "text/x-python",
   "name": "python",
   "nbconvert_exporter": "python",
   "pygments_lexer": "ipython3",
   "version": "3.7.1"
  }
 },
 "nbformat": 4,
 "nbformat_minor": 4
}