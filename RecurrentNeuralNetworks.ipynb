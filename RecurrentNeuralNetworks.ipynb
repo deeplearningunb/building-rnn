{
 "cells": [
  {
   "cell_type": "markdown",
   "metadata": {},
   "source": [
    "# Recurrent Neural Networks\n",
    "\n",
    "calcular o preço das ações do google"
   ]
  },
  {
   "cell_type": "code",
   "execution_count": 1,
   "metadata": {},
   "outputs": [],
   "source": [
    "# Part 1 - Data Preprocessing\n",
    "\n",
    "# Importing the libraries\n",
    "import numpy as np\n",
    "import matplotlib.pyplot as plt\n",
    "import pandas as pd"
   ]
  },
  {
   "cell_type": "code",
   "execution_count": 2,
   "metadata": {},
   "outputs": [],
   "source": [
    "# Importing the training set\n",
    "dataset_train = pd.read_csv('Google_Stock_Price_Train.csv')\n",
    "training_set = dataset_train.iloc[:, 1:2].values"
   ]
  },
  {
   "cell_type": "code",
   "execution_count": 3,
   "metadata": {},
   "outputs": [],
   "source": [
    "# Feature Scaling\n",
    "from sklearn.preprocessing import MinMaxScaler\n",
    "sc = MinMaxScaler(feature_range = (0, 1))\n",
    "training_set_scaled = sc.fit_transform(training_set)"
   ]
  },
  {
   "cell_type": "code",
   "execution_count": 4,
   "metadata": {},
   "outputs": [
    {
     "data": {
      "text/plain": [
       "array([[[0.08581368],\n",
       "        [0.09701243],\n",
       "        [0.09433366],\n",
       "        ...,\n",
       "        [0.07846566],\n",
       "        [0.08034452],\n",
       "        [0.08497656]],\n",
       "\n",
       "       [[0.09701243],\n",
       "        [0.09433366],\n",
       "        [0.09156187],\n",
       "        ...,\n",
       "        [0.08034452],\n",
       "        [0.08497656],\n",
       "        [0.08627874]],\n",
       "\n",
       "       [[0.09433366],\n",
       "        [0.09156187],\n",
       "        [0.07984225],\n",
       "        ...,\n",
       "        [0.08497656],\n",
       "        [0.08627874],\n",
       "        [0.08471612]],\n",
       "\n",
       "       ...,\n",
       "\n",
       "       [[0.92106928],\n",
       "        [0.92438053],\n",
       "        [0.93048218],\n",
       "        ...,\n",
       "        [0.95475854],\n",
       "        [0.95204256],\n",
       "        [0.95163331]],\n",
       "\n",
       "       [[0.92438053],\n",
       "        [0.93048218],\n",
       "        [0.9299055 ],\n",
       "        ...,\n",
       "        [0.95204256],\n",
       "        [0.95163331],\n",
       "        [0.95725128]],\n",
       "\n",
       "       [[0.93048218],\n",
       "        [0.9299055 ],\n",
       "        [0.93113327],\n",
       "        ...,\n",
       "        [0.95163331],\n",
       "        [0.95725128],\n",
       "        [0.93796041]]])"
      ]
     },
     "execution_count": 4,
     "metadata": {},
     "output_type": "execute_result"
    }
   ],
   "source": [
    "# Creating a data structure with 60 timesteps and 1 output\n",
    "X_train = []\n",
    "y_train = []\n",
    "for i in range(60, 1258):\n",
    "    X_train.append(training_set_scaled[i-60:i, 0])\n",
    "    y_train.append(training_set_scaled[i, 0])\n",
    "X_train, y_train = np.array(X_train), np.array(y_train)\n",
    "\n",
    "# Reshaping\n",
    "X_train = np.reshape(X_train, (X_train.shape[0], X_train.shape[1], 1))\n",
    "X_train"
   ]
  },
  {
   "cell_type": "code",
   "execution_count": 5,
   "metadata": {},
   "outputs": [],
   "source": [
    "# Importing the Keras libraries and packages\n",
    "from keras.models import Sequential\n",
    "from keras.layers import Dense\n",
    "from keras.layers import GRU\n",
    "from keras.layers import Dropout"
   ]
  },
  {
   "cell_type": "code",
   "execution_count": 6,
   "metadata": {},
   "outputs": [],
   "source": [
    "# Part 2 - Building the RNN\n",
    "\n",
    "def create_model(optimizer = 'adam',\n",
    "                 un1 = 50, un2 = 50, un3 = 50, un4 = 50,\n",
    "                 act1 = 'tanh', act2 = 'tanh', act3 = 'tanh', act4 = 'tanh',\n",
    "                 drop1 = 0.2, drop2 = 0.2, drop3 = 0.2, drop4 = 0.2):\n",
    "    \n",
    "    # Initialising the RNN\n",
    "    regressor = Sequential()\n",
    "\n",
    "    # Adding the first LSTM layer and some Dropout regularisation\n",
    "    regressor.add(GRU(units = un1, activation=act1, return_sequences = True, input_shape = (X_train.shape[1], 1)))\n",
    "    regressor.add(Dropout(drop1))\n",
    "    \n",
    "    # Adding a second LSTM layer and some Dropout regularisation\n",
    "    regressor.add(GRU(units = un2,activation=act2, return_sequences = True))\n",
    "    regressor.add(Dropout(drop2))\n",
    "    \n",
    "    # Adding a third LSTM layer and some Dropout regularisation\n",
    "    regressor.add(GRU(units = un3,activation=act3, return_sequences = True))\n",
    "    regressor.add(Dropout(drop3))\n",
    "    \n",
    "    # Adding a fourth LSTM layer and some Dropout regularisation\n",
    "    regressor.add(GRU(units = un4, activation=act1))\n",
    "    regressor.add(Dropout(drop4))\n",
    "    \n",
    "    # Adding the output layer\n",
    "    regressor.add(Dense(units = 1))\n",
    "\n",
    "    # Compiling the RNN\n",
    "    regressor.compile(optimizer = optimizer, loss = 'mean_squared_error')\n",
    "    \n",
    "    return regressor"
   ]
  },
  {
   "cell_type": "code",
   "execution_count": 7,
   "metadata": {},
   "outputs": [],
   "source": [
    "# Import kerasclassifier to build the model and RandomizedSearchCV to tune the hyperparamters \n",
    "\n",
    "from keras.wrappers.scikit_learn import KerasRegressor\n",
    "from sklearn.model_selection import RandomizedSearchCV"
   ]
  },
  {
   "cell_type": "code",
   "execution_count": 8,
   "metadata": {},
   "outputs": [],
   "source": [
    "# Building model\n",
    "\n",
    "model = KerasRegressor(build_fn=create_model, verbose=1)\n",
    "\n",
    "# Creating samples of optimizers, units, dropouts and activations\n",
    "\n",
    "optimizers = ['adam','rmsprop']\n",
    "units = [20,50,80]\n",
    "dropouts = [0.1,0.2,0.3]\n",
    "activations = ['tanh','sigmoid','relu']\n",
    "\n",
    "param_grid = {'optimizer':optimizers,\n",
    "              'un1':units,'un2':units,'un3':units,'un4':units,\n",
    "              'act1':activations,'act2':activations,'act3':activations,'act4':activations,\n",
    "              'drop1':dropouts,'drop2':dropouts,'drop3':dropouts,'drop4':dropouts}\n",
    "\n",
    "randomCV = RandomizedSearchCV(estimator=model, param_distributions = param_grid, cv = 3, n_iter=4,n_jobs=-1)"
   ]
  },
  {
   "cell_type": "code",
   "execution_count": 9,
   "metadata": {},
   "outputs": [
    {
     "name": "stdout",
     "output_type": "stream",
     "text": [
      "Epoch 1/10\n",
      "38/38 [==============================] - 13s 104ms/step - loss: 0.0321\n",
      "Epoch 2/10\n",
      "38/38 [==============================] - 4s 105ms/step - loss: 0.0105\n",
      "Epoch 3/10\n",
      "38/38 [==============================] - 4s 103ms/step - loss: 0.0104\n",
      "Epoch 4/10\n",
      "38/38 [==============================] - 4s 114ms/step - loss: 0.0092\n",
      "Epoch 5/10\n",
      "38/38 [==============================] - 5s 137ms/step - loss: 0.0085\n",
      "Epoch 6/10\n",
      "38/38 [==============================] - 5s 129ms/step - loss: 0.0070\n",
      "Epoch 7/10\n",
      "38/38 [==============================] - 4s 102ms/step - loss: 0.0069\n",
      "Epoch 8/10\n",
      "38/38 [==============================] - 4s 99ms/step - loss: 0.0069\n",
      "Epoch 9/10\n",
      "38/38 [==============================] - 4s 104ms/step - loss: 0.0051\n",
      "Epoch 10/10\n",
      "38/38 [==============================] - 4s 113ms/step - loss: 0.0057\n"
     ]
    },
    {
     "data": {
      "text/plain": [
       "RandomizedSearchCV(cv=3,\n",
       "                   estimator=<keras.wrappers.scikit_learn.KerasRegressor object at 0x00000199E04BF1D0>,\n",
       "                   n_iter=4, n_jobs=-1,\n",
       "                   param_distributions={'act1': ['tanh', 'sigmoid', 'relu'],\n",
       "                                        'act2': ['tanh', 'sigmoid', 'relu'],\n",
       "                                        'act3': ['tanh', 'sigmoid', 'relu'],\n",
       "                                        'act4': ['tanh', 'sigmoid', 'relu'],\n",
       "                                        'drop1': [0.1, 0.2, 0.3],\n",
       "                                        'drop2': [0.1, 0.2, 0.3],\n",
       "                                        'drop3': [0.1, 0.2, 0.3],\n",
       "                                        'drop4': [0.1, 0.2, 0.3],\n",
       "                                        'optimizer': ['adam', 'rmsprop'],\n",
       "                                        'un1': [20, 50, 80],\n",
       "                                        'un2': [20, 50, 80],\n",
       "                                        'un3': [20, 50, 80],\n",
       "                                        'un4': [20, 50, 80]})"
      ]
     },
     "execution_count": 9,
     "metadata": {},
     "output_type": "execute_result"
    }
   ],
   "source": [
    "# Fitting the model using RandomizedSearchCV to in the Training set to find best params\n",
    "randomCV.fit(X_train, y_train, epochs = 10, batch_size = 32)"
   ]
  },
  {
   "cell_type": "code",
   "execution_count": 10,
   "metadata": {},
   "outputs": [
    {
     "data": {
      "text/plain": [
       "-0.008888628295001885"
      ]
     },
     "execution_count": 10,
     "metadata": {},
     "output_type": "execute_result"
    }
   ],
   "source": [
    "randomCV.best_score_"
   ]
  },
  {
   "cell_type": "code",
   "execution_count": 11,
   "metadata": {},
   "outputs": [
    {
     "data": {
      "text/plain": [
       "{'un4': 80,\n",
       " 'un3': 20,\n",
       " 'un2': 80,\n",
       " 'un1': 80,\n",
       " 'optimizer': 'rmsprop',\n",
       " 'drop4': 0.3,\n",
       " 'drop3': 0.2,\n",
       " 'drop2': 0.1,\n",
       " 'drop1': 0.1,\n",
       " 'act4': 'relu',\n",
       " 'act3': 'tanh',\n",
       " 'act2': 'tanh',\n",
       " 'act1': 'tanh'}"
      ]
     },
     "execution_count": 11,
     "metadata": {},
     "output_type": "execute_result"
    }
   ],
   "source": [
    "randomCV.best_params_"
   ]
  },
  {
   "cell_type": "code",
   "execution_count": 12,
   "metadata": {},
   "outputs": [
    {
     "name": "stdout",
     "output_type": "stream",
     "text": [
      "1/1 [==============================] - 1s 1s/step\n"
     ]
    }
   ],
   "source": [
    "# Part 3 - Making the predictions and visualising the results\n",
    "\n",
    "# Getting the real stock price of 2017\n",
    "dataset_test = pd.read_csv('Google_Stock_Price_Test.csv')\n",
    "real_stock_price = dataset_test.iloc[:, 1:2].values\n",
    "\n",
    "# Getting the predicted stock price of 2017\n",
    "dataset_total = pd.concat((dataset_train['Open'], dataset_test['Open']), axis = 0)\n",
    "inputs = dataset_total[len(dataset_total) - len(dataset_test) - 60:].values\n",
    "inputs = inputs.reshape(-1,1)\n",
    "inputs = sc.transform(inputs)\n",
    "X_test = []\n",
    "for i in range(60, 80):\n",
    "    X_test.append(inputs[i-60:i, 0])\n",
    "X_test = np.array(X_test)\n",
    "X_test = np.reshape(X_test, (X_test.shape[0], X_test.shape[1], 1))\n",
    "predicted_stock_price = randomCV.predict(X_test)\n",
    "predicted_stock_price = sc.inverse_transform(predicted_stock_price.reshape(-1,1))"
   ]
  },
  {
   "cell_type": "code",
   "execution_count": 13,
   "metadata": {},
   "outputs": [
    {
     "data": {
      "image/png": "[encoded data removed]",
      "text/plain": [
       "<Figure size 432x288 with 1 Axes>"
      ]
     },
     "metadata": {
      "needs_background": "light"
     },
     "output_type": "display_data"
    }
   ],
   "source": [
    "# Visualising the results\n",
    "plt.plot(real_stock_price, color = 'red', label = 'Real Google Stock Price')\n",
    "plt.plot(predicted_stock_price, color = 'blue', label = 'Predicted Google Stock Price')\n",
    "plt.title('Google Stock Price Prediction')\n",
    "plt.xlabel('Time')\n",
    "plt.ylabel('Google Stock Price')\n",
    "plt.legend()\n",
    "plt.show()"
   ]
  },
  {
   "cell_type": "markdown",
   "metadata": {},
   "source": [
    "## FIM"
   ]
  }
 ],
 "metadata": {
  "kernelspec": {
   "display_name": "Python 3",
   "language": "python",
   "name": "python3"
  },
  "language_info": {
   "codemirror_mode": {
    "name": "ipython",
    "version": 3
   },
   "file_extension": ".py",
   "mimetype": "text/x-python",
   "name": "python",
   "nbconvert_exporter": "python",
   "pygments_lexer": "ipython3",
   "version": "3.6.13"
  }
 },
 "nbformat": 4,
 "nbformat_minor": 4
}
