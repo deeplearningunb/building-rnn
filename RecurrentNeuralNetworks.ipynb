{
 "cells": [
  {
   "cell_type": "markdown",
   "metadata": {},
   "source": [
    "# Recurrent Neural Networks\n",
    "\n",
    "calcular o preço das ações do google"
   ]
  },
  {
   "cell_type": "markdown",
   "metadata": {},
   "source": [
    "### Part 1 - Data Preprocessing\n",
    "\n",
    "#### Alterações\n",
    "\n",
    "* Considerar de 60 dias para 80 dias"
   ]
  },
  {
   "cell_type": "code",
   "execution_count": 360,
   "metadata": {},
   "outputs": [],
   "source": [
    "# Importing the libraries\n",
    "import numpy as np\n",
    "import matplotlib.pyplot as plt\n",
    "import pandas as pd"
   ]
  },
  {
   "cell_type": "code",
   "execution_count": 361,
   "metadata": {},
   "outputs": [],
   "source": [
    "# Importing the training set\n",
    "dataset_train = pd.read_csv('Google_Stock_Price_Train.csv')\n",
    "training_set = dataset_train.iloc[:, 1:2].values"
   ]
  },
  {
   "cell_type": "code",
   "execution_count": 362,
   "metadata": {},
   "outputs": [],
   "source": [
    "# Feature Scaling\n",
    "from sklearn.preprocessing import MinMaxScaler\n",
    "sc = MinMaxScaler(feature_range = (0, 1))\n",
    "training_set_scaled = sc.fit_transform(training_set)"
   ]
  },
  {
   "cell_type": "code",
   "execution_count": 363,
   "metadata": {},
   "outputs": [],
   "source": [
    "# Creating a data structure with 80 timesteps and 1 output\n",
    "X_train = []\n",
    "y_train = []\n",
    "for i in range(80, 1258):\n",
    "    X_train.append(training_set_scaled[i-80:i, 0])\n",
    "    y_train.append(training_set_scaled[i, 0])\n",
    "X_train, y_train = np.array(X_train), np.array(y_train)\n",
    "\n",
    "# Reshaping\n",
    "X_train = np.reshape(X_train, (X_train.shape[0], X_train.shape[1], 1))"
   ]
  },
  {
   "cell_type": "markdown",
   "metadata": {},
   "source": [
    "### Part 2 - Building the RNN\n",
    "\n",
    "#### Alterações\n",
    "\n",
    "* Depois de vários testes trocando os hyper-parâmetros, praticamente todas as alterações converg\n",
    "* Remoção das camadas de Dropout, pois nesse caso é melhor que a rede se ajuste melhor ao conjunto de treinamento e seja capaz de reagir mais rapidamente as mudanças durante a predição\n",
    "* Alteração das camadas para o formato 60 -> 120 -> 60 -> 1\n",
    "* Alteração do batch_size para 16\n",
    "* Alteração da quantidade de épocas para 50 ( Na configuração atual, depois da época 30 a rede não consegue melhorar o aprendizado diminuindo o loss abaixo de 3.e-4)"
   ]
  },
  {
   "cell_type": "code",
   "execution_count": 364,
   "metadata": {},
   "outputs": [],
   "source": [
    "# Importing the Keras libraries and packages\n",
    "from keras.models import Sequential\n",
    "from keras.layers import Dense\n",
    "from keras.layers import LSTM\n",
    "from keras.layers import Dropout\n",
    "\n",
    "# Initialising the RNN\n",
    "regressor = Sequential()\n",
    "\n",
    "# Adding the first LSTM layer and some Dropout regularisation\n",
    "regressor.add(LSTM(units = 60, return_sequences = True, input_shape = (X_train.shape[1], 1)))\n",
    "\n",
    "# Adding a second LSTM layer and some Dropout regularisation\n",
    "regressor.add(LSTM(units = 120, return_sequences = True))\n",
    "\n",
    "# Adding a third LSTM layer and some Dropout regularisation\n",
    "regressor.add(LSTM(units = 120, return_sequences = True))\n",
    "\n",
    "# Adding a fourth LSTM layer and some Dropout regularisation\n",
    "regressor.add(LSTM(units = 60))\n",
    "\n",
    "# Adding the output layer\n",
    "regressor.add(Dense(units = 1))\n",
    "\n",
    "# Compiling the RNN\n",
    "regressor.compile(optimizer = 'adam', loss = 'mean_squared_error')"
   ]
  },
  {
   "cell_type": "code",
   "execution_count": 365,
   "metadata": {},
   "outputs": [
    {
     "name": "stdout",
     "output_type": "stream",
     "text": [
      "Epoch 1/50\n",
      "74/74 [==============================] - 8s 105ms/step - loss: 0.0187\n",
      "Epoch 2/50\n",
      "74/74 [==============================] - 8s 104ms/step - loss: 0.0020\n",
      "Epoch 3/50\n",
      "74/74 [==============================] - 8s 106ms/step - loss: 0.0021\n",
      "Epoch 4/50\n",
      "74/74 [==============================] - 8s 106ms/step - loss: 0.0019\n",
      "Epoch 5/50\n",
      "74/74 [==============================] - 8s 106ms/step - loss: 0.0016\n",
      "Epoch 6/50\n",
      "74/74 [==============================] - 8s 107ms/step - loss: 0.0019\n",
      "Epoch 7/50\n",
      "74/74 [==============================] - 8s 106ms/step - loss: 0.0018\n",
      "Epoch 8/50\n",
      "74/74 [==============================] - 8s 106ms/step - loss: 0.0014\n",
      "Epoch 9/50\n",
      "74/74 [==============================] - 8s 106ms/step - loss: 0.0018\n",
      "Epoch 10/50\n",
      "74/74 [==============================] - 8s 106ms/step - loss: 0.0013\n",
      "Epoch 11/50\n",
      "74/74 [==============================] - 8s 108ms/step - loss: 0.0014\n",
      "Epoch 12/50\n",
      "74/74 [==============================] - 8s 107ms/step - loss: 0.0015\n",
      "Epoch 13/50\n",
      "74/74 [==============================] - 8s 107ms/step - loss: 0.0012\n",
      "Epoch 14/50\n",
      "74/74 [==============================] - 8s 107ms/step - loss: 0.0013\n",
      "Epoch 15/50\n",
      "74/74 [==============================] - 8s 107ms/step - loss: 0.0012\n",
      "Epoch 16/50\n",
      "74/74 [==============================] - 8s 107ms/step - loss: 0.0010\n",
      "Epoch 17/50\n",
      "74/74 [==============================] - 8s 108ms/step - loss: 9.6976e-04\n",
      "Epoch 18/50\n",
      "74/74 [==============================] - 8s 107ms/step - loss: 9.4718e-04\n",
      "Epoch 19/50\n",
      "74/74 [==============================] - 8s 108ms/step - loss: 8.1932e-04\n",
      "Epoch 20/50\n",
      "74/74 [==============================] - 8s 108ms/step - loss: 8.4705e-04\n",
      "Epoch 21/50\n",
      "74/74 [==============================] - 8s 107ms/step - loss: 6.4281e-04\n",
      "Epoch 22/50\n",
      "74/74 [==============================] - 8s 107ms/step - loss: 6.1429e-04\n",
      "Epoch 23/50\n",
      "74/74 [==============================] - 8s 107ms/step - loss: 6.7711e-04\n",
      "Epoch 24/50\n",
      "74/74 [==============================] - 8s 107ms/step - loss: 6.0720e-04\n",
      "Epoch 25/50\n",
      "74/74 [==============================] - 8s 109ms/step - loss: 7.1161e-04\n",
      "Epoch 26/50\n",
      "74/74 [==============================] - 8s 108ms/step - loss: 5.3439e-04\n",
      "Epoch 27/50\n",
      "74/74 [==============================] - 8s 108ms/step - loss: 5.4038e-04\n",
      "Epoch 28/50\n",
      "74/74 [==============================] - 8s 108ms/step - loss: 8.0833e-04\n",
      "Epoch 29/50\n",
      "74/74 [==============================] - 8s 109ms/step - loss: 5.2929e-04\n",
      "Epoch 30/50\n",
      "74/74 [==============================] - 8s 107ms/step - loss: 4.9646e-04\n",
      "Epoch 31/50\n",
      "74/74 [==============================] - 8s 107ms/step - loss: 3.8778e-04\n",
      "Epoch 32/50\n",
      "74/74 [==============================] - 8s 113ms/step - loss: 3.9926e-04\n",
      "Epoch 33/50\n",
      "74/74 [==============================] - 8s 106ms/step - loss: 4.4514e-04\n",
      "Epoch 34/50\n",
      "74/74 [==============================] - 8s 107ms/step - loss: 3.5440e-04\n",
      "Epoch 35/50\n",
      "74/74 [==============================] - 8s 107ms/step - loss: 3.8468e-04\n",
      "Epoch 36/50\n",
      "74/74 [==============================] - 8s 107ms/step - loss: 3.7802e-04\n",
      "Epoch 37/50\n",
      "74/74 [==============================] - 8s 106ms/step - loss: 3.9524e-04\n",
      "Epoch 38/50\n",
      "74/74 [==============================] - 8s 107ms/step - loss: 3.5097e-04\n",
      "Epoch 39/50\n",
      "74/74 [==============================] - 8s 107ms/step - loss: 4.3551e-04\n",
      "Epoch 40/50\n",
      "74/74 [==============================] - 8s 107ms/step - loss: 5.8207e-04\n",
      "Epoch 41/50\n",
      "74/74 [==============================] - 8s 108ms/step - loss: 4.8309e-04\n",
      "Epoch 42/50\n",
      "74/74 [==============================] - 8s 109ms/step - loss: 4.6248e-04\n",
      "Epoch 43/50\n",
      "74/74 [==============================] - 8s 108ms/step - loss: 3.8530e-04\n",
      "Epoch 44/50\n",
      "74/74 [==============================] - 8s 108ms/step - loss: 4.4723e-04\n",
      "Epoch 45/50\n",
      "74/74 [==============================] - 8s 107ms/step - loss: 3.7111e-04\n",
      "Epoch 46/50\n",
      "74/74 [==============================] - 8s 107ms/step - loss: 3.3151e-04\n",
      "Epoch 47/50\n",
      "74/74 [==============================] - 8s 107ms/step - loss: 3.4556e-04\n",
      "Epoch 48/50\n",
      "74/74 [==============================] - 8s 107ms/step - loss: 4.9458e-04\n",
      "Epoch 49/50\n",
      "74/74 [==============================] - 8s 108ms/step - loss: 3.3003e-04\n",
      "Epoch 50/50\n",
      "74/74 [==============================] - 8s 108ms/step - loss: 4.1358e-04\n"
     ]
    },
    {
     "data": {
      "text/plain": [
       "<tensorflow.python.keras.callbacks.History at 0x7fd8bd4bb9b0>"
      ]
     },
     "execution_count": 365,
     "metadata": {},
     "output_type": "execute_result"
    }
   ],
   "source": [
    "regressor.fit(x = X_train, y = y_train, batch_size = 16, epochs = 50)"
   ]
  },
  {
   "cell_type": "markdown",
   "metadata": {},
   "source": [
    "### Part 3 - Making the predictions and visualising the results"
   ]
  },
  {
   "cell_type": "code",
   "execution_count": 368,
   "metadata": {},
   "outputs": [],
   "source": [
    "# Getting the real stock price of 2017\n",
    "dataset_test = pd.read_csv('Google_Stock_Price_Test.csv')\n",
    "real_stock_price = dataset_test.iloc[:, 1:2].values\n",
    "\n",
    "# Getting the predicted stock price of 2017\n",
    "dataset_total = pd.concat((dataset_train['Open'], dataset_test['Open']), axis = 0)\n",
    "inputs = dataset_total[len(dataset_total) - len(dataset_test) - 80:].values\n",
    "inputs = inputs.reshape(-1,1)\n",
    "inputs = sc.transform(inputs) # Feature Scaling\n",
    "X_test = []\n",
    "for i in range(80, 100):\n",
    "    X_test.append(inputs[i-80:i, 0])\n",
    "X_test = np.array(X_test)\n",
    "X_test = np.reshape(X_test, (X_test.shape[0], X_test.shape[1], 1))\n",
    "predicted_stock_price = regressor.predict(X_test)\n",
    "predicted_stock_price = sc.inverse_transform(predicted_stock_price)"
   ]
  },
  {
   "cell_type": "code",
   "execution_count": 369,
   "metadata": {},
   "outputs": [
    {
     "data": {
      "image/png": "[encoded data removed]",
      "text/plain": [
       "<Figure size 432x288 with 1 Axes>"
      ]
     },
     "metadata": {
      "needs_background": "light"
     },
     "output_type": "display_data"
    }
   ],
   "source": [
    "# Visualising the results\n",
    "plt.xticks(np.arange(2, 20, 2))\n",
    "plt.plot(real_stock_price, color = 'red', label = 'Real Google Stock Price')\n",
    "plt.plot(predicted_stock_price, color = 'blue', label = 'Predicted Google Stock Price')\n",
    "plt.title('Google Stock Price Prediction')\n",
    "plt.xlabel('Time')\n",
    "plt.ylabel('Google Stock Price')\n",
    "plt.legend()\n",
    "plt.show()"
   ]
  },
  {
   "cell_type": "markdown",
   "metadata": {},
   "source": [
    "## FIM"
   ]
  }
 ],
 "metadata": {
  "kernelspec": {
   "display_name": "Python 3",
   "language": "python",
   "name": "python3"
  },
  "language_info": {
   "codemirror_mode": {
    "name": "ipython",
    "version": 3
   },
   "file_extension": ".py",
   "mimetype": "text/x-python",
   "name": "python",
   "nbconvert_exporter": "python",
   "pygments_lexer": "ipython3",
   "version": "3.7.3"
  }
 },
 "nbformat": 4,
 "nbformat_minor": 4
}
