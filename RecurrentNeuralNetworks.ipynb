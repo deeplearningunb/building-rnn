{
 "cells": [
  {
   "cell_type": "markdown",
   "metadata": {},
   "source": [
    "# Recurrent Neural Networks\n",
    "\n",
    "calcular o preço das ações do google"
   ]
  },
  {
   "cell_type": "code",
   "execution_count": 14,
   "metadata": {},
   "outputs": [],
   "source": [
    "# Part 1 - Data Preprocessing\n",
    "\n",
    "# Importing the libraries\n",
    "import numpy as np\n",
    "import matplotlib.pyplot as plt\n",
    "import pandas as pd"
   ]
  },
  {
   "cell_type": "code",
   "execution_count": 15,
   "metadata": {},
   "outputs": [
    {
     "data": {
      "text/plain": [
       "array([[325.25],\n",
       "       [331.27],\n",
       "       [329.83],\n",
       "       ...,\n",
       "       [793.7 ],\n",
       "       [783.33],\n",
       "       [782.75]])"
      ]
     },
     "execution_count": 15,
     "metadata": {},
     "output_type": "execute_result"
    }
   ],
   "source": [
    "# Importing the training set\n",
    "dataset_train = pd.read_csv('Google_Stock_Price_Train.csv')\n",
    "training_set = dataset_train.iloc[:, 1:2].values\n",
    "training_set"
   ]
  },
  {
   "cell_type": "code",
   "execution_count": 16,
   "metadata": {},
   "outputs": [],
   "source": [
    "# Feature Scaling\n",
    "from sklearn.preprocessing import MinMaxScaler\n",
    "sc = MinMaxScaler(feature_range = (0, 1))\n",
    "training_set_scaled = sc.fit_transform(training_set)"
   ]
  },
  {
   "cell_type": "code",
   "execution_count": 17,
   "metadata": {},
   "outputs": [
    {
     "data": {
      "text/plain": [
       "60"
      ]
     },
     "execution_count": 17,
     "metadata": {},
     "output_type": "execute_result"
    }
   ],
   "source": [
    "# Creating a data structure with 60 timesteps and 1 output\n",
    "X_train = []\n",
    "y_train = []\n",
    "for i in range(60, 1258):\n",
    "    X_train.append(training_set_scaled[i-60:i, 0])\n",
    "    y_train.append(training_set_scaled[i, 0])\n",
    "X_train, y_train = np.array(X_train), np.array(y_train)\n",
    "\n",
    "# Reshaping\n",
    "X_train = np.reshape(X_train, (X_train.shape[0], X_train.shape[1], 1))\n",
    "X_train.shape[1]"
   ]
  },
  {
   "cell_type": "code",
   "execution_count": 18,
   "metadata": {},
   "outputs": [],
   "source": [
    "# Part 2 - Building the RNN\n",
    "\n",
    "# Importing the Keras libraries and packages\n",
    "from keras.models import Sequential\n",
    "from keras.layers import Dense\n",
    "from keras.layers import GRU\n",
    "from keras.layers import Dropout\n",
    "\n",
    "# Initialising the RNN\n",
    "regressor = Sequential()\n",
    "ishape = X_train.shape[1]\n",
    "# Adding the first gru layer and some Dropout regularisation\n",
    "regressor.add(GRU(units = 100, return_sequences = True, input_shape = (ishape, 1)))\n",
    "regressor.add(Dropout(0.15))\n",
    "\n",
    "# Adding a second gru layer and some Dropout regularisation\n",
    "regressor.add(GRU(units = 150, return_sequences = True))\n",
    "regressor.add(Dropout(0.15))\n",
    "\n",
    "# Adding a third gru layer and some Dropout regularisation\n",
    "regressor.add(GRU(units = 150, return_sequences = True))\n",
    "regressor.add(Dropout(0.15))\n",
    "\n",
    "# Adding a fourth gru layer and some Dropout regularisation\n",
    "regressor.add(GRU(units = 100))\n",
    "regressor.add(Dropout(0.15))\n",
    "\n",
    "# Adding the output layer\n",
    "regressor.add(Dense(units = 1))\n",
    "\n",
    "# Compiling the RNN\n",
    "regressor.compile(optimizer = 'adam', loss = 'mean_squared_error')"
   ]
  },
  {
   "cell_type": "code",
   "execution_count": 19,
   "metadata": {},
   "outputs": [
    {
     "name": "stdout",
     "output_type": "stream",
     "text": [
      "Epoch 1/50\n",
      "38/38 [==============================] - 66s 1s/step - loss: 0.0631\n",
      "Epoch 2/50\n",
      "38/38 [==============================] - 29s 768ms/step - loss: 0.0026\n",
      "Epoch 3/50\n",
      "38/38 [==============================] - 49s 1s/step - loss: 0.0028\n",
      "Epoch 4/50\n",
      "38/38 [==============================] - 33s 876ms/step - loss: 0.0022\n",
      "Epoch 5/50\n",
      "38/38 [==============================] - 31s 806ms/step - loss: 0.0021\n",
      "Epoch 6/50\n",
      "38/38 [==============================] - 33s 833ms/step - loss: 0.0023\n",
      "Epoch 7/50\n",
      "38/38 [==============================] - 30s 785ms/step - loss: 0.0019\n",
      "Epoch 8/50\n",
      "38/38 [==============================] - 53s 1s/step - loss: 0.0021\n",
      "Epoch 9/50\n",
      "38/38 [==============================] - 39s 1s/step - loss: 0.0020\n",
      "Epoch 10/50\n",
      "38/38 [==============================] - 50s 1s/step - loss: 0.0018\n",
      "Epoch 11/50\n",
      "38/38 [==============================] - 54s 1s/step - loss: 0.0025\n",
      "Epoch 12/50\n",
      "38/38 [==============================] - 55s 1s/step - loss: 0.0017\n",
      "Epoch 13/50\n",
      "38/38 [==============================] - 48s 1s/step - loss: 0.0019\n",
      "Epoch 14/50\n",
      "38/38 [==============================] - 45s 1s/step - loss: 0.0017\n",
      "Epoch 15/50\n",
      "38/38 [==============================] - 45s 1s/step - loss: 0.0021\n",
      "Epoch 16/50\n",
      "38/38 [==============================] - 43s 1s/step - loss: 0.0015\n",
      "Epoch 17/50\n",
      "38/38 [==============================] - 46s 1s/step - loss: 0.0015\n",
      "Epoch 18/50\n",
      "38/38 [==============================] - 48s 1s/step - loss: 0.0022\n",
      "Epoch 19/50\n",
      "38/38 [==============================] - 50s 1s/step - loss: 0.0016\n",
      "Epoch 20/50\n",
      "38/38 [==============================] - 46s 1s/step - loss: 0.0018\n",
      "Epoch 21/50\n",
      "38/38 [==============================] - 50s 1s/step - loss: 0.0014\n",
      "Epoch 22/50\n",
      "38/38 [==============================] - 30s 778ms/step - loss: 0.0013\n",
      "Epoch 23/50\n",
      "38/38 [==============================] - 31s 812ms/step - loss: 0.0015\n",
      "Epoch 24/50\n",
      "38/38 [==============================] - 34s 899ms/step - loss: 0.0017\n",
      "Epoch 25/50\n",
      "38/38 [==============================] - 31s 811ms/step - loss: 0.0017\n",
      "Epoch 26/50\n",
      "38/38 [==============================] - 32s 829ms/step - loss: 0.0012\n",
      "Epoch 27/50\n",
      "38/38 [==============================] - 37s 982ms/step - loss: 0.0013\n",
      "Epoch 28/50\n",
      "38/38 [==============================] - 43s 1s/step - loss: 0.0016\n",
      "Epoch 29/50\n",
      "38/38 [==============================] - 42s 1s/step - loss: 0.0012\n",
      "Epoch 30/50\n",
      "38/38 [==============================] - 32s 825ms/step - loss: 0.0013\n",
      "Epoch 31/50\n",
      "38/38 [==============================] - 33s 853ms/step - loss: 0.0015\n",
      "Epoch 32/50\n",
      "38/38 [==============================] - 33s 855ms/step - loss: 0.0013\n",
      "Epoch 33/50\n",
      "38/38 [==============================] - 35s 909ms/step - loss: 0.0011\n",
      "Epoch 34/50\n",
      "38/38 [==============================] - 29s 737ms/step - loss: 0.0012\n",
      "Epoch 35/50\n",
      "38/38 [==============================] - 31s 826ms/step - loss: 0.0015\n",
      "Epoch 36/50\n",
      "38/38 [==============================] - 34s 899ms/step - loss: 0.0016\n",
      "Epoch 37/50\n",
      "38/38 [==============================] - 40s 1s/step - loss: 0.0011\n",
      "Epoch 38/50\n",
      "38/38 [==============================] - 47s 1s/step - loss: 0.0010\n",
      "Epoch 39/50\n",
      "38/38 [==============================] - 29s 743ms/step - loss: 0.0017\n",
      "Epoch 40/50\n",
      "38/38 [==============================] - 25s 652ms/step - loss: 0.0015\n",
      "Epoch 41/50\n",
      "38/38 [==============================] - 25s 653ms/step - loss: 0.0010\n",
      "Epoch 42/50\n",
      "38/38 [==============================] - 25s 644ms/step - loss: 0.0012\n",
      "Epoch 43/50\n",
      "38/38 [==============================] - 25s 659ms/step - loss: 0.0013\n",
      "Epoch 44/50\n",
      "38/38 [==============================] - 23s 594ms/step - loss: 0.0013\n",
      "Epoch 45/50\n",
      "38/38 [==============================] - 25s 660ms/step - loss: 0.0010\n",
      "Epoch 46/50\n",
      "38/38 [==============================] - 25s 645ms/step - loss: 0.0010\n",
      "Epoch 47/50\n",
      "38/38 [==============================] - 26s 678ms/step - loss: 0.0012\n",
      "Epoch 48/50\n",
      "38/38 [==============================] - 24s 618ms/step - loss: 0.0012\n",
      "Epoch 49/50\n",
      "38/38 [==============================] - 24s 630ms/step - loss: 0.0013\n",
      "Epoch 50/50\n",
      "38/38 [==============================] - 25s 652ms/step - loss: 0.0011\n"
     ]
    },
    {
     "data": {
      "text/plain": [
       "<tensorflow.python.keras.callbacks.History at 0x7faee9536370>"
      ]
     },
     "execution_count": 19,
     "metadata": {},
     "output_type": "execute_result"
    }
   ],
   "source": [
    "# Fitting the RNN to the Training set\n",
    "regressor.fit(X_train, y_train, epochs = 50, batch_size = 32)"
   ]
  },
  {
   "cell_type": "code",
   "execution_count": 20,
   "metadata": {},
   "outputs": [],
   "source": [
    "# Part 3 - Making the predictions and visualising the results\n",
    "\n",
    "# Getting the real stock price of 2017\n",
    "dataset_test = pd.read_csv('Google_Stock_Price_Test.csv')\n",
    "real_stock_price = dataset_test.iloc[:, 1:2].values\n",
    "\n",
    "# Getting the predicted stock price of 2017\n",
    "dataset_total = pd.concat((dataset_train['Open'], dataset_test['Open']), axis = 0)\n",
    "inputs = dataset_total[len(dataset_total) - len(dataset_test) - 60:].values\n",
    "inputs = inputs.reshape(-1,1)\n",
    "inputs = sc.transform(inputs)\n",
    "X_test = []\n",
    "for i in range(60, 80):\n",
    "    X_test.append(inputs[i-60:i, 0])\n",
    "X_test = np.array(X_test)\n",
    "X_test = np.reshape(X_test, (X_test.shape[0], X_test.shape[1], 1))\n",
    "predicted_stock_price = regressor.predict(X_test)\n",
    "predicted_stock_price = sc.inverse_transform(predicted_stock_price)"
   ]
  },
  {
   "cell_type": "code",
   "execution_count": 21,
   "metadata": {},
   "outputs": [
    {
     "data": {
      "image/png": "[encoded data removed]",
      "text/plain": [
       "<Figure size 432x288 with 1 Axes>"
      ]
     },
     "metadata": {
      "needs_background": "light"
     },
     "output_type": "display_data"
    }
   ],
   "source": [
    "# Visualising the results\n",
    "plt.plot(real_stock_price, color = 'red', label = 'Real Google Stock Price')\n",
    "plt.plot(predicted_stock_price, color = 'blue', label = 'Predicted Google Stock Price')\n",
    "plt.title('Google Stock Price Prediction')\n",
    "plt.xlabel('Time')\n",
    "plt.ylabel('Google Stock Price')\n",
    "plt.legend()\n",
    "plt.show()"
   ]
  },
  {
   "cell_type": "markdown",
   "metadata": {},
   "source": [
    "## FIM"
   ]
  }
 ],
 "metadata": {
  "kernelspec": {
   "display_name": "Python 3",
   "language": "python",
   "name": "python3"
  },
  "language_info": {
   "codemirror_mode": {
    "name": "ipython",
    "version": 3
   },
   "file_extension": ".py",
   "mimetype": "text/x-python",
   "name": "python",
   "nbconvert_exporter": "python",
   "pygments_lexer": "ipython3",
   "version": "3.9.12"
  }
 },
 "nbformat": 4,
 "nbformat_minor": 4
}
