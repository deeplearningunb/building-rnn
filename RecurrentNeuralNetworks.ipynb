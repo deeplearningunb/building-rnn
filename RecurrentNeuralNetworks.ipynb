{
  "nbformat": 4,
  "nbformat_minor": 0,
  "metadata": {
    "kernelspec": {
      "display_name": "Python 3",
      "language": "python",
      "name": "python3"
    },
    "language_info": {
      "codemirror_mode": {
        "name": "ipython",
        "version": 3
      },
      "file_extension": ".py",
      "mimetype": "text/x-python",
      "name": "python",
      "nbconvert_exporter": "python",
      "pygments_lexer": "ipython3",
      "version": "3.7.1"
    },
    "colab": {
      "name": "RecurrentNeuralNetworks.ipynb",
      "provenance": [],
      "collapsed_sections": []
    }
  },
  "cells": [
    {
      "cell_type": "markdown",
      "metadata": {
        "id": "LL4ttaNLoNbG"
      },
      "source": [
        "# Recurrent Neural Networks\n",
        "\n",
        "calcular o preço das ações do google"
      ]
    },
    {
      "cell_type": "code",
      "metadata": {
        "id": "rqk7aUS5oNbM"
      },
      "source": [
        "# Part 1 - Data Preprocessing\n",
        "\n",
        "# Importing the libraries\n",
        "import numpy as np\n",
        "import matplotlib.pyplot as plt\n",
        "import pandas as pd"
      ],
      "execution_count": 10,
      "outputs": []
    },
    {
      "cell_type": "code",
      "metadata": {
        "id": "1rwqcow0oNbP"
      },
      "source": [
        "# Importing the training set\n",
        "dataset_train = pd.read_csv('Google_Stock_Price_Train.csv')\n",
        "training_set = dataset_train.iloc[:, 1:2].values"
      ],
      "execution_count": 19,
      "outputs": []
    },
    {
      "cell_type": "code",
      "metadata": {
        "id": "O5rbuLnyoNbQ"
      },
      "source": [
        "# Feature Scaling\n",
        "from sklearn.preprocessing import MinMaxScaler\n",
        "sc = MinMaxScaler(feature_range = (0, 1))\n",
        "training_set_scaled = sc.fit_transform(training_set)"
      ],
      "execution_count": 20,
      "outputs": []
    },
    {
      "cell_type": "code",
      "metadata": {
        "colab": {
          "base_uri": "https://localhost:8080/"
        },
        "id": "uXwAEcOzoNbR",
        "outputId": "98c0339d-a983-47f3-df02-3d45158b9b74"
      },
      "source": [
        "# Creating a data structure with 60 timesteps and 1 output\n",
        "X_train = []\n",
        "y_train = []\n",
        "for i in range(60, 1258):\n",
        "    X_train.append(training_set_scaled[i-60:i, 0])\n",
        "    y_train.append(training_set_scaled[i, 0])\n",
        "X_train, y_train = np.array(X_train), np.array(y_train)\n",
        "\n",
        "# Reshaping\n",
        "X_train = np.reshape(X_train, (X_train.shape[0], X_train.shape[1], 1))\n",
        "X_train"
      ],
      "execution_count": 21,
      "outputs": [
        {
          "output_type": "execute_result",
          "data": {
            "text/plain": [
              "array([[[0.08581368],\n",
              "        [0.09701243],\n",
              "        [0.09433366],\n",
              "        ...,\n",
              "        [0.07846566],\n",
              "        [0.08034452],\n",
              "        [0.08497656]],\n",
              "\n",
              "       [[0.09701243],\n",
              "        [0.09433366],\n",
              "        [0.09156187],\n",
              "        ...,\n",
              "        [0.08034452],\n",
              "        [0.08497656],\n",
              "        [0.08627874]],\n",
              "\n",
              "       [[0.09433366],\n",
              "        [0.09156187],\n",
              "        [0.07984225],\n",
              "        ...,\n",
              "        [0.08497656],\n",
              "        [0.08627874],\n",
              "        [0.08471612]],\n",
              "\n",
              "       ...,\n",
              "\n",
              "       [[0.92106928],\n",
              "        [0.92438053],\n",
              "        [0.93048218],\n",
              "        ...,\n",
              "        [0.95475854],\n",
              "        [0.95204256],\n",
              "        [0.95163331]],\n",
              "\n",
              "       [[0.92438053],\n",
              "        [0.93048218],\n",
              "        [0.9299055 ],\n",
              "        ...,\n",
              "        [0.95204256],\n",
              "        [0.95163331],\n",
              "        [0.95725128]],\n",
              "\n",
              "       [[0.93048218],\n",
              "        [0.9299055 ],\n",
              "        [0.93113327],\n",
              "        ...,\n",
              "        [0.95163331],\n",
              "        [0.95725128],\n",
              "        [0.93796041]]])"
            ]
          },
          "metadata": {},
          "execution_count": 21
        }
      ]
    },
    {
      "cell_type": "code",
      "metadata": {
        "id": "jMHLgIC5oNbT"
      },
      "source": [
        "# Part 2 - Building the RNN\n",
        "\n",
        "# Importing the Keras libraries and packages\n",
        "from keras.models import Sequential\n",
        "from keras.layers import Dense\n",
        "from keras.layers import LSTM\n",
        "from keras.layers import Dropout\n",
        "\n",
        "# Initialising the RNN\n",
        "regressor = Sequential()\n",
        "\n",
        "# Adding the first LSTM layer and some Dropout regularisation\n",
        "regressor.add(LSTM(units = 70, return_sequences = True, input_shape = (X_train.shape[1], 1)))\n",
        "regressor.add(Dropout(0.2))\n",
        "\n",
        "# Adding a second LSTM layer and some Dropout regularisation\n",
        "regressor.add(LSTM(units = 70, return_sequences = True))\n",
        "regressor.add(Dropout(0.2))\n",
        "\n",
        "# Adding a third LSTM layer and some Dropout regularisation\n",
        "regressor.add(LSTM(units = 70, return_sequences = True))\n",
        "regressor.add(Dropout(0.2))\n",
        "\n",
        "# Adding a fourth LSTM layer and some Dropout regularisation\n",
        "regressor.add(LSTM(units = 70, return_sequences = True))\n",
        "regressor.add(Dropout(0.2))\n",
        "\n",
        "# Adding a fifth LSTM layer and some Dropout regularisation\n",
        "regressor.add(LSTM(units = 70, return_sequences = True))\n",
        "regressor.add(Dropout(0.2))\n",
        "\n",
        "# Adding a sixth LSTM layer and some Dropout regularisation\n",
        "regressor.add(LSTM(units = 70))\n",
        "regressor.add(Dropout(0.2))\n",
        "\n",
        "# Adding the output layer\n",
        "regressor.add(Dense(units = 1))\n",
        "\n",
        "# Compiling the RNN\n",
        "regressor.compile(optimizer = 'adam', loss = 'mean_squared_error')"
      ],
      "execution_count": 22,
      "outputs": []
    },
    {
      "cell_type": "code",
      "metadata": {
        "colab": {
          "base_uri": "https://localhost:8080/"
        },
        "id": "9oEPbJPsoNbU",
        "outputId": "64ec280b-43c8-4775-8a4d-b8e82a1db724"
      },
      "source": [
        "# Fitting the RNN to the Training set\n",
        "regressor.fit(X_train, y_train, epochs = 30, batch_size = 64)"
      ],
      "execution_count": 23,
      "outputs": [
        {
          "output_type": "stream",
          "name": "stdout",
          "text": [
            "Epoch 1/30\n",
            "19/19 [==============================] - 15s 299ms/step - loss: 0.0741\n",
            "Epoch 2/30\n",
            "19/19 [==============================] - 6s 299ms/step - loss: 0.0124\n",
            "Epoch 3/30\n",
            "19/19 [==============================] - 6s 295ms/step - loss: 0.0072\n",
            "Epoch 4/30\n",
            "19/19 [==============================] - 6s 302ms/step - loss: 0.0061\n",
            "Epoch 5/30\n",
            "19/19 [==============================] - 6s 298ms/step - loss: 0.0060\n",
            "Epoch 6/30\n",
            "19/19 [==============================] - 6s 301ms/step - loss: 0.0057\n",
            "Epoch 7/30\n",
            "19/19 [==============================] - 6s 296ms/step - loss: 0.0053\n",
            "Epoch 8/30\n",
            "19/19 [==============================] - 6s 299ms/step - loss: 0.0052\n",
            "Epoch 9/30\n",
            "19/19 [==============================] - 6s 300ms/step - loss: 0.0052\n",
            "Epoch 10/30\n",
            "19/19 [==============================] - 6s 301ms/step - loss: 0.0053\n",
            "Epoch 11/30\n",
            "19/19 [==============================] - 6s 299ms/step - loss: 0.0053\n",
            "Epoch 12/30\n",
            "19/19 [==============================] - 6s 297ms/step - loss: 0.0050\n",
            "Epoch 13/30\n",
            "19/19 [==============================] - 6s 300ms/step - loss: 0.0049\n",
            "Epoch 14/30\n",
            "19/19 [==============================] - 6s 303ms/step - loss: 0.0044\n",
            "Epoch 15/30\n",
            "19/19 [==============================] - 6s 303ms/step - loss: 0.0046\n",
            "Epoch 16/30\n",
            "19/19 [==============================] - 6s 298ms/step - loss: 0.0044\n",
            "Epoch 17/30\n",
            "19/19 [==============================] - 6s 293ms/step - loss: 0.0047\n",
            "Epoch 18/30\n",
            "19/19 [==============================] - 6s 299ms/step - loss: 0.0042\n",
            "Epoch 19/30\n",
            "19/19 [==============================] - 6s 291ms/step - loss: 0.0046\n",
            "Epoch 20/30\n",
            "19/19 [==============================] - 6s 300ms/step - loss: 0.0046\n",
            "Epoch 21/30\n",
            "19/19 [==============================] - 5s 286ms/step - loss: 0.0052\n",
            "Epoch 22/30\n",
            "19/19 [==============================] - 6s 304ms/step - loss: 0.0040\n",
            "Epoch 23/30\n",
            "19/19 [==============================] - 6s 300ms/step - loss: 0.0045\n",
            "Epoch 24/30\n",
            "19/19 [==============================] - 6s 298ms/step - loss: 0.0048\n",
            "Epoch 25/30\n",
            "19/19 [==============================] - 6s 301ms/step - loss: 0.0040\n",
            "Epoch 26/30\n",
            "19/19 [==============================] - 6s 295ms/step - loss: 0.0040\n",
            "Epoch 27/30\n",
            "19/19 [==============================] - 6s 297ms/step - loss: 0.0037\n",
            "Epoch 28/30\n",
            "19/19 [==============================] - 6s 294ms/step - loss: 0.0034\n",
            "Epoch 29/30\n",
            "19/19 [==============================] - 6s 290ms/step - loss: 0.0040\n",
            "Epoch 30/30\n",
            "19/19 [==============================] - 6s 292ms/step - loss: 0.0036\n"
          ]
        },
        {
          "output_type": "execute_result",
          "data": {
            "text/plain": [
              "<keras.callbacks.History at 0x7f525b5fbbd0>"
            ]
          },
          "metadata": {},
          "execution_count": 23
        }
      ]
    },
    {
      "cell_type": "code",
      "metadata": {
        "id": "AA9nvWkFoNbV"
      },
      "source": [
        "# Part 3 - Making the predictions and visualising the results\n",
        "\n",
        "# Getting the real stock price of 2017\n",
        "dataset_test = pd.read_csv('Google_Stock_Price_Test.csv')\n",
        "real_stock_price = dataset_test.iloc[:, 1:2].values\n",
        "\n",
        "# Getting the predicted stock price of 2017\n",
        "dataset_total = pd.concat((dataset_train['Open'], dataset_test['Open']), axis = 0)\n",
        "inputs = dataset_total[len(dataset_total) - len(dataset_test) - 60:].values\n",
        "inputs = inputs.reshape(-1,1)\n",
        "inputs = sc.transform(inputs)\n",
        "X_test = []\n",
        "for i in range(60, 80):\n",
        "    X_test.append(inputs[i-60:i, 0])\n",
        "X_test = np.array(X_test)\n",
        "X_test = np.reshape(X_test, (X_test.shape[0], X_test.shape[1], 1))\n",
        "predicted_stock_price = regressor.predict(X_test)\n",
        "predicted_stock_price = sc.inverse_transform(predicted_stock_price)"
      ],
      "execution_count": 24,
      "outputs": []
    },
    {
      "cell_type": "code",
      "metadata": {
        "colab": {
          "base_uri": "https://localhost:8080/",
          "height": 295
        },
        "id": "M12bghOAoXPs",
        "outputId": "20da7cc8-1652-44cb-8f8c-1379bea402c8"
      },
      "source": [
        "# EPOCHS E UNITS 50\n",
        "\n",
        "# Visualising the results\n",
        "plt.plot(real_stock_price, color = 'red', label = 'Real Google Stock Price')\n",
        "plt.plot(predicted_stock_price, color = 'blue', label = 'Predicted Google Stock Price')\n",
        "plt.title('Google Stock Price Prediction')\n",
        "plt.xlabel('Time')\n",
        "plt.ylabel('Google Stock Price')\n",
        "plt.legend()\n",
        "plt.show()"
      ],
      "execution_count": 18,
      "outputs": [
        {
          "output_type": "display_data",
          "data": {
            "image/png": "[encoded data removed]",
            "text/plain": [
              "<Figure size 432x288 with 1 Axes>"
            ]
          },
          "metadata": {
            "needs_background": "light"
          }
        }
      ]
    },
    {
      "cell_type": "code",
      "metadata": {
        "colab": {
          "base_uri": "https://localhost:8080/",
          "height": 295
        },
        "id": "LBq0kEQNsasz",
        "outputId": "27537726-33b4-48c3-d92b-8c87e36d40f3"
      },
      "source": [
        "# MELHORES RESULTADOS\n",
        "# 6 LAYERS\n",
        "# UNITS: 70\n",
        "# EPOCHS: 30\n",
        "# BATCH_SIZE: 64\n",
        "\n",
        "\n",
        "# Visualising the results\n",
        "plt.plot(real_stock_price, color = 'red', label = 'Real Google Stock Price')\n",
        "plt.plot(predicted_stock_price, color = 'blue', label = 'Predicted Google Stock Price')\n",
        "plt.title('Google Stock Price Prediction')\n",
        "plt.xlabel('Time')\n",
        "plt.ylabel('Google Stock Price')\n",
        "plt.legend()\n",
        "plt.show()"
      ],
      "execution_count": 25,
      "outputs": [
        {
          "output_type": "display_data",
          "data": {
            "image/png": "[encoded data removed]",
            "text/plain": [
              "<Figure size 432x288 with 1 Axes>"
            ]
          },
          "metadata": {
            "needs_background": "light"
          }
        }
      ]
    },
    {
      "cell_type": "code",
      "metadata": {
        "id": "GPFpAd5koNbW",
        "outputId": "5bfe8b16-28a2-4ead-af9e-0d13d1a54e99"
      },
      "source": [
        "# RESULTADOS ORIGINAL\n",
        "\n",
        "# Visualising the results\n",
        "plt.plot(real_stock_price, color = 'red', label = 'Real Google Stock Price')\n",
        "plt.plot(predicted_stock_price, color = 'blue', label = 'Predicted Google Stock Price')\n",
        "plt.title('Google Stock Price Prediction')\n",
        "plt.xlabel('Time')\n",
        "plt.ylabel('Google Stock Price')\n",
        "plt.legend()\n",
        "plt.show()"
      ],
      "execution_count": null,
      "outputs": [
        {
          "data": {
            "image/png": "[encoded data removed]",
            "text/plain": [
              "<Figure size 432x288 with 1 Axes>"
            ]
          },
          "metadata": {
            "needs_background": "light"
          },
          "output_type": "display_data"
        }
      ]
    },
    {
      "cell_type": "markdown",
      "metadata": {
        "id": "XH8H3beNoNbX"
      },
      "source": [
        "## FIM"
      ]
    }
  ]
}