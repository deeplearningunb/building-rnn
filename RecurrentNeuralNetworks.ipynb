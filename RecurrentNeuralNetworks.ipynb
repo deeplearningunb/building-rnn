{
 "cells": [
  {
   "cell_type": "markdown",
   "metadata": {},
   "source": [
    "# Recurrent Neural Networks\n",
    "\n",
    "calcular o preço das ações do google"
   ]
  },
  {
   "cell_type": "code",
   "execution_count": 1,
   "metadata": {},
   "outputs": [],
   "source": [
    "# Part 1 - Data Preprocessing\n",
    "\n",
    "# Importing the libraries\n",
    "import numpy as np\n",
    "import matplotlib.pyplot as plt\n",
    "import pandas as pd"
   ]
  },
  {
   "cell_type": "code",
   "execution_count": 2,
   "metadata": {},
   "outputs": [],
   "source": [
    "# Importing the training set\n",
    "dataset_train = pd.read_csv('Google_Stock_Price_Train.csv')\n",
    "training_set = dataset_train.iloc[:, 1:2].values"
   ]
  },
  {
   "cell_type": "code",
   "execution_count": 3,
   "metadata": {},
   "outputs": [],
   "source": [
    "# Feature Scaling\n",
    "from sklearn.preprocessing import MinMaxScaler\n",
    "sc = MinMaxScaler(feature_range = (0, 1))\n",
    "training_set_scaled = sc.fit_transform(training_set)"
   ]
  },
  {
   "cell_type": "code",
   "execution_count": 4,
   "metadata": {},
   "outputs": [
    {
     "data": {
      "text/plain": [
       "array([[[0.08581368],\n",
       "        [0.09701243],\n",
       "        [0.09433366],\n",
       "        ...,\n",
       "        [0.07846566],\n",
       "        [0.08034452],\n",
       "        [0.08497656]],\n",
       "\n",
       "       [[0.09701243],\n",
       "        [0.09433366],\n",
       "        [0.09156187],\n",
       "        ...,\n",
       "        [0.08034452],\n",
       "        [0.08497656],\n",
       "        [0.08627874]],\n",
       "\n",
       "       [[0.09433366],\n",
       "        [0.09156187],\n",
       "        [0.07984225],\n",
       "        ...,\n",
       "        [0.08497656],\n",
       "        [0.08627874],\n",
       "        [0.08471612]],\n",
       "\n",
       "       ...,\n",
       "\n",
       "       [[0.92106928],\n",
       "        [0.92438053],\n",
       "        [0.93048218],\n",
       "        ...,\n",
       "        [0.95475854],\n",
       "        [0.95204256],\n",
       "        [0.95163331]],\n",
       "\n",
       "       [[0.92438053],\n",
       "        [0.93048218],\n",
       "        [0.9299055 ],\n",
       "        ...,\n",
       "        [0.95204256],\n",
       "        [0.95163331],\n",
       "        [0.95725128]],\n",
       "\n",
       "       [[0.93048218],\n",
       "        [0.9299055 ],\n",
       "        [0.93113327],\n",
       "        ...,\n",
       "        [0.95163331],\n",
       "        [0.95725128],\n",
       "        [0.93796041]]])"
      ]
     },
     "execution_count": 4,
     "metadata": {},
     "output_type": "execute_result"
    }
   ],
   "source": [
    "# Creating a data structure with 60 timesteps and 1 output\n",
    "X_train = []\n",
    "y_train = []\n",
    "for i in range(60, 1258):\n",
    "    X_train.append(training_set_scaled[i-60:i, 0])\n",
    "    y_train.append(training_set_scaled[i, 0])\n",
    "X_train, y_train = np.array(X_train), np.array(y_train)\n",
    "\n",
    "# Reshaping\n",
    "X_train = np.reshape(X_train, (X_train.shape[0], X_train.shape[1], 1))\n",
    "X_train"
   ]
  },
  {
   "cell_type": "code",
   "execution_count": 5,
   "metadata": {},
   "outputs": [],
   "source": [
    "# Part 2 - Building the RNN\n",
    "\n",
    "# Importing the Keras libraries and packages\n",
    "from keras.models import Sequential\n",
    "from keras.layers import Dense\n",
    "from keras.layers import GRU\n",
    "from keras.layers import Dropout\n",
    "\n",
    "# Initialising the RNN\n",
    "regressor = Sequential()\n",
    "\n",
    "# Adding the first GRU layer and some Dropout regularisation\n",
    "regressor.add(GRU(units = 50, return_sequences = True, input_shape = (X_train.shape[1], 1)))\n",
    "#regressor.add(Dropout(0.2))\n",
    "\n",
    "# Adding a second GRU layer and some Dropout regularisation\n",
    "regressor.add(GRU(units = 50, return_sequences = True))\n",
    "#regressor.add(Dropout(0.2))\n",
    "\n",
    "# Adding a third GRU layer and some Dropout regularisation\n",
    "regressor.add(GRU(units = 50, return_sequences = True))\n",
    "#regressor.add(Dropout(0.2))\n",
    "\n",
    "# Adding a fourth GRU layer and some Dropout regularisation\n",
    "regressor.add(GRU(units = 50))\n",
    "#regressor.add(Dropout(0.2))\n",
    "\n",
    "# Adding the output layer\n",
    "regressor.add(Dense(units = 1))\n",
    "\n",
    "# Compiling the RNN\n",
    "regressor.compile(optimizer = 'adam', loss = 'mean_squared_error')"
   ]
  },
  {
   "cell_type": "code",
   "execution_count": null,
   "metadata": {},
   "outputs": [
    {
     "name": "stdout",
     "output_type": "stream",
     "text": [
      "Epoch 1/100\n",
      "38/38 [==============================] - 11s 161ms/step - loss: 0.0937\n",
      "Epoch 2/100\n",
      "38/38 [==============================] - 6s 157ms/step - loss: 0.0017\n",
      "Epoch 3/100\n",
      "38/38 [==============================] - 6s 156ms/step - loss: 7.8858e-04\n",
      "Epoch 4/100\n",
      "38/38 [==============================] - 6s 158ms/step - loss: 7.9312e-04\n",
      "Epoch 5/100\n",
      "38/38 [==============================] - 6s 155ms/step - loss: 7.5392e-04\n",
      "Epoch 6/100\n",
      "38/38 [==============================] - 6s 156ms/step - loss: 6.8590e-04\n",
      "Epoch 7/100\n",
      "38/38 [==============================] - 6s 155ms/step - loss: 6.2782e-04\n",
      "Epoch 8/100\n",
      "38/38 [==============================] - 6s 155ms/step - loss: 5.9694e-04\n",
      "Epoch 9/100\n",
      "38/38 [==============================] - 6s 154ms/step - loss: 5.2277e-04\n",
      "Epoch 10/100\n",
      "38/38 [==============================] - 6s 152ms/step - loss: 5.7953e-04\n",
      "Epoch 11/100\n",
      "38/38 [==============================] - 6s 154ms/step - loss: 5.1827e-04\n",
      "Epoch 12/100\n",
      "38/38 [==============================] - 6s 154ms/step - loss: 3.9023e-04\n",
      "Epoch 13/100\n",
      "38/38 [==============================] - 6s 154ms/step - loss: 4.7493e-04\n",
      "Epoch 14/100\n",
      "38/38 [==============================] - 6s 153ms/step - loss: 4.3394e-04\n",
      "Epoch 15/100\n",
      "38/38 [==============================] - 6s 154ms/step - loss: 4.2792e-04\n",
      "Epoch 16/100\n",
      "38/38 [==============================] - 6s 153ms/step - loss: 4.6335e-04\n",
      "Epoch 17/100\n",
      "38/38 [==============================] - 6s 152ms/step - loss: 4.1034e-04\n",
      "Epoch 18/100\n",
      "38/38 [==============================] - 6s 153ms/step - loss: 4.3001e-04\n",
      "Epoch 19/100\n",
      "38/38 [==============================] - 6s 153ms/step - loss: 4.7026e-04\n",
      "Epoch 20/100\n",
      "38/38 [==============================] - 6s 154ms/step - loss: 4.2937e-04\n",
      "Epoch 21/100\n",
      "38/38 [==============================] - 6s 154ms/step - loss: 3.1131e-04\n",
      "Epoch 22/100\n",
      "38/38 [==============================] - 6s 153ms/step - loss: 4.1102e-04\n",
      "Epoch 23/100\n",
      "38/38 [==============================] - 6s 153ms/step - loss: 4.5688e-04\n",
      "Epoch 24/100\n",
      "38/38 [==============================] - 6s 153ms/step - loss: 4.1841e-04\n",
      "Epoch 25/100\n",
      "38/38 [==============================] - 6s 154ms/step - loss: 3.6921e-04\n",
      "Epoch 26/100\n",
      "38/38 [==============================] - 6s 153ms/step - loss: 3.2496e-04\n",
      "Epoch 27/100\n",
      "38/38 [==============================] - 6s 153ms/step - loss: 3.3207e-04\n",
      "Epoch 28/100\n",
      "38/38 [==============================] - 6s 152ms/step - loss: 3.2672e-04\n",
      "Epoch 29/100\n",
      "38/38 [==============================] - 6s 153ms/step - loss: 3.7544e-04\n",
      "Epoch 30/100\n",
      "38/38 [==============================] - 6s 153ms/step - loss: 3.3198e-04\n",
      "Epoch 31/100\n",
      "38/38 [==============================] - 6s 153ms/step - loss: 3.0934e-04\n",
      "Epoch 32/100\n",
      "38/38 [==============================] - 6s 154ms/step - loss: 4.0453e-04\n",
      "Epoch 33/100\n",
      "38/38 [==============================] - 6s 153ms/step - loss: 2.5970e-04\n",
      "Epoch 34/100\n",
      "38/38 [==============================] - 6s 153ms/step - loss: 2.7832e-04\n",
      "Epoch 35/100\n",
      "38/38 [==============================] - 6s 153ms/step - loss: 4.0275e-04\n",
      "Epoch 36/100\n",
      "38/38 [==============================] - 6s 153ms/step - loss: 3.1335e-04\n",
      "Epoch 37/100\n",
      "38/38 [==============================] - 6s 154ms/step - loss: 3.2046e-04\n",
      "Epoch 38/100\n",
      "35/38 [==========================>...] - ETA: 0s - loss: 4.7941e-04"
     ]
    }
   ],
   "source": [
    "# Fitting the RNN to the Training set\n",
    "regressor.fit(X_train, y_train, epochs = 100, batch_size = 32)"
   ]
  },
  {
   "cell_type": "code",
   "execution_count": null,
   "metadata": {},
   "outputs": [],
   "source": [
    "# Part 3 - Making the predictions and visualising the results\n",
    "\n",
    "# Getting the real stock price of 2017\n",
    "dataset_test = pd.read_csv('Google_Stock_Price_Test.csv')\n",
    "real_stock_price = dataset_test.iloc[:, 1:2].values\n",
    "\n",
    "# Getting the predicted stock price of 2017\n",
    "dataset_total = pd.concat((dataset_train['Open'], dataset_test['Open']), axis = 0)\n",
    "inputs = dataset_total[len(dataset_total) - len(dataset_test) - 60:].values\n",
    "inputs = inputs.reshape(-1,1)\n",
    "inputs = sc.transform(inputs)\n",
    "X_test = []\n",
    "for i in range(60, 80):\n",
    "    X_test.append(inputs[i-60:i, 0])\n",
    "X_test = np.array(X_test)\n",
    "X_test = np.reshape(X_test, (X_test.shape[0], X_test.shape[1], 1))\n",
    "predicted_stock_price = regressor.predict(X_test)\n",
    "predicted_stock_price = sc.inverse_transform(predicted_stock_price)"
   ]
  },
  {
   "cell_type": "code",
   "execution_count": null,
   "metadata": {},
   "outputs": [],
   "source": [
    "# Visualising the results\n",
    "plt.plot(real_stock_price, color = 'red', label = 'Real Google Stock Price')\n",
    "plt.plot(predicted_stock_price, color = 'blue', label = 'Predicted Google Stock Price')\n",
    "plt.title('Google Stock Price Prediction')\n",
    "plt.xlabel('Time')\n",
    "plt.ylabel('Google Stock Price')\n",
    "plt.legend()\n",
    "plt.show()"
   ]
  },
  {
   "cell_type": "markdown",
   "metadata": {},
   "source": [
    "## FIM"
   ]
  }
 ],
 "metadata": {
  "kernelspec": {
   "display_name": "Python 3",
   "language": "python",
   "name": "python3"
  },
  "language_info": {
   "codemirror_mode": {
    "name": "ipython",
    "version": 3
   },
   "file_extension": ".py",
   "mimetype": "text/x-python",
   "name": "python",
   "nbconvert_exporter": "python",
   "pygments_lexer": "ipython3",
   "version": "3.8.6"
  }
 },
 "nbformat": 4,
 "nbformat_minor": 4
}
