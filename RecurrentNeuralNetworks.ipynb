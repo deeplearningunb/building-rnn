{
 "cells": [
  {
   "cell_type": "markdown",
   "source": [
    "# Recurrent Neural Networks\n",
    "\n",
    "calcular o preço das ações do google"
   ],
   "metadata": {}
  },
  {
   "cell_type": "code",
   "execution_count": 33,
   "source": [
    "# Part 1 - Data Preprocessing\r\n",
    "\r\n",
    "# Importing the libraries\r\n",
    "import numpy as np\r\n",
    "import matplotlib.pyplot as plt\r\n",
    "import pandas as pd"
   ],
   "outputs": [],
   "metadata": {}
  },
  {
   "cell_type": "code",
   "execution_count": 34,
   "source": [
    "# Importing the training set\r\n",
    "dataset_train = pd.read_csv('Google_Stock_Price_Train.csv')\r\n",
    "training_set = dataset_train.iloc[:, 1:2].values"
   ],
   "outputs": [],
   "metadata": {}
  },
  {
   "cell_type": "code",
   "execution_count": 35,
   "source": [
    "# Feature Scaling\r\n",
    "from sklearn.preprocessing import MinMaxScaler\r\n",
    "sc = MinMaxScaler(feature_range = (0, 1))\r\n",
    "training_set_scaled = sc.fit_transform(training_set)"
   ],
   "outputs": [],
   "metadata": {}
  },
  {
   "cell_type": "code",
   "execution_count": 36,
   "source": [
    "# Creating a data structure with 60 timesteps and 1 output\r\n",
    "X_train = []\r\n",
    "y_train = []\r\n",
    "for i in range(60, 1258):\r\n",
    "    X_train.append(training_set_scaled[i-60:i, 0])\r\n",
    "    y_train.append(training_set_scaled[i, 0])\r\n",
    "X_train, y_train = np.array(X_train), np.array(y_train)\r\n",
    "\r\n",
    "# Reshaping\r\n",
    "X_train = np.reshape(X_train, (X_train.shape[0], X_train.shape[1], 1))\r\n",
    "X_train"
   ],
   "outputs": [
    {
     "output_type": "execute_result",
     "data": {
      "text/plain": [
       "array([[[0.08581368],\n",
       "        [0.09701243],\n",
       "        [0.09433366],\n",
       "        ...,\n",
       "        [0.07846566],\n",
       "        [0.08034452],\n",
       "        [0.08497656]],\n",
       "\n",
       "       [[0.09701243],\n",
       "        [0.09433366],\n",
       "        [0.09156187],\n",
       "        ...,\n",
       "        [0.08034452],\n",
       "        [0.08497656],\n",
       "        [0.08627874]],\n",
       "\n",
       "       [[0.09433366],\n",
       "        [0.09156187],\n",
       "        [0.07984225],\n",
       "        ...,\n",
       "        [0.08497656],\n",
       "        [0.08627874],\n",
       "        [0.08471612]],\n",
       "\n",
       "       ...,\n",
       "\n",
       "       [[0.92106928],\n",
       "        [0.92438053],\n",
       "        [0.93048218],\n",
       "        ...,\n",
       "        [0.95475854],\n",
       "        [0.95204256],\n",
       "        [0.95163331]],\n",
       "\n",
       "       [[0.92438053],\n",
       "        [0.93048218],\n",
       "        [0.9299055 ],\n",
       "        ...,\n",
       "        [0.95204256],\n",
       "        [0.95163331],\n",
       "        [0.95725128]],\n",
       "\n",
       "       [[0.93048218],\n",
       "        [0.9299055 ],\n",
       "        [0.93113327],\n",
       "        ...,\n",
       "        [0.95163331],\n",
       "        [0.95725128],\n",
       "        [0.93796041]]])"
      ]
     },
     "metadata": {},
     "execution_count": 36
    }
   ],
   "metadata": {}
  },
  {
   "cell_type": "code",
   "execution_count": 37,
   "source": [
    "# Part 2 - Building the RNN\r\n",
    "\r\n",
    "# Importing the Keras libraries and packages\r\n",
    "from keras.models import Sequential\r\n",
    "from keras.layers import Dense\r\n",
    "from keras.layers import GRU\r\n",
    "from keras.layers import Dropout\r\n",
    "\r\n",
    "# Initialising the RNN\r\n",
    "regressor = Sequential()\r\n",
    "\r\n",
    "# Adding the first GRU layer and some Dropout regularisation\r\n",
    "regressor.add(GRU(units = 80, activation='tanh', return_sequences = True, input_shape = (X_train.shape[1], 1)))\r\n",
    "regressor.add(Dropout(0.3))\r\n",
    "\r\n",
    "# Adding a second GRU layer and some Dropout regularisation\r\n",
    "regressor.add(GRU(units = 80, activation='tanh', return_sequences = True))\r\n",
    "regressor.add(Dropout(0.2))\r\n",
    "\r\n",
    "# Adding a third GRU layer and some Dropout regularisation\r\n",
    "regressor.add(GRU(units = 80, activation='tanh', return_sequences = True))\r\n",
    "regressor.add(Dropout(0.1))\r\n",
    "\r\n",
    "# Adding a fourth GRU layer and some Dropout regularisation\r\n",
    "regressor.add(GRU(units = 80, activation='tanh'))\r\n",
    "regressor.add(Dropout(0.11))\r\n",
    "\r\n",
    "# Adding the output layer\r\n",
    "regressor.add(Dense(units = 1))\r\n",
    "\r\n",
    "# Compiling the RNN\r\n",
    "regressor.compile(optimizer = 'adam', loss = 'mean_squared_error', metrics = ['accuracy'])"
   ],
   "outputs": [],
   "metadata": {}
  },
  {
   "cell_type": "code",
   "execution_count": 38,
   "source": [
    "# Fitting the RNN to the Training set\r\n",
    "regressor_fit = regressor.fit(X_train, y_train, epochs = 10, batch_size = 32)"
   ],
   "outputs": [
    {
     "output_type": "stream",
     "name": "stdout",
     "text": [
      "Epoch 1/10\n",
      "38/38 [==============================] - 9s 99ms/step - loss: 0.0270 - accuracy: 0.0017\n",
      "Epoch 2/10\n",
      "38/38 [==============================] - 4s 100ms/step - loss: 0.0036 - accuracy: 0.0017\n",
      "Epoch 3/10\n",
      "38/38 [==============================] - 4s 99ms/step - loss: 0.0030 - accuracy: 0.0017\n",
      "Epoch 4/10\n",
      "38/38 [==============================] - 4s 98ms/step - loss: 0.0024 - accuracy: 0.0017\n",
      "Epoch 5/10\n",
      "38/38 [==============================] - 4s 100ms/step - loss: 0.0029 - accuracy: 0.0017\n",
      "Epoch 6/10\n",
      "38/38 [==============================] - 4s 99ms/step - loss: 0.0022 - accuracy: 0.0017\n",
      "Epoch 7/10\n",
      "38/38 [==============================] - 4s 101ms/step - loss: 0.0022 - accuracy: 0.0017\n",
      "Epoch 8/10\n",
      "38/38 [==============================] - 4s 103ms/step - loss: 0.0024 - accuracy: 0.0017\n",
      "Epoch 9/10\n",
      "38/38 [==============================] - 4s 102ms/step - loss: 0.0021 - accuracy: 0.0017\n",
      "Epoch 10/10\n",
      "38/38 [==============================] - 4s 99ms/step - loss: 0.0020 - accuracy: 0.0017\n"
     ]
    }
   ],
   "metadata": {}
  },
  {
   "cell_type": "code",
   "execution_count": 39,
   "source": [
    "loss = regressor_fit.history['loss']\r\n",
    "accuracy = regressor_fit.history['accuracy']"
   ],
   "outputs": [],
   "metadata": {}
  },
  {
   "cell_type": "code",
   "execution_count": 40,
   "source": [
    "import statistics\r\n",
    "\r\n",
    "print(f'''loss: {100 * statistics.mean(loss):.2f}%\r\n",
    "Intervalo loss: {100 * min(loss):.2f} ~ {100 * max(loss):.2f}\\n\\n''')\r\n",
    "\r\n",
    "print(f'''accuracy: {100 * statistics.mean(accuracy):.2f}%\r\n",
    "Intervalo accuracy: {100 * min(accuracy):.2f} ~ {100 * max(accuracy):.2f}\\n\\n''')"
   ],
   "outputs": [
    {
     "output_type": "stream",
     "name": "stdout",
     "text": [
      "loss: 0.50%\n",
      "Intervalo loss: 0.20 ~ 2.70\n",
      "\n",
      "\n",
      "accuracy: 0.17%\n",
      "Intervalo accuracy: 0.17 ~ 0.17\n",
      "\n",
      "\n"
     ]
    }
   ],
   "metadata": {}
  },
  {
   "cell_type": "code",
   "execution_count": 41,
   "source": [
    "# Part 3 - Making the predictions and visualising the results\r\n",
    "\r\n",
    "# Getting the real stock price of 2017\r\n",
    "dataset_test = pd.read_csv('Google_Stock_Price_Test.csv')\r\n",
    "real_stock_price = dataset_test.iloc[:, 1:2].values\r\n",
    "\r\n",
    "# Getting the predicted stock price of 2017\r\n",
    "dataset_total = pd.concat((dataset_train['Open'], dataset_test['Open']), axis = 0)\r\n",
    "inputs = dataset_total[len(dataset_total) - len(dataset_test) - 60:].values\r\n",
    "inputs = inputs.reshape(-1,1)\r\n",
    "inputs = sc.transform(inputs)\r\n",
    "X_test = []\r\n",
    "for i in range(60, 80):\r\n",
    "    X_test.append(inputs[i-60:i, 0])\r\n",
    "X_test = np.array(X_test)\r\n",
    "X_test = np.reshape(X_test, (X_test.shape[0], X_test.shape[1], 1))\r\n",
    "predicted_stock_price = regressor.predict(X_test)\r\n",
    "predicted_stock_price = sc.inverse_transform(predicted_stock_price)"
   ],
   "outputs": [],
   "metadata": {}
  },
  {
   "cell_type": "code",
   "execution_count": 42,
   "source": [
    "# Visualising the results\r\n",
    "plt.plot(real_stock_price, color = 'red', label = 'Real Google Stock Price')\r\n",
    "plt.plot(predicted_stock_price, color = 'blue', label = 'Predicted Google Stock Price')\r\n",
    "plt.title('Google Stock Price Prediction')\r\n",
    "plt.xlabel('Time')\r\n",
    "plt.ylabel('Google Stock Price')\r\n",
    "plt.legend()\r\n",
    "plt.show()"
   ],
   "outputs": [
    {
     "output_type": "display_data",
     "data": {
      "image/png": "[encoded data removed]",
      "text/plain": [
       "<Figure size 432x288 with 1 Axes>"
      ]
     },
     "metadata": {
      "needs_background": "light"
     }
    }
   ],
   "metadata": {}
  },
  {
   "cell_type": "markdown",
   "source": [
    "## FIM"
   ],
   "metadata": {}
  }
 ],
 "metadata": {
  "kernelspec": {
   "name": "python3",
   "display_name": "Python 3.6.8 64-bit"
  },
  "language_info": {
   "codemirror_mode": {
    "name": "ipython",
    "version": 3
   },
   "file_extension": ".py",
   "mimetype": "text/x-python",
   "name": "python",
   "nbconvert_exporter": "python",
   "pygments_lexer": "ipython3",
   "version": "3.6.8"
  },
  "interpreter": {
   "hash": "6a5ed2ccc9d2ba59c3542bbda7f71bcfb6eae0ef46ae44aa32b9fd054184bad6"
  }
 },
 "nbformat": 4,
 "nbformat_minor": 4
}