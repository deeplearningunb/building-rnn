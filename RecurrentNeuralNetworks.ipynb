{
  "nbformat": 4,
  "nbformat_minor": 0,
  "metadata": {
    "kernelspec": {
      "display_name": "Python 3",
      "language": "python",
      "name": "python3"
    },
    "language_info": {
      "codemirror_mode": {
        "name": "ipython",
        "version": 3
      },
      "file_extension": ".py",
      "mimetype": "text/x-python",
      "name": "python",
      "nbconvert_exporter": "python",
      "pygments_lexer": "ipython3",
      "version": "3.7.1"
    },
    "colab": {
      "name": "RecurrentNeuralNetworks.ipynb",
      "provenance": []
    }
  },
  "cells": [
    {
      "cell_type": "markdown",
      "metadata": {
        "id": "ADzCBFUaHCcJ"
      },
      "source": [
        "# Recurrent Neural Networks\n",
        "\n",
        "calcular o preço das ações do google"
      ]
    },
    {
      "cell_type": "code",
      "metadata": {
        "id": "Yv4b_AoqHCcN"
      },
      "source": [
        "# Part 1 - Data Preprocessing\n",
        "\n",
        "# Importing the libraries\n",
        "import numpy as np\n",
        "import matplotlib.pyplot as plt\n",
        "import pandas as pd"
      ],
      "execution_count": 1,
      "outputs": []
    },
    {
      "cell_type": "code",
      "metadata": {
        "id": "CpHnfyufHCcP"
      },
      "source": [
        "# Importing the training set\n",
        "dataset_train = pd.read_csv('Google_Stock_Price_Train.csv')\n",
        "training_set = dataset_train.iloc[:, 1:2].values"
      ],
      "execution_count": 2,
      "outputs": []
    },
    {
      "cell_type": "code",
      "metadata": {
        "id": "k949PKnuHCcP"
      },
      "source": [
        "# Feature Scaling\n",
        "from sklearn.preprocessing import MinMaxScaler\n",
        "sc = MinMaxScaler(feature_range = (0, 1))\n",
        "training_set_scaled = sc.fit_transform(training_set)"
      ],
      "execution_count": 3,
      "outputs": []
    },
    {
      "cell_type": "code",
      "metadata": {
        "colab": {
          "base_uri": "https://localhost:8080/"
        },
        "id": "edpTIaJgHCcQ",
        "outputId": "3bedf7c2-45a3-4af3-c092-e3558d3843f6"
      },
      "source": [
        "# Creating a data structure with 60 timesteps and 1 output\n",
        "X_train = []\n",
        "y_train = []\n",
        "for i in range(60, 1258):\n",
        "    X_train.append(training_set_scaled[i-60:i, 0])\n",
        "    y_train.append(training_set_scaled[i, 0])\n",
        "X_train, y_train = np.array(X_train), np.array(y_train)\n",
        "\n",
        "# Reshaping\n",
        "X_train = np.reshape(X_train, (X_train.shape[0], X_train.shape[1], 1))\n",
        "X_train"
      ],
      "execution_count": 4,
      "outputs": [
        {
          "output_type": "execute_result",
          "data": {
            "text/plain": [
              "array([[[0.08581368],\n",
              "        [0.09701243],\n",
              "        [0.09433366],\n",
              "        ...,\n",
              "        [0.07846566],\n",
              "        [0.08034452],\n",
              "        [0.08497656]],\n",
              "\n",
              "       [[0.09701243],\n",
              "        [0.09433366],\n",
              "        [0.09156187],\n",
              "        ...,\n",
              "        [0.08034452],\n",
              "        [0.08497656],\n",
              "        [0.08627874]],\n",
              "\n",
              "       [[0.09433366],\n",
              "        [0.09156187],\n",
              "        [0.07984225],\n",
              "        ...,\n",
              "        [0.08497656],\n",
              "        [0.08627874],\n",
              "        [0.08471612]],\n",
              "\n",
              "       ...,\n",
              "\n",
              "       [[0.92106928],\n",
              "        [0.92438053],\n",
              "        [0.93048218],\n",
              "        ...,\n",
              "        [0.95475854],\n",
              "        [0.95204256],\n",
              "        [0.95163331]],\n",
              "\n",
              "       [[0.92438053],\n",
              "        [0.93048218],\n",
              "        [0.9299055 ],\n",
              "        ...,\n",
              "        [0.95204256],\n",
              "        [0.95163331],\n",
              "        [0.95725128]],\n",
              "\n",
              "       [[0.93048218],\n",
              "        [0.9299055 ],\n",
              "        [0.93113327],\n",
              "        ...,\n",
              "        [0.95163331],\n",
              "        [0.95725128],\n",
              "        [0.93796041]]])"
            ]
          },
          "metadata": {},
          "execution_count": 4
        }
      ]
    },
    {
      "cell_type": "code",
      "metadata": {
        "id": "8qg0EtwDId0X"
      },
      "source": [
        "# Importing the Keras libraries and packages\n",
        "from keras.models import Sequential\n",
        "from keras.layers import Dense\n",
        "from keras.layers import LSTM\n",
        "from keras.layers import GRU\n",
        "from keras.layers import Dropout\n",
        "# Import tensorflow\n",
        "import tensorflow as tf"
      ],
      "execution_count": 5,
      "outputs": []
    },
    {
      "cell_type": "code",
      "metadata": {
        "id": "u1i1G8F2QDDg"
      },
      "source": [
        "# Antes de tudo, definimos a parte do dataset que vamos testar (para que não varie entre os testes com mesmos hiperparâmetros, etc);\n",
        "\n",
        "tf.random.set_seed(32) "
      ],
      "execution_count": 6,
      "outputs": []
    },
    {
      "cell_type": "code",
      "metadata": {
        "id": "rdROIkjuHCcS"
      },
      "source": [
        "# Part 2 - Building the RNN\n",
        "\n",
        "# Initialising the RNN\n",
        "regressor = Sequential()\n",
        "\n",
        "# Utilizando o GRU na primeira camada\n",
        "regressor.add(GRU(units = 100, activation='elu', dropout=0.2, return_sequences = True, input_shape = (X_train.shape[1], 1)))\n",
        "\n",
        "# Utilizando o GRU na segunda camada\n",
        "regressor.add(GRU(units = 100, activation='elu', dropout=0.2, return_sequences = True))\n",
        "\n",
        "# Utilizando o GRU na terceira camada\n",
        "regressor.add(GRU(units = 100, activation='tanh', dropout=0.1, return_sequences = True))\n",
        "\n",
        "# Utilizando o GRU na quarta camada\n",
        "regressor.add(GRU(units = 50, dropout=0.2))\n",
        "\n",
        "# Utilizando o GRU na camada de saída\n",
        "regressor.add(Dense(units = 1))\n",
        "\n",
        "# Compiling the RNN\n",
        "regressor.compile(optimizer = 'rmsprop', loss = 'mean_absolute_error')"
      ],
      "execution_count": 7,
      "outputs": []
    },
    {
      "cell_type": "code",
      "metadata": {
        "colab": {
          "base_uri": "https://localhost:8080/"
        },
        "id": "xCDQ4q3FHCcT",
        "outputId": "2db92643-e16f-475e-9ed2-35cfd7395008"
      },
      "source": [
        "# Fitting the RNN to the Training set\n",
        "regressor.fit(X_train, y_train, epochs = 25, batch_size = 32)"
      ],
      "execution_count": 8,
      "outputs": [
        {
          "output_type": "stream",
          "name": "stdout",
          "text": [
            "Epoch 1/25\n",
            "38/38 [==============================] - 13s 179ms/step - loss: 0.1346\n",
            "Epoch 2/25\n",
            "38/38 [==============================] - 7s 175ms/step - loss: 0.0874\n",
            "Epoch 3/25\n",
            "38/38 [==============================] - 7s 177ms/step - loss: 0.0771\n",
            "Epoch 4/25\n",
            "38/38 [==============================] - 7s 178ms/step - loss: 0.0741\n",
            "Epoch 5/25\n",
            "38/38 [==============================] - 7s 178ms/step - loss: 0.0716\n",
            "Epoch 6/25\n",
            "38/38 [==============================] - 7s 178ms/step - loss: 0.0664\n",
            "Epoch 7/25\n",
            "38/38 [==============================] - 7s 178ms/step - loss: 0.0618\n",
            "Epoch 8/25\n",
            "38/38 [==============================] - 7s 178ms/step - loss: 0.0605\n",
            "Epoch 9/25\n",
            "38/38 [==============================] - 7s 178ms/step - loss: 0.0594\n",
            "Epoch 10/25\n",
            "38/38 [==============================] - 7s 180ms/step - loss: 0.0547\n",
            "Epoch 11/25\n",
            "38/38 [==============================] - 7s 176ms/step - loss: 0.0546\n",
            "Epoch 12/25\n",
            "38/38 [==============================] - 7s 178ms/step - loss: 0.0507\n",
            "Epoch 13/25\n",
            "38/38 [==============================] - 7s 176ms/step - loss: 0.0512\n",
            "Epoch 14/25\n",
            "38/38 [==============================] - 7s 177ms/step - loss: 0.0462\n",
            "Epoch 15/25\n",
            "38/38 [==============================] - 7s 176ms/step - loss: 0.0425\n",
            "Epoch 16/25\n",
            "38/38 [==============================] - 7s 176ms/step - loss: 0.0453\n",
            "Epoch 17/25\n",
            "38/38 [==============================] - 7s 177ms/step - loss: 0.0425\n",
            "Epoch 18/25\n",
            "38/38 [==============================] - 7s 175ms/step - loss: 0.0427\n",
            "Epoch 19/25\n",
            "38/38 [==============================] - 7s 176ms/step - loss: 0.0399\n",
            "Epoch 20/25\n",
            "38/38 [==============================] - 7s 176ms/step - loss: 0.0387\n",
            "Epoch 21/25\n",
            "38/38 [==============================] - 7s 177ms/step - loss: 0.0393\n",
            "Epoch 22/25\n",
            "38/38 [==============================] - 7s 177ms/step - loss: 0.0391\n",
            "Epoch 23/25\n",
            "38/38 [==============================] - 7s 176ms/step - loss: 0.0386\n",
            "Epoch 24/25\n",
            "38/38 [==============================] - 7s 178ms/step - loss: 0.0371\n",
            "Epoch 25/25\n",
            "38/38 [==============================] - 7s 176ms/step - loss: 0.0358\n"
          ]
        },
        {
          "output_type": "execute_result",
          "data": {
            "text/plain": [
              "<keras.callbacks.History at 0x7fd34642fe10>"
            ]
          },
          "metadata": {},
          "execution_count": 8
        }
      ]
    },
    {
      "cell_type": "code",
      "metadata": {
        "id": "0gALmYquHCcU"
      },
      "source": [
        "# Part 3 - Making the predictions and visualising the results\n",
        "\n",
        "# Getting the real stock price of 2017\n",
        "dataset_test = pd.read_csv('Google_Stock_Price_Test.csv')\n",
        "real_stock_price = dataset_test.iloc[:, 1:2].values\n",
        "\n",
        "# Getting the predicted stock price of 2017\n",
        "dataset_total = pd.concat((dataset_train['Open'], dataset_test['Open']), axis = 0)\n",
        "inputs = dataset_total[len(dataset_total) - len(dataset_test) - 60:].values\n",
        "inputs = inputs.reshape(-1,1)\n",
        "inputs = sc.transform(inputs)\n",
        "X_test = []\n",
        "for i in range(60, 80):\n",
        "    X_test.append(inputs[i-60:i, 0])\n",
        "X_test = np.array(X_test)\n",
        "X_test = np.reshape(X_test, (X_test.shape[0], X_test.shape[1], 1))\n",
        "predicted_stock_price = regressor.predict(X_test)\n",
        "predicted_stock_price = sc.inverse_transform(predicted_stock_price)"
      ],
      "execution_count": 9,
      "outputs": []
    },
    {
      "cell_type": "code",
      "metadata": {
        "colab": {
          "base_uri": "https://localhost:8080/",
          "height": 513
        },
        "id": "qVxHfEh9HCcV",
        "outputId": "a5df5866-a95c-4c50-dba2-ba52c6390705"
      },
      "source": [
        "# Visualising the results\n",
        "plt.figure(figsize = (10,8))\n",
        "plt.plot(real_stock_price, label = 'Real Google Stock Price')\n",
        "plt.plot(predicted_stock_price, label = 'Predicted Google Stock Price')\n",
        "plt.title('Google Stock Price Prediction')\n",
        "plt.xlabel('Time')\n",
        "plt.ylabel('Google Stock Price')\n",
        "plt.legend()\n",
        "plt.show()"
      ],
      "execution_count": 10,
      "outputs": [
        {
          "output_type": "display_data",
          "data": {
            "image/png": "[encoded data removed]",
            "text/plain": [
              "<Figure size 720x576 with 1 Axes>"
            ]
          },
          "metadata": {
            "needs_background": "light"
          }
        }
      ]
    },
    {
      "cell_type": "code",
      "metadata": {
        "colab": {
          "base_uri": "https://localhost:8080/"
        },
        "id": "05zLE-RnVgFD",
        "outputId": "d55c4e0b-ea81-48d6-c3b3-237740e10b56"
      },
      "source": [
        "from sklearn.metrics import mean_absolute_error, mean_squared_error\n",
        "\n",
        "mae = mean_absolute_error(predicted_stock_price, real_stock_price)\n",
        "print(mae)"
      ],
      "execution_count": 11,
      "outputs": [
        {
          "output_type": "stream",
          "name": "stdout",
          "text": [
            "104.84292504882812\n"
          ]
        }
      ]
    },
    {
      "cell_type": "markdown",
      "metadata": {
        "id": "RBhYeByLHCcW"
      },
      "source": [
        "## FIM"
      ]
    }
  ]
}