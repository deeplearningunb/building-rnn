{
 "cells": [
  {
   "cell_type": "markdown",
   "metadata": {},
   "source": [
    "# Recurrent Neural Networks\n",
    "\n",
    "calcular o preço das ações do google"
   ]
  },
  {
   "cell_type": "code",
   "execution_count": 1,
   "metadata": {},
   "outputs": [],
   "source": [
    "# Part 1 - Data Preprocessing\n",
    "\n",
    "# Importing the libraries\n",
    "import numpy as np\n",
    "import matplotlib.pyplot as plt\n",
    "import pandas as pd"
   ]
  },
  {
   "cell_type": "code",
   "execution_count": 2,
   "metadata": {},
   "outputs": [],
   "source": [
    "# Importing the training set\n",
    "dataset_train = pd.read_csv('Google_Stock_Price_Train.csv')\n",
    "training_set = dataset_train.iloc[:, 1:2].values"
   ]
  },
  {
   "cell_type": "code",
   "execution_count": 3,
   "metadata": {},
   "outputs": [],
   "source": [
    "# Feature Scaling\n",
    "from sklearn.preprocessing import MinMaxScaler\n",
    "sc = MinMaxScaler(feature_range = (0, 1))\n",
    "training_set_scaled = sc.fit_transform(training_set)"
   ]
  },
  {
   "cell_type": "code",
   "execution_count": 4,
   "metadata": {},
   "outputs": [
    {
     "data": {
      "text/plain": [
       "(1198, 60, 1)"
      ]
     },
     "execution_count": 4,
     "metadata": {},
     "output_type": "execute_result"
    }
   ],
   "source": [
    "# Creating a data structure with 60 timesteps and 1 output\n",
    "X_train = []\n",
    "y_train = []\n",
    "for i in range(60, 1258):\n",
    "    X_train.append(training_set_scaled[i-60:i, 0])\n",
    "    y_train.append(training_set_scaled[i, 0])\n",
    "X_train, y_train = np.array(X_train), np.array(y_train)\n",
    "\n",
    "# Reshaping\n",
    "X_train = np.reshape(X_train, (X_train.shape[0], X_train.shape[1], 1))\n",
    "X_train.shape"
   ]
  },
  {
   "cell_type": "code",
   "execution_count": 5,
   "metadata": {},
   "outputs": [],
   "source": [
    "# Part 2 - Building the RNN\n",
    "\n",
    "# Importing the Keras libraries and packages\n",
    "from keras.models import Sequential\n",
    "from keras.layers import Dense\n",
    "from keras.layers import GRU\n",
    "from keras.layers import Dropout\n",
    "\n",
    "# Initialising the RNN\n",
    "regressor = Sequential()\n",
    "\n",
    "# Adding the first GRU layer and some Dropout regularisation\n",
    "regressor.add(GRU(units = 15, return_sequences = True, input_shape = (X_train.shape[1], 1)))\n",
    "\n",
    "\n",
    "# Adding a fourth GRU layer and some Dropout regularisation\n",
    "regressor.add(GRU(units = 5))\n",
    "#regressor.add(Dropout(0.2))\n",
    "\n",
    "# Adding the output layer\n",
    "regressor.add(Dense(units = 1))\n",
    "\n",
    "# Compiling the RNN\n",
    "regressor.compile(optimizer = 'adam', loss = 'mean_squared_error')"
   ]
  },
  {
   "cell_type": "code",
   "execution_count": 6,
   "metadata": {},
   "outputs": [
    {
     "name": "stdout",
     "output_type": "stream",
     "text": [
      "Epoch 1/50\n",
      "38/38 [==============================] - 4s 26ms/step - loss: 0.0398\n",
      "Epoch 2/50\n",
      "38/38 [==============================] - 1s 27ms/step - loss: 0.0037\n",
      "Epoch 3/50\n",
      "38/38 [==============================] - 1s 27ms/step - loss: 9.3845e-04\n",
      "Epoch 4/50\n",
      "38/38 [==============================] - 1s 27ms/step - loss: 5.4949e-04\n",
      "Epoch 5/50\n",
      "38/38 [==============================] - 1s 28ms/step - loss: 5.2952e-04\n",
      "Epoch 6/50\n",
      "38/38 [==============================] - 1s 28ms/step - loss: 4.7265e-04\n",
      "Epoch 7/50\n",
      "38/38 [==============================] - 1s 28ms/step - loss: 5.0397e-04\n",
      "Epoch 8/50\n",
      "38/38 [==============================] - 1s 28ms/step - loss: 3.9777e-04\n",
      "Epoch 9/50\n",
      "38/38 [==============================] - 1s 27ms/step - loss: 4.7055e-04\n",
      "Epoch 10/50\n",
      "38/38 [==============================] - 1s 27ms/step - loss: 3.9595e-04\n",
      "Epoch 11/50\n",
      "38/38 [==============================] - 1s 28ms/step - loss: 4.4860e-04\n",
      "Epoch 12/50\n",
      "38/38 [==============================] - 1s 28ms/step - loss: 3.8797e-04: 0s - loss: 3.8437\n",
      "Epoch 13/50\n",
      "38/38 [==============================] - 1s 28ms/step - loss: 3.8909e-04\n",
      "Epoch 14/50\n",
      "38/38 [==============================] - 1s 28ms/step - loss: 3.9140e-04\n",
      "Epoch 15/50\n",
      "38/38 [==============================] - 1s 28ms/step - loss: 3.7448e-04\n",
      "Epoch 16/50\n",
      "38/38 [==============================] - 1s 29ms/step - loss: 3.2318e-04\n",
      "Epoch 17/50\n",
      "38/38 [==============================] - 1s 28ms/step - loss: 3.6611e-04\n",
      "Epoch 18/50\n",
      "38/38 [==============================] - 1s 28ms/step - loss: 3.0798e-04\n",
      "Epoch 19/50\n",
      "38/38 [==============================] - 1s 28ms/step - loss: 3.6767e-04\n",
      "Epoch 20/50\n",
      "38/38 [==============================] - 1s 28ms/step - loss: 3.4000e-04\n",
      "Epoch 21/50\n",
      "38/38 [==============================] - 1s 29ms/step - loss: 3.3412e-04\n",
      "Epoch 22/50\n",
      "38/38 [==============================] - 1s 29ms/step - loss: 3.9620e-04\n",
      "Epoch 23/50\n",
      "38/38 [==============================] - 1s 29ms/step - loss: 3.3515e-04\n",
      "Epoch 24/50\n",
      "38/38 [==============================] - 1s 28ms/step - loss: 2.7581e-04\n",
      "Epoch 25/50\n",
      "38/38 [==============================] - 1s 29ms/step - loss: 2.9261e-04\n",
      "Epoch 26/50\n",
      "38/38 [==============================] - 1s 30ms/step - loss: 3.3152e-04: 0s - loss:\n",
      "Epoch 27/50\n",
      "38/38 [==============================] - 1s 30ms/step - loss: 3.0839e-04\n",
      "Epoch 28/50\n",
      "38/38 [==============================] - 1s 30ms/step - loss: 2.7470e-04\n",
      "Epoch 29/50\n",
      "38/38 [==============================] - 1s 29ms/step - loss: 2.8531e-04\n",
      "Epoch 30/50\n",
      "38/38 [==============================] - 1s 27ms/step - loss: 3.4017e-04\n",
      "Epoch 31/50\n",
      "38/38 [==============================] - 1s 28ms/step - loss: 2.9840e-04\n",
      "Epoch 32/50\n",
      "38/38 [==============================] - 1s 27ms/step - loss: 2.8449e-04\n",
      "Epoch 33/50\n",
      "38/38 [==============================] - 1s 27ms/step - loss: 2.8904e-04\n",
      "Epoch 34/50\n",
      "38/38 [==============================] - 1s 27ms/step - loss: 3.7462e-04\n",
      "Epoch 35/50\n",
      "38/38 [==============================] - 1s 29ms/step - loss: 2.4927e-04\n",
      "Epoch 36/50\n",
      "38/38 [==============================] - 1s 33ms/step - loss: 2.4826e-04\n",
      "Epoch 37/50\n",
      "38/38 [==============================] - 1s 35ms/step - loss: 3.0754e-04\n",
      "Epoch 38/50\n",
      "38/38 [==============================] - 1s 33ms/step - loss: 2.6965e-04\n",
      "Epoch 39/50\n",
      "38/38 [==============================] - 1s 33ms/step - loss: 2.6076e-04\n",
      "Epoch 40/50\n",
      "38/38 [==============================] - 1s 33ms/step - loss: 2.9735e-04\n",
      "Epoch 41/50\n",
      "38/38 [==============================] - 1s 29ms/step - loss: 2.8082e-04\n",
      "Epoch 42/50\n",
      "38/38 [==============================] - 1s 30ms/step - loss: 2.8838e-04\n",
      "Epoch 43/50\n",
      "38/38 [==============================] - 1s 29ms/step - loss: 2.7333e-04\n",
      "Epoch 44/50\n",
      "38/38 [==============================] - 1s 30ms/step - loss: 3.1111e-04\n",
      "Epoch 45/50\n",
      "38/38 [==============================] - 1s 29ms/step - loss: 2.5860e-04\n",
      "Epoch 46/50\n",
      "38/38 [==============================] - 1s 34ms/step - loss: 2.6562e-04\n",
      "Epoch 47/50\n",
      "38/38 [==============================] - 1s 31ms/step - loss: 2.5600e-04\n",
      "Epoch 48/50\n",
      "38/38 [==============================] - 1s 28ms/step - loss: 2.5653e-04\n",
      "Epoch 49/50\n",
      "38/38 [==============================] - 1s 29ms/step - loss: 3.5722e-04\n",
      "Epoch 50/50\n",
      "38/38 [==============================] - 1s 32ms/step - loss: 2.4743e-04: 1s - \n"
     ]
    },
    {
     "data": {
      "text/plain": [
       "<tensorflow.python.keras.callbacks.History at 0x225611743c8>"
      ]
     },
     "execution_count": 6,
     "metadata": {},
     "output_type": "execute_result"
    }
   ],
   "source": [
    "# Fitting the RNN to the Training set\n",
    "regressor.fit(X_train, y_train, epochs = 50, batch_size = 32)"
   ]
  },
  {
   "cell_type": "code",
   "execution_count": 7,
   "metadata": {},
   "outputs": [],
   "source": [
    "# Part 3 - Making the predictions and visualising the results\n",
    "\n",
    "# Getting the real stock price of 2017\n",
    "dataset_test = pd.read_csv('Google_Stock_Price_Test.csv')\n",
    "real_stock_price = dataset_test.iloc[:, 1:2].values"
   ]
  },
  {
   "cell_type": "code",
   "execution_count": 8,
   "metadata": {},
   "outputs": [
    {
     "data": {
      "text/plain": [
       "(80, 1)"
      ]
     },
     "execution_count": 8,
     "metadata": {},
     "output_type": "execute_result"
    }
   ],
   "source": [
    "# Getting the predicted stock price of 2017\n",
    "dataset_total = pd.concat((dataset_train['Open'], dataset_test['Open']), axis = 0)\n",
    "inputs = dataset_total[len(dataset_total) - len(dataset_test) - 60:].values\n",
    "inputs = inputs.reshape(-1,1)\n",
    "inputs = sc.transform(inputs)\n",
    "inputs.shape"
   ]
  },
  {
   "cell_type": "code",
   "execution_count": 9,
   "metadata": {},
   "outputs": [
    {
     "data": {
      "text/plain": [
       "(20, 60, 1)"
      ]
     },
     "execution_count": 9,
     "metadata": {},
     "output_type": "execute_result"
    }
   ],
   "source": [
    "X_test = []\n",
    "for i in range(60, 80):\n",
    "    X_test.append(inputs[i-60:i, 0])\n",
    "X_test = np.array(X_test)\n",
    "X_test = np.reshape(X_test, (X_test.shape[0], X_test.shape[1], 1))\n",
    "X_test.shape"
   ]
  },
  {
   "cell_type": "code",
   "execution_count": 10,
   "metadata": {},
   "outputs": [
    {
     "data": {
      "text/plain": [
       "array([[785.23145],\n",
       "       [782.2182 ],\n",
       "       [789.10736],\n",
       "       [789.23413],\n",
       "       [795.78503],\n",
       "       [805.83905],\n",
       "       [808.81946],\n",
       "       [806.52344],\n",
       "       [807.3911 ],\n",
       "       [808.0862 ],\n",
       "       [807.9318 ],\n",
       "       [806.91675],\n",
       "       [806.20966],\n",
       "       [807.53455],\n",
       "       [808.2029 ],\n",
       "       [819.73035],\n",
       "       [827.9472 ],\n",
       "       [835.13525],\n",
       "       [833.84937],\n",
       "       [817.8576 ]], dtype=float32)"
      ]
     },
     "execution_count": 10,
     "metadata": {},
     "output_type": "execute_result"
    }
   ],
   "source": [
    "predicted_stock_price = regressor.predict(X_test)\n",
    "predicted_stock_price = sc.inverse_transform(predicted_stock_price)\n",
    "predicted_stock_price"
   ]
  },
  {
   "cell_type": "code",
   "execution_count": 11,
   "metadata": {},
   "outputs": [
    {
     "data": {
      "image/png": "[encoded data removed]",
      "text/plain": [
       "<Figure size 432x288 with 1 Axes>"
      ]
     },
     "metadata": {
      "needs_background": "light"
     },
     "output_type": "display_data"
    }
   ],
   "source": [
    "# Visualising the results\n",
    "plt.plot(real_stock_price, color = 'red', label = 'Real Google Stock Price')\n",
    "plt.plot(predicted_stock_price, color = 'blue', label = 'Predicted Google Stock Price')\n",
    "plt.title('Google Stock Price Prediction')\n",
    "plt.xlabel('Time')\n",
    "plt.ylabel('Google Stock Price')\n",
    "plt.legend()\n",
    "plt.show()"
   ]
  },
  {
   "cell_type": "markdown",
   "metadata": {},
   "source": [
    "##### FIM"
   ]
  },
  {
   "cell_type": "code",
   "execution_count": null,
   "metadata": {},
   "outputs": [],
   "source": []
  },
  {
   "cell_type": "code",
   "execution_count": null,
   "metadata": {},
   "outputs": [],
   "source": []
  }
 ],
 "metadata": {
  "kernelspec": {
   "display_name": "Python 3",
   "language": "python",
   "name": "python3"
  },
  "language_info": {
   "codemirror_mode": {
    "name": "ipython",
    "version": 3
   },
   "file_extension": ".py",
   "mimetype": "text/x-python",
   "name": "python",
   "nbconvert_exporter": "python",
   "pygments_lexer": "ipython3",
   "version": "3.7.9"
  }
 },
 "nbformat": 4,
 "nbformat_minor": 4
}
