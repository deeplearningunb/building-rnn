{
 "cells": [
  {
   "cell_type": "markdown",
   "metadata": {},
   "source": [
    "# Recurrent Neural Networks\n",
    "\n",
    "calcular o preço das ações do google"
   ]
  },
  {
   "cell_type": "code",
   "execution_count": 1,
   "metadata": {},
   "outputs": [],
   "source": [
    "# Part 1 - Data Preprocessing\n",
    "\n",
    "# Importing the libraries\n",
    "import numpy as np\n",
    "import matplotlib.pyplot as plt\n",
    "import pandas as pd"
   ]
  },
  {
   "cell_type": "code",
   "execution_count": 2,
   "metadata": {},
   "outputs": [],
   "source": [
    "# Importing the training set\n",
    "dataset_train = pd.read_csv('Google_Stock_Price_Train.csv')\n",
    "training_set = dataset_train.iloc[:, 1:2].values"
   ]
  },
  {
   "cell_type": "code",
   "execution_count": 3,
   "metadata": {},
   "outputs": [],
   "source": [
    "# Feature Scaling\n",
    "from sklearn.preprocessing import MinMaxScaler\n",
    "sc = MinMaxScaler(feature_range = (0, 1))\n",
    "training_set_scaled = sc.fit_transform(training_set)"
   ]
  },
  {
   "cell_type": "code",
   "execution_count": 4,
   "metadata": {},
   "outputs": [
    {
     "data": {
      "text/plain": [
       "array([[[0.08581368],\n",
       "        [0.09701243],\n",
       "        [0.09433366],\n",
       "        ...,\n",
       "        [0.07846566],\n",
       "        [0.08034452],\n",
       "        [0.08497656]],\n",
       "\n",
       "       [[0.09701243],\n",
       "        [0.09433366],\n",
       "        [0.09156187],\n",
       "        ...,\n",
       "        [0.08034452],\n",
       "        [0.08497656],\n",
       "        [0.08627874]],\n",
       "\n",
       "       [[0.09433366],\n",
       "        [0.09156187],\n",
       "        [0.07984225],\n",
       "        ...,\n",
       "        [0.08497656],\n",
       "        [0.08627874],\n",
       "        [0.08471612]],\n",
       "\n",
       "       ...,\n",
       "\n",
       "       [[0.92106928],\n",
       "        [0.92438053],\n",
       "        [0.93048218],\n",
       "        ...,\n",
       "        [0.95475854],\n",
       "        [0.95204256],\n",
       "        [0.95163331]],\n",
       "\n",
       "       [[0.92438053],\n",
       "        [0.93048218],\n",
       "        [0.9299055 ],\n",
       "        ...,\n",
       "        [0.95204256],\n",
       "        [0.95163331],\n",
       "        [0.95725128]],\n",
       "\n",
       "       [[0.93048218],\n",
       "        [0.9299055 ],\n",
       "        [0.93113327],\n",
       "        ...,\n",
       "        [0.95163331],\n",
       "        [0.95725128],\n",
       "        [0.93796041]]])"
      ]
     },
     "execution_count": 4,
     "metadata": {},
     "output_type": "execute_result"
    }
   ],
   "source": [
    "# Creating a data structure with 60 timesteps and 1 output\n",
    "X_train = []\n",
    "y_train = []\n",
    "for i in range(60, 1258):\n",
    "    X_train.append(training_set_scaled[i-60:i, 0])\n",
    "    y_train.append(training_set_scaled[i, 0])\n",
    "X_train, y_train = np.array(X_train), np.array(y_train)\n",
    "\n",
    "# Reshaping\n",
    "X_train = np.reshape(X_train, (X_train.shape[0], X_train.shape[1], 1))\n",
    "X_train"
   ]
  },
  {
   "cell_type": "code",
   "execution_count": 5,
   "metadata": {},
   "outputs": [],
   "source": [
    "# Part 2 - Building the RNN\n",
    "\n",
    "# Importing the Keras libraries and packages\n",
    "from keras.models import Sequential\n",
    "from keras.layers import Dense\n",
    "from keras.layers import GRU\n",
    "from keras.layers import Dropout\n",
    "\n",
    "# Initialising the RNN\n",
    "regressor = Sequential()\n",
    "\n",
    "# Adding the first GRU layer and some Dropout regularisation\n",
    "regressor.add(GRU(units = 50, return_sequences = True, input_shape = (X_train.shape[1], 1)))\n",
    "#regressor.add(Dropout(0.2))\n",
    "\n",
    "# Adding a second GRU layer and some Dropout regularisation\n",
    "regressor.add(GRU(units = 50, return_sequences = True))\n",
    "#regressor.add(Dropout(0.2))\n",
    "\n",
    "# Adding a third GRU layer and some Dropout regularisation\n",
    "regressor.add(GRU(units = 50, return_sequences = True))\n",
    "#regressor.add(Dropout(0.2))\n",
    "\n",
    "# Adding a fourth GRU layer and some Dropout regularisation\n",
    "regressor.add(GRU(units = 50))\n",
    "#regressor.add(Dropout(0.2))\n",
    "\n",
    "# Adding the output layer\n",
    "regressor.add(Dense(units = 1))\n",
    "\n",
    "# Compiling the RNN\n",
    "regressor.compile(optimizer = 'adam', loss = 'mean_squared_error')"
   ]
  },
  {
   "cell_type": "code",
   "execution_count": 6,
   "metadata": {
    "scrolled": true
   },
   "outputs": [
    {
     "name": "stdout",
     "output_type": "stream",
     "text": [
      "Epoch 1/50\n",
      "75/75 [==============================] - 24s 215ms/step - loss: 0.0200\n",
      "Epoch 2/50\n",
      "75/75 [==============================] - 15s 203ms/step - loss: 8.8610e-04\n",
      "Epoch 3/50\n",
      "75/75 [==============================] - 15s 196ms/step - loss: 8.3640e-04\n",
      "Epoch 4/50\n",
      "75/75 [==============================] - 15s 204ms/step - loss: 6.5473e-04\n",
      "Epoch 5/50\n",
      "75/75 [==============================] - 15s 202ms/step - loss: 6.2397e-043\n",
      "Epoch 6/50\n",
      "75/75 [==============================] - 15s 203ms/step - loss: 6.3722e-04\n",
      "Epoch 7/50\n",
      "75/75 [==============================] - 15s 203ms/step - loss: 5.1438e-041s - loss: 5.\n",
      "Epoch 8/50\n",
      "75/75 [==============================] - 15s 200ms/step - loss: 4.7160e-04\n",
      "Epoch 9/50\n",
      "75/75 [==============================] - 15s 197ms/step - loss: 6.3108e-04\n",
      "Epoch 10/50\n",
      "75/75 [==============================] - 15s 196ms/step - loss: 4.5018e-04\n",
      "Epoch 11/50\n",
      "75/75 [==============================] - 16s 215ms/step - loss: 4.2547e-04\n",
      "Epoch 12/50\n",
      "75/75 [==============================] - 16s 210ms/step - loss: 4.5614e-04\n",
      "Epoch 13/50\n",
      "75/75 [==============================] - 17s 225ms/step - loss: 3.9208e-04\n",
      "Epoch 14/50\n",
      "75/75 [==============================] - 17s 232ms/step - loss: 3.4977e-04\n",
      "Epoch 15/50\n",
      "75/75 [==============================] - 17s 231ms/step - loss: 4.4881e-04\n",
      "Epoch 16/50\n",
      "75/75 [==============================] - 15s 205ms/step - loss: 5.0689e-04\n",
      "Epoch 17/50\n",
      "75/75 [==============================] - 15s 203ms/step - loss: 3.8714e-04\n",
      "Epoch 18/50\n",
      "75/75 [==============================] - 16s 209ms/step - loss: 4.4645e-04\n",
      "Epoch 19/50\n",
      "75/75 [==============================] - 15s 197ms/step - loss: 4.1272e-04\n",
      "Epoch 20/50\n",
      "75/75 [==============================] - 15s 204ms/step - loss: 3.8262e-04\n",
      "Epoch 21/50\n",
      "75/75 [==============================] - 15s 202ms/step - loss: 3.2885e-04\n",
      "Epoch 22/50\n",
      "75/75 [==============================] - 15s 202ms/step - loss: 3.8891e-04\n",
      "Epoch 23/50\n",
      "75/75 [==============================] - 16s 213ms/step - loss: 4.2096e-04\n",
      "Epoch 24/50\n",
      "75/75 [==============================] - 16s 210ms/step - loss: 3.0472e-04\n",
      "Epoch 25/50\n",
      "75/75 [==============================] - 16s 216ms/step - loss: 3.4414e-04\n",
      "Epoch 26/50\n",
      "75/75 [==============================] - 17s 226ms/step - loss: 3.0564e-04\n",
      "Epoch 27/50\n",
      "75/75 [==============================] - 15s 201ms/step - loss: 3.4001e-04\n",
      "Epoch 28/50\n",
      "75/75 [==============================] - 14s 193ms/step - loss: 3.8127e-04\n",
      "Epoch 29/50\n",
      "75/75 [==============================] - 15s 194ms/step - loss: 3.7691e-04\n",
      "Epoch 30/50\n",
      "75/75 [==============================] - 15s 196ms/step - loss: 3.0010e-04\n",
      "Epoch 31/50\n",
      "75/75 [==============================] - 14s 191ms/step - loss: 2.9936e-04\n",
      "Epoch 32/50\n",
      "75/75 [==============================] - 14s 192ms/step - loss: 3.0865e-04\n",
      "Epoch 33/50\n",
      "75/75 [==============================] - 14s 193ms/step - loss: 3.3296e-04\n",
      "Epoch 34/50\n",
      "75/75 [==============================] - 15s 199ms/step - loss: 3.8909e-04\n",
      "Epoch 35/50\n",
      "75/75 [==============================] - 15s 199ms/step - loss: 3.8587e-04\n",
      "Epoch 36/50\n",
      "75/75 [==============================] - 15s 199ms/step - loss: 3.5961e-04\n",
      "Epoch 37/50\n",
      "75/75 [==============================] - 15s 200ms/step - loss: 3.8471e-04\n",
      "Epoch 38/50\n",
      "75/75 [==============================] - 16s 209ms/step - loss: 3.4084e-04\n",
      "Epoch 39/50\n",
      "75/75 [==============================] - 14s 191ms/step - loss: 4.9052e-04\n",
      "Epoch 40/50\n",
      "75/75 [==============================] - 14s 192ms/step - loss: 3.3264e-04\n",
      "Epoch 41/50\n",
      "75/75 [==============================] - 14s 192ms/step - loss: 3.5972e-04\n",
      "Epoch 42/50\n",
      "75/75 [==============================] - 15s 197ms/step - loss: 3.4505e-04\n",
      "Epoch 43/50\n",
      "75/75 [==============================] - 15s 198ms/step - loss: 3.9458e-040s - loss: 3.9458e-0\n",
      "Epoch 44/50\n",
      "75/75 [==============================] - 15s 204ms/step - loss: 3.4126e-04\n",
      "Epoch 45/50\n",
      "75/75 [==============================] - 15s 200ms/step - loss: 4.5548e-04\n",
      "Epoch 46/50\n",
      "75/75 [==============================] - 15s 198ms/step - loss: 3.9796e-04\n",
      "Epoch 47/50\n",
      "75/75 [==============================] - 14s 193ms/step - loss: 3.1602e-04\n",
      "Epoch 48/50\n",
      "75/75 [==============================] - 14s 191ms/step - loss: 4.4063e-04\n",
      "Epoch 49/50\n",
      "75/75 [==============================] - 14s 191ms/step - loss: 3.5827e-04\n",
      "Epoch 50/50\n",
      "75/75 [==============================] - 15s 200ms/step - loss: 3.6347e-04\n"
     ]
    },
    {
     "data": {
      "text/plain": [
       "<keras.callbacks.History at 0x7f3d28130430>"
      ]
     },
     "execution_count": 6,
     "metadata": {},
     "output_type": "execute_result"
    }
   ],
   "source": [
    "# Fitting the RNN to the Training set\n",
    "regressor.fit(X_train, y_train, epochs = 50, batch_size = 16)"
   ]
  },
  {
   "cell_type": "code",
   "execution_count": 7,
   "metadata": {},
   "outputs": [],
   "source": [
    "# Part 3 - Making the predictions and visualising the results\n",
    "\n",
    "# Getting the real stock price of 2017\n",
    "dataset_test = pd.read_csv('Google_Stock_Price_Test.csv')\n",
    "real_stock_price = dataset_test.iloc[:, 1:2].values\n",
    "\n",
    "# Getting the predicted stock price of 2017\n",
    "dataset_total = pd.concat((dataset_train['Open'], dataset_test['Open']), axis = 0)\n",
    "inputs = dataset_total[len(dataset_total) - len(dataset_test) - 60:].values\n",
    "inputs = inputs.reshape(-1,1)\n",
    "inputs = sc.transform(inputs)\n",
    "X_test = []\n",
    "for i in range(60, 80):\n",
    "    X_test.append(inputs[i-60:i, 0])\n",
    "X_test = np.array(X_test)\n",
    "X_test = np.reshape(X_test, (X_test.shape[0], X_test.shape[1], 1))\n",
    "predicted_stock_price = regressor.predict(X_test)\n",
    "predicted_stock_price = sc.inverse_transform(predicted_stock_price)"
   ]
  },
  {
   "cell_type": "code",
   "execution_count": 8,
   "metadata": {},
   "outputs": [
    {
     "data": {
      "image/png": "[encoded data removed]",
      "text/plain": [
       "<Figure size 432x288 with 1 Axes>"
      ]
     },
     "metadata": {
      "needs_background": "light"
     },
     "output_type": "display_data"
    }
   ],
   "source": [
    "# Visualising the results\n",
    "plt.plot(real_stock_price, color = 'red', label = 'Real Google Stock Price')\n",
    "plt.plot(predicted_stock_price, color = 'blue', label = 'Predicted Google Stock Price')\n",
    "plt.title('Google Stock Price Prediction')\n",
    "plt.xlabel('Time')\n",
    "plt.ylabel('Google Stock Price')\n",
    "plt.legend()\n",
    "plt.show()"
   ]
  },
  {
   "cell_type": "markdown",
   "metadata": {},
   "source": [
    "## FIM"
   ]
  }
 ],
 "metadata": {
  "kernelspec": {
   "display_name": "Python 3",
   "language": "python",
   "name": "python3"
  },
  "language_info": {
   "codemirror_mode": {
    "name": "ipython",
    "version": 3
   },
   "file_extension": ".py",
   "mimetype": "text/x-python",
   "name": "python",
   "nbconvert_exporter": "python",
   "pygments_lexer": "ipython3",
   "version": "3.8.10"
  }
 },
 "nbformat": 4,
 "nbformat_minor": 4
}
