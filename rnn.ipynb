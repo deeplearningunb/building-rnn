{
 "metadata": {
  "language_info": {
   "codemirror_mode": {
    "name": "ipython",
    "version": 3
   },
   "file_extension": ".py",
   "mimetype": "text/x-python",
   "name": "python",
   "nbconvert_exporter": "python",
   "pygments_lexer": "ipython3",
   "version": "3.6.9-final"
  },
  "orig_nbformat": 2,
  "kernelspec": {
   "name": "python36964bit5aff65cb5d064dc4bf8e53621272c904",
   "display_name": "Python 3.6.9 64-bit"
  }
 },
 "nbformat": 4,
 "nbformat_minor": 2,
 "cells": [
  {
   "cell_type": "code",
   "execution_count": 1,
   "metadata": {},
   "outputs": [
    {
     "output_type": "stream",
     "name": "stderr",
     "text": [
      "\nBad key \"text.kerning_factor\" on line 4 in\n/home/paulo/.local/lib/python3.6/site-packages/matplotlib/mpl-data/stylelib/_classic_test_patch.mplstyle.\nYou probably need to get an updated matplotlibrc file from\nhttp://github.com/matplotlib/matplotlib/blob/master/matplotlibrc.template\nor from the matplotlib source distribution\n"
     ]
    }
   ],
   "source": [
    "# Recurrent Neural Network\n",
    "# Part 1 - Data Preprocessing\n",
    "# Importing the libraries\n",
    "import numpy as np\n",
    "import matplotlib.pyplot as plt\n",
    "import pandas as pd"
   ]
  },
  {
   "cell_type": "code",
   "execution_count": 2,
   "metadata": {},
   "outputs": [],
   "source": [
    "# Importing the training set\n",
    "dataset_train = pd.read_csv('Google_Stock_Price_Train.csv')\n",
    "training_set = dataset_train.iloc[:, 1:2].values"
   ]
  },
  {
   "cell_type": "code",
   "execution_count": 3,
   "metadata": {},
   "outputs": [],
   "source": [
    "# Feature Scaling\n",
    "from sklearn.preprocessing import MinMaxScaler\n",
    "sc = MinMaxScaler(feature_range = (0, 1))\n",
    "training_set_scaled = sc.fit_transform(training_set)"
   ]
  },
  {
   "cell_type": "code",
   "execution_count": 4,
   "metadata": {},
   "outputs": [],
   "source": [
    "# Creating a data structure with 60 timesteps and 1 output\n",
    "X_train = []\n",
    "y_train = []\n",
    "for i in range(60, 1258):\n",
    "    X_train.append(training_set_scaled[i-60:i, 0])\n",
    "    y_train.append(training_set_scaled[i, 0])\n",
    "X_train, y_train = np.array(X_train), np.array(y_train)"
   ]
  },
  {
   "cell_type": "code",
   "execution_count": 5,
   "metadata": {},
   "outputs": [],
   "source": [
    "# Reshaping\n",
    "X_train = np.reshape(X_train, (X_train.shape[0], X_train.shape[1], 1))"
   ]
  },
  {
   "cell_type": "code",
   "execution_count": 6,
   "metadata": {},
   "outputs": [
    {
     "output_type": "stream",
     "name": "stderr",
     "text": [
      "Using TensorFlow backend.\n"
     ]
    }
   ],
   "source": [
    "# Part 2 - Building the RNN\n",
    "# Importing the Keras libraries and packages\n",
    "from keras.models import Sequential\n",
    "from keras.layers import Dense\n",
    "from keras.layers import GRU\n",
    "from keras.layers import Dropout"
   ]
  },
  {
   "cell_type": "code",
   "execution_count": 7,
   "metadata": {},
   "outputs": [],
   "source": [
    "# Initialising the RNN\n",
    "regressor = Sequential()"
   ]
  },
  {
   "cell_type": "code",
   "execution_count": 8,
   "metadata": {},
   "outputs": [
    {
     "output_type": "stream",
     "name": "stdout",
     "text": [
      "WARNING:tensorflow:From /home/paulo/.local/lib/python3.6/site-packages/tensorflow/python/ops/resource_variable_ops.py:435: colocate_with (from tensorflow.python.framework.ops) is deprecated and will be removed in a future version.\nInstructions for updating:\nColocations handled automatically by placer.\n"
     ]
    }
   ],
   "source": [
    "# Adding the first GRU layer and some Dropout regularisation\n",
    "regressor.add(GRU(units = 50, return_sequences = True, input_shape = (X_train.shape[1], 1)))\n",
    "regressor.add(Dropout(0.2))"
   ]
  },
  {
   "cell_type": "code",
   "execution_count": 9,
   "metadata": {},
   "outputs": [],
   "source": [
    "# Adding a second GRU layer and some Dropout regularisation\n",
    "regressor.add(GRU(units = 50, return_sequences = True))\n",
    "regressor.add(Dropout(0.2))"
   ]
  },
  {
   "cell_type": "code",
   "execution_count": 10,
   "metadata": {},
   "outputs": [],
   "source": [
    "# Adding a third GRU layer and some Dropout regularisation\n",
    "regressor.add(GRU(units = 50, return_sequences = True))\n",
    "regressor.add(Dropout(0.2))"
   ]
  },
  {
   "cell_type": "code",
   "execution_count": 11,
   "metadata": {},
   "outputs": [],
   "source": [
    "# Adding a fourth GRU layer and some Dropout regularisation\n",
    "regressor.add(GRU(units = 50))\n",
    "regressor.add(Dropout(0.2))"
   ]
  },
  {
   "cell_type": "code",
   "execution_count": 12,
   "metadata": {},
   "outputs": [],
   "source": [
    "# Adding the output layer\n",
    "regressor.add(Dense(units = 1))"
   ]
  },
  {
   "cell_type": "code",
   "execution_count": 13,
   "metadata": {},
   "outputs": [],
   "source": [
    "# Compiling the RNN\n",
    "regressor.compile(optimizer = 'adam', loss = 'mean_squared_error')"
   ]
  },
  {
   "cell_type": "code",
   "execution_count": 14,
   "metadata": {},
   "outputs": [
    {
     "output_type": "stream",
     "name": "stdout",
     "text": [
      "WARNING:tensorflow:From /home/paulo/.local/lib/python3.6/site-packages/tensorflow/python/ops/math_ops.py:3066: to_int32 (from tensorflow.python.ops.math_ops) is deprecated and will be removed in a future version.\n",
      "Instructions for updating:\n",
      "Use tf.cast instead.\n",
      "Epoch 1/100\n",
      "1198/1198 [==============================] - 4s 3ms/step - loss: 0.0348\n",
      "Epoch 2/100\n",
      "1198/1198 [==============================] - 2s 2ms/step - loss: 0.0066\n",
      "Epoch 3/100\n",
      "1198/1198 [==============================] - 2s 2ms/step - loss: 0.0059\n",
      "Epoch 4/100\n",
      "1198/1198 [==============================] - 3s 2ms/step - loss: 0.0051\n",
      "Epoch 5/100\n",
      "1198/1198 [==============================] - 3s 2ms/step - loss: 0.0049\n",
      "Epoch 6/100\n",
      "1198/1198 [==============================] - 2s 2ms/step - loss: 0.0043\n",
      "Epoch 7/100\n",
      "1198/1198 [==============================] - 2s 2ms/step - loss: 0.0044\n",
      "Epoch 8/100\n",
      "1198/1198 [==============================] - 3s 2ms/step - loss: 0.0037\n",
      "Epoch 9/100\n",
      "1198/1198 [==============================] - 3s 2ms/step - loss: 0.0037\n",
      "Epoch 10/100\n",
      "1198/1198 [==============================] - 3s 2ms/step - loss: 0.0033\n",
      "Epoch 11/100\n",
      "1198/1198 [==============================] - 3s 2ms/step - loss: 0.0037\n",
      "Epoch 12/100\n",
      "1198/1198 [==============================] - 3s 2ms/step - loss: 0.0033\n",
      "Epoch 13/100\n",
      "1198/1198 [==============================] - 3s 2ms/step - loss: 0.0036\n",
      "Epoch 14/100\n",
      "1198/1198 [==============================] - 3s 2ms/step - loss: 0.0034\n",
      "Epoch 15/100\n",
      "1198/1198 [==============================] - 3s 2ms/step - loss: 0.0035\n",
      "Epoch 16/100\n",
      "1198/1198 [==============================] - 3s 2ms/step - loss: 0.0033\n",
      "Epoch 17/100\n",
      "1198/1198 [==============================] - 3s 2ms/step - loss: 0.0034\n",
      "Epoch 18/100\n",
      "1198/1198 [==============================] - 3s 3ms/step - loss: 0.0029\n",
      "Epoch 19/100\n",
      "1198/1198 [==============================] - 3s 2ms/step - loss: 0.0031\n",
      "Epoch 20/100\n",
      "1198/1198 [==============================] - 3s 2ms/step - loss: 0.0028\n",
      "Epoch 21/100\n",
      "1198/1198 [==============================] - 3s 3ms/step - loss: 0.0027\n",
      "Epoch 22/100\n",
      "1198/1198 [==============================] - 3s 2ms/step - loss: 0.0030\n",
      "Epoch 23/100\n",
      "1198/1198 [==============================] - 3s 2ms/step - loss: 0.0028\n",
      "Epoch 24/100\n",
      "1198/1198 [==============================] - 3s 2ms/step - loss: 0.0034\n",
      "Epoch 25/100\n",
      "1198/1198 [==============================] - 3s 2ms/step - loss: 0.0034\n",
      "Epoch 26/100\n",
      "1198/1198 [==============================] - 3s 3ms/step - loss: 0.0025\n",
      "Epoch 27/100\n",
      "1198/1198 [==============================] - 3s 2ms/step - loss: 0.0025\n",
      "Epoch 28/100\n",
      "1198/1198 [==============================] - 3s 2ms/step - loss: 0.0025\n",
      "Epoch 29/100\n",
      "1198/1198 [==============================] - 3s 2ms/step - loss: 0.0024\n",
      "Epoch 30/100\n",
      "1198/1198 [==============================] - 3s 2ms/step - loss: 0.0025\n",
      "Epoch 31/100\n",
      "1198/1198 [==============================] - 3s 3ms/step - loss: 0.0025\n",
      "Epoch 32/100\n",
      "1198/1198 [==============================] - 3s 2ms/step - loss: 0.0024\n",
      "Epoch 33/100\n",
      "1198/1198 [==============================] - 3s 2ms/step - loss: 0.0024\n",
      "Epoch 34/100\n",
      "1198/1198 [==============================] - 3s 2ms/step - loss: 0.0022\n",
      "Epoch 35/100\n",
      "1198/1198 [==============================] - 3s 3ms/step - loss: 0.0022\n",
      "Epoch 36/100\n",
      "1198/1198 [==============================] - 3s 2ms/step - loss: 0.0023\n",
      "Epoch 37/100\n",
      "1198/1198 [==============================] - 3s 2ms/step - loss: 0.0026\n",
      "Epoch 38/100\n",
      "1198/1198 [==============================] - 3s 3ms/step - loss: 0.0022\n",
      "Epoch 39/100\n",
      "1198/1198 [==============================] - 4s 4ms/step - loss: 0.0021\n",
      "Epoch 40/100\n",
      "1198/1198 [==============================] - 6s 5ms/step - loss: 0.0021\n",
      "Epoch 41/100\n",
      "1198/1198 [==============================] - 5s 5ms/step - loss: 0.0021\n",
      "Epoch 42/100\n",
      "1198/1198 [==============================] - 4s 4ms/step - loss: 0.0020\n",
      "Epoch 43/100\n",
      "1198/1198 [==============================] - 5s 4ms/step - loss: 0.0020\n",
      "Epoch 44/100\n",
      "1198/1198 [==============================] - 5s 4ms/step - loss: 0.0020\n",
      "Epoch 45/100\n",
      "1198/1198 [==============================] - 5s 4ms/step - loss: 0.0021\n",
      "Epoch 46/100\n",
      "1198/1198 [==============================] - 5s 4ms/step - loss: 0.0020\n",
      "Epoch 47/100\n",
      "1198/1198 [==============================] - 6s 5ms/step - loss: 0.0019\n",
      "Epoch 48/100\n",
      "1198/1198 [==============================] - 5s 4ms/step - loss: 0.0018\n",
      "Epoch 49/100\n",
      "1198/1198 [==============================] - 5s 4ms/step - loss: 0.0020\n",
      "Epoch 50/100\n",
      "1198/1198 [==============================] - 5s 4ms/step - loss: 0.0019\n",
      "Epoch 51/100\n",
      "1198/1198 [==============================] - 6s 5ms/step - loss: 0.0018\n",
      "Epoch 52/100\n",
      "1198/1198 [==============================] - 6s 5ms/step - loss: 0.0022\n",
      "Epoch 53/100\n",
      "1198/1198 [==============================] - 5s 4ms/step - loss: 0.0019\n",
      "Epoch 54/100\n",
      "1198/1198 [==============================] - 5s 4ms/step - loss: 0.0020\n",
      "Epoch 55/100\n",
      "1198/1198 [==============================] - 5s 5ms/step - loss: 0.0020\n",
      "Epoch 56/100\n",
      "1198/1198 [==============================] - 5s 4ms/step - loss: 0.0019\n",
      "Epoch 57/100\n",
      "1198/1198 [==============================] - 6s 5ms/step - loss: 0.0016\n",
      "Epoch 58/100\n",
      "1198/1198 [==============================] - 6s 5ms/step - loss: 0.0018\n",
      "Epoch 59/100\n",
      "1198/1198 [==============================] - 5s 4ms/step - loss: 0.0016\n",
      "Epoch 60/100\n",
      "1198/1198 [==============================] - 5s 4ms/step - loss: 0.0023\n",
      "Epoch 61/100\n",
      "1198/1198 [==============================] - 6s 5ms/step - loss: 0.0015\n",
      "Epoch 62/100\n",
      "1198/1198 [==============================] - 6s 5ms/step - loss: 0.0017\n",
      "Epoch 63/100\n",
      "1198/1198 [==============================] - 5s 4ms/step - loss: 0.0016\n",
      "Epoch 64/100\n",
      "1198/1198 [==============================] - 4s 3ms/step - loss: 0.0016\n",
      "Epoch 65/100\n",
      "1198/1198 [==============================] - 4s 3ms/step - loss: 0.0016\n",
      "Epoch 66/100\n",
      "1198/1198 [==============================] - 4s 3ms/step - loss: 0.0019\n",
      "Epoch 67/100\n",
      "1198/1198 [==============================] - 4s 3ms/step - loss: 0.0016\n",
      "Epoch 68/100\n",
      "1198/1198 [==============================] - 4s 4ms/step - loss: 0.0018\n",
      "Epoch 69/100\n",
      "1198/1198 [==============================] - 4s 4ms/step - loss: 0.0014\n",
      "Epoch 70/100\n",
      "1198/1198 [==============================] - 5s 4ms/step - loss: 0.0017\n",
      "Epoch 71/100\n",
      "1198/1198 [==============================] - 4s 4ms/step - loss: 0.0015\n",
      "Epoch 72/100\n",
      "1198/1198 [==============================] - 5s 4ms/step - loss: 0.0018\n",
      "Epoch 73/100\n",
      "1198/1198 [==============================] - 5s 4ms/step - loss: 0.0015\n",
      "Epoch 74/100\n",
      "1198/1198 [==============================] - 5s 4ms/step - loss: 0.0017\n",
      "Epoch 75/100\n",
      "1198/1198 [==============================] - 5s 5ms/step - loss: 0.0015\n",
      "Epoch 76/100\n",
      "1198/1198 [==============================] - 7s 6ms/step - loss: 0.0018\n",
      "Epoch 77/100\n",
      "1198/1198 [==============================] - 5s 4ms/step - loss: 0.0016\n",
      "Epoch 78/100\n",
      "1198/1198 [==============================] - 5s 5ms/step - loss: 0.0015\n",
      "Epoch 79/100\n",
      "1198/1198 [==============================] - 6s 5ms/step - loss: 0.0020\n",
      "Epoch 80/100\n",
      "1198/1198 [==============================] - 5s 4ms/step - loss: 0.0019\n",
      "Epoch 81/100\n",
      "1198/1198 [==============================] - 6s 5ms/step - loss: 0.0016\n",
      "Epoch 82/100\n",
      "1198/1198 [==============================] - 5s 4ms/step - loss: 0.0015\n",
      "Epoch 83/100\n",
      "1198/1198 [==============================] - 6s 5ms/step - loss: 0.0014\n",
      "Epoch 84/100\n",
      "1198/1198 [==============================] - 5s 4ms/step - loss: 0.0013\n",
      "Epoch 85/100\n",
      "1198/1198 [==============================] - 5s 4ms/step - loss: 0.0015\n",
      "Epoch 86/100\n",
      "1198/1198 [==============================] - 6s 5ms/step - loss: 0.0015\n",
      "Epoch 87/100\n",
      "1198/1198 [==============================] - 7s 6ms/step - loss: 0.0014\n",
      "Epoch 88/100\n",
      "1198/1198 [==============================] - 5s 4ms/step - loss: 0.0016\n",
      "Epoch 89/100\n",
      "1198/1198 [==============================] - 6s 5ms/step - loss: 0.0013\n",
      "Epoch 90/100\n",
      "1198/1198 [==============================] - 6s 5ms/step - loss: 0.0012\n",
      "Epoch 91/100\n",
      "1198/1198 [==============================] - 5s 5ms/step - loss: 0.0013\n",
      "Epoch 92/100\n",
      "1198/1198 [==============================] - 6s 5ms/step - loss: 0.0012\n",
      "Epoch 93/100\n",
      "1198/1198 [==============================] - 5s 5ms/step - loss: 0.0013\n",
      "Epoch 94/100\n",
      "1198/1198 [==============================] - 5s 4ms/step - loss: 0.0013\n",
      "Epoch 95/100\n",
      "1198/1198 [==============================] - 5s 4ms/step - loss: 0.0014\n",
      "Epoch 96/100\n",
      "1198/1198 [==============================] - 7s 6ms/step - loss: 0.0012\n",
      "Epoch 97/100\n",
      "1198/1198 [==============================] - 7s 6ms/step - loss: 0.0012\n",
      "Epoch 98/100\n",
      "1198/1198 [==============================] - 4s 3ms/step - loss: 0.0012\n",
      "Epoch 99/100\n",
      "1198/1198 [==============================] - 3s 3ms/step - loss: 0.0013\n",
      "Epoch 100/100\n",
      "1198/1198 [==============================] - 3s 2ms/step - loss: 0.0013\n"
     ]
    },
    {
     "output_type": "execute_result",
     "data": {
      "text/plain": [
       "<keras.callbacks.callbacks.History at 0x7ff2513d6ba8>"
      ]
     },
     "metadata": {},
     "execution_count": 14
    }
   ],
   "source": [
    "# Fitting the RNN to the Training set\n",
    "regressor.fit(X_train, y_train, epochs = 100, batch_size = 32)"
   ]
  },
  {
   "cell_type": "code",
   "execution_count": 15,
   "metadata": {},
   "outputs": [],
   "source": [
    "# Part 3 - Making the predictions and visualising the results\n",
    "# Getting the real stock price of 2017\n",
    "dataset_test = pd.read_csv('Google_Stock_Price_Test.csv')\n",
    "real_stock_price = dataset_test.iloc[:, 1:2].values"
   ]
  },
  {
   "cell_type": "code",
   "execution_count": 16,
   "metadata": {},
   "outputs": [],
   "source": [
    "# Getting the predicted stock price of 2017\n",
    "dataset_total = pd.concat((dataset_train['Open'], dataset_test['Open']), axis = 0)\n",
    "inputs = dataset_total[len(dataset_total) - len(dataset_test) - 60:].values\n",
    "inputs = inputs.reshape(-1,1)\n",
    "inputs = sc.transform(inputs)\n",
    "X_test = []\n",
    "for i in range(60, 80):\n",
    "    X_test.append(inputs[i-60:i, 0])\n",
    "X_test = np.array(X_test)\n",
    "X_test = np.reshape(X_test, (X_test.shape[0], X_test.shape[1], 1))\n",
    "predicted_stock_price = regressor.predict(X_test)\n",
    "predicted_stock_price = sc.inverse_transform(predicted_stock_price)"
   ]
  },
  {
   "cell_type": "code",
   "execution_count": 17,
   "metadata": {},
   "outputs": [
    {
     "output_type": "display_data",
     "data": {
      "text/plain": "<Figure size 432x288 with 1 Axes>",
      "image/svg+xml": "<?xml version=\"1.0\" encoding=\"utf-8\" standalone=\"no\"?>\n<!DOCTYPE svg PUBLIC \"-//W3C//DTD SVG 1.1//EN\"\n  \"http://www.w3.org/Graphics/SVG/1.1/DTD/svg11.dtd\">\n<!-- Created with matplotlib (https://matplotlib.org/) -->\n<svg height=\"277.314375pt\" version=\"1.1\" viewBox=\"0 0 392.465625 277.314375\" width=\"392.465625pt\" xmlns=\"http://www.w3.org/2000/svg\" xmlns:xlink=\"http://www.w3.org/1999/xlink\">\n <defs>\n  <style type=\"text/css\">\n*{stroke-linecap:butt;stroke-linejoin:round;}\n  </style>\n </defs>\n <g id=\"figure_1\">\n  <g id=\"patch_1\">\n   <path d=\"M 0 277.314375 \nL 392.465625 277.314375 \nL 392.465625 0 \nL 0 0 \nz\n\" style=\"fill:none;\"/>\n  </g>\n  <g id=\"axes_1\">\n   <g id=\"patch_2\">\n    <path d=\"M 46.965625 239.758125 \nL 381.765625 239.758125 \nL 381.765625 22.318125 \nL 46.965625 22.318125 \nz\n\" style=\"fill:#ffffff;\"/>\n   </g>\n   <g id=\"matplotlib.axis_1\">\n    <g id=\"xtick_1\">\n     <g id=\"line2d_1\">\n      <defs>\n       <path d=\"M 0 0 \nL 0 3.5 \n\" id=\"ma4bb7482a7\" style=\"stroke:#000000;stroke-width:0.8;\"/>\n      </defs>\n      <g>\n       <use style=\"stroke:#000000;stroke-width:0.8;\" x=\"62.183807\" xlink:href=\"#ma4bb7482a7\" y=\"239.758125\"/>\n      </g>\n     </g>\n     <g id=\"text_1\">\n      <!-- 0.0 -->\n      <defs>\n       <path d=\"M 31.78125 66.40625 \nQ 24.171875 66.40625 20.328125 58.90625 \nQ 16.5 51.421875 16.5 36.375 \nQ 16.5 21.390625 20.328125 13.890625 \nQ 24.171875 6.390625 31.78125 6.390625 \nQ 39.453125 6.390625 43.28125 13.890625 \nQ 47.125 21.390625 47.125 36.375 \nQ 47.125 51.421875 43.28125 58.90625 \nQ 39.453125 66.40625 31.78125 66.40625 \nz\nM 31.78125 74.21875 \nQ 44.046875 74.21875 50.515625 64.515625 \nQ 56.984375 54.828125 56.984375 36.375 \nQ 56.984375 17.96875 50.515625 8.265625 \nQ 44.046875 -1.421875 31.78125 -1.421875 \nQ 19.53125 -1.421875 13.0625 8.265625 \nQ 6.59375 17.96875 6.59375 36.375 \nQ 6.59375 54.828125 13.0625 64.515625 \nQ 19.53125 74.21875 31.78125 74.21875 \nz\n\" id=\"DejaVuSans-48\"/>\n       <path d=\"M 10.6875 12.40625 \nL 21 12.40625 \nL 21 0 \nL 10.6875 0 \nz\n\" id=\"DejaVuSans-46\"/>\n      </defs>\n      <g transform=\"translate(54.232244 254.356562)scale(0.1 -0.1)\">\n       <use xlink:href=\"#DejaVuSans-48\"/>\n       <use x=\"63.623047\" xlink:href=\"#DejaVuSans-46\"/>\n       <use x=\"95.410156\" xlink:href=\"#DejaVuSans-48\"/>\n      </g>\n     </g>\n    </g>\n    <g id=\"xtick_2\">\n     <g id=\"line2d_2\">\n      <g>\n       <use style=\"stroke:#000000;stroke-width:0.8;\" x=\"102.231654\" xlink:href=\"#ma4bb7482a7\" y=\"239.758125\"/>\n      </g>\n     </g>\n     <g id=\"text_2\">\n      <!-- 2.5 -->\n      <defs>\n       <path d=\"M 19.1875 8.296875 \nL 53.609375 8.296875 \nL 53.609375 0 \nL 7.328125 0 \nL 7.328125 8.296875 \nQ 12.9375 14.109375 22.625 23.890625 \nQ 32.328125 33.6875 34.8125 36.53125 \nQ 39.546875 41.84375 41.421875 45.53125 \nQ 43.3125 49.21875 43.3125 52.78125 \nQ 43.3125 58.59375 39.234375 62.25 \nQ 35.15625 65.921875 28.609375 65.921875 \nQ 23.96875 65.921875 18.8125 64.3125 \nQ 13.671875 62.703125 7.8125 59.421875 \nL 7.8125 69.390625 \nQ 13.765625 71.78125 18.9375 73 \nQ 24.125 74.21875 28.421875 74.21875 \nQ 39.75 74.21875 46.484375 68.546875 \nQ 53.21875 62.890625 53.21875 53.421875 \nQ 53.21875 48.921875 51.53125 44.890625 \nQ 49.859375 40.875 45.40625 35.40625 \nQ 44.1875 33.984375 37.640625 27.21875 \nQ 31.109375 20.453125 19.1875 8.296875 \nz\n\" id=\"DejaVuSans-50\"/>\n       <path d=\"M 10.796875 72.90625 \nL 49.515625 72.90625 \nL 49.515625 64.59375 \nL 19.828125 64.59375 \nL 19.828125 46.734375 \nQ 21.96875 47.46875 24.109375 47.828125 \nQ 26.265625 48.1875 28.421875 48.1875 \nQ 40.625 48.1875 47.75 41.5 \nQ 54.890625 34.8125 54.890625 23.390625 \nQ 54.890625 11.625 47.5625 5.09375 \nQ 40.234375 -1.421875 26.90625 -1.421875 \nQ 22.3125 -1.421875 17.546875 -0.640625 \nQ 12.796875 0.140625 7.71875 1.703125 \nL 7.71875 11.625 \nQ 12.109375 9.234375 16.796875 8.0625 \nQ 21.484375 6.890625 26.703125 6.890625 \nQ 35.15625 6.890625 40.078125 11.328125 \nQ 45.015625 15.765625 45.015625 23.390625 \nQ 45.015625 31 40.078125 35.4375 \nQ 35.15625 39.890625 26.703125 39.890625 \nQ 22.75 39.890625 18.8125 39.015625 \nQ 14.890625 38.140625 10.796875 36.28125 \nz\n\" id=\"DejaVuSans-53\"/>\n      </defs>\n      <g transform=\"translate(94.280091 254.356562)scale(0.1 -0.1)\">\n       <use xlink:href=\"#DejaVuSans-50\"/>\n       <use x=\"63.623047\" xlink:href=\"#DejaVuSans-46\"/>\n       <use x=\"95.410156\" xlink:href=\"#DejaVuSans-53\"/>\n      </g>\n     </g>\n    </g>\n    <g id=\"xtick_3\">\n     <g id=\"line2d_3\">\n      <g>\n       <use style=\"stroke:#000000;stroke-width:0.8;\" x=\"142.279501\" xlink:href=\"#ma4bb7482a7\" y=\"239.758125\"/>\n      </g>\n     </g>\n     <g id=\"text_3\">\n      <!-- 5.0 -->\n      <g transform=\"translate(134.327938 254.356562)scale(0.1 -0.1)\">\n       <use xlink:href=\"#DejaVuSans-53\"/>\n       <use x=\"63.623047\" xlink:href=\"#DejaVuSans-46\"/>\n       <use x=\"95.410156\" xlink:href=\"#DejaVuSans-48\"/>\n      </g>\n     </g>\n    </g>\n    <g id=\"xtick_4\">\n     <g id=\"line2d_4\">\n      <g>\n       <use style=\"stroke:#000000;stroke-width:0.8;\" x=\"182.327347\" xlink:href=\"#ma4bb7482a7\" y=\"239.758125\"/>\n      </g>\n     </g>\n     <g id=\"text_4\">\n      <!-- 7.5 -->\n      <defs>\n       <path d=\"M 8.203125 72.90625 \nL 55.078125 72.90625 \nL 55.078125 68.703125 \nL 28.609375 0 \nL 18.3125 0 \nL 43.21875 64.59375 \nL 8.203125 64.59375 \nz\n\" id=\"DejaVuSans-55\"/>\n      </defs>\n      <g transform=\"translate(174.375785 254.356562)scale(0.1 -0.1)\">\n       <use xlink:href=\"#DejaVuSans-55\"/>\n       <use x=\"63.623047\" xlink:href=\"#DejaVuSans-46\"/>\n       <use x=\"95.410156\" xlink:href=\"#DejaVuSans-53\"/>\n      </g>\n     </g>\n    </g>\n    <g id=\"xtick_5\">\n     <g id=\"line2d_5\">\n      <g>\n       <use style=\"stroke:#000000;stroke-width:0.8;\" x=\"222.375194\" xlink:href=\"#ma4bb7482a7\" y=\"239.758125\"/>\n      </g>\n     </g>\n     <g id=\"text_5\">\n      <!-- 10.0 -->\n      <defs>\n       <path d=\"M 12.40625 8.296875 \nL 28.515625 8.296875 \nL 28.515625 63.921875 \nL 10.984375 60.40625 \nL 10.984375 69.390625 \nL 28.421875 72.90625 \nL 38.28125 72.90625 \nL 38.28125 8.296875 \nL 54.390625 8.296875 \nL 54.390625 0 \nL 12.40625 0 \nz\n\" id=\"DejaVuSans-49\"/>\n      </defs>\n      <g transform=\"translate(211.242382 254.356562)scale(0.1 -0.1)\">\n       <use xlink:href=\"#DejaVuSans-49\"/>\n       <use x=\"63.623047\" xlink:href=\"#DejaVuSans-48\"/>\n       <use x=\"127.246094\" xlink:href=\"#DejaVuSans-46\"/>\n       <use x=\"159.033203\" xlink:href=\"#DejaVuSans-48\"/>\n      </g>\n     </g>\n    </g>\n    <g id=\"xtick_6\">\n     <g id=\"line2d_6\">\n      <g>\n       <use style=\"stroke:#000000;stroke-width:0.8;\" x=\"262.423041\" xlink:href=\"#ma4bb7482a7\" y=\"239.758125\"/>\n      </g>\n     </g>\n     <g id=\"text_6\">\n      <!-- 12.5 -->\n      <g transform=\"translate(251.290229 254.356562)scale(0.1 -0.1)\">\n       <use xlink:href=\"#DejaVuSans-49\"/>\n       <use x=\"63.623047\" xlink:href=\"#DejaVuSans-50\"/>\n       <use x=\"127.246094\" xlink:href=\"#DejaVuSans-46\"/>\n       <use x=\"159.033203\" xlink:href=\"#DejaVuSans-53\"/>\n      </g>\n     </g>\n    </g>\n    <g id=\"xtick_7\">\n     <g id=\"line2d_7\">\n      <g>\n       <use style=\"stroke:#000000;stroke-width:0.8;\" x=\"302.470888\" xlink:href=\"#ma4bb7482a7\" y=\"239.758125\"/>\n      </g>\n     </g>\n     <g id=\"text_7\">\n      <!-- 15.0 -->\n      <g transform=\"translate(291.338076 254.356562)scale(0.1 -0.1)\">\n       <use xlink:href=\"#DejaVuSans-49\"/>\n       <use x=\"63.623047\" xlink:href=\"#DejaVuSans-53\"/>\n       <use x=\"127.246094\" xlink:href=\"#DejaVuSans-46\"/>\n       <use x=\"159.033203\" xlink:href=\"#DejaVuSans-48\"/>\n      </g>\n     </g>\n    </g>\n    <g id=\"xtick_8\">\n     <g id=\"line2d_8\">\n      <g>\n       <use style=\"stroke:#000000;stroke-width:0.8;\" x=\"342.518735\" xlink:href=\"#ma4bb7482a7\" y=\"239.758125\"/>\n      </g>\n     </g>\n     <g id=\"text_8\">\n      <!-- 17.5 -->\n      <g transform=\"translate(331.385923 254.356562)scale(0.1 -0.1)\">\n       <use xlink:href=\"#DejaVuSans-49\"/>\n       <use x=\"63.623047\" xlink:href=\"#DejaVuSans-55\"/>\n       <use x=\"127.246094\" xlink:href=\"#DejaVuSans-46\"/>\n       <use x=\"159.033203\" xlink:href=\"#DejaVuSans-53\"/>\n      </g>\n     </g>\n    </g>\n    <g id=\"text_9\">\n     <!-- Time -->\n     <defs>\n      <path d=\"M -0.296875 72.90625 \nL 61.375 72.90625 \nL 61.375 64.59375 \nL 35.5 64.59375 \nL 35.5 0 \nL 25.59375 0 \nL 25.59375 64.59375 \nL -0.296875 64.59375 \nz\n\" id=\"DejaVuSans-84\"/>\n      <path d=\"M 9.421875 54.6875 \nL 18.40625 54.6875 \nL 18.40625 0 \nL 9.421875 0 \nz\nM 9.421875 75.984375 \nL 18.40625 75.984375 \nL 18.40625 64.59375 \nL 9.421875 64.59375 \nz\n\" id=\"DejaVuSans-105\"/>\n      <path d=\"M 52 44.1875 \nQ 55.375 50.25 60.0625 53.125 \nQ 64.75 56 71.09375 56 \nQ 79.640625 56 84.28125 50.015625 \nQ 88.921875 44.046875 88.921875 33.015625 \nL 88.921875 0 \nL 79.890625 0 \nL 79.890625 32.71875 \nQ 79.890625 40.578125 77.09375 44.375 \nQ 74.3125 48.1875 68.609375 48.1875 \nQ 61.625 48.1875 57.5625 43.546875 \nQ 53.515625 38.921875 53.515625 30.90625 \nL 53.515625 0 \nL 44.484375 0 \nL 44.484375 32.71875 \nQ 44.484375 40.625 41.703125 44.40625 \nQ 38.921875 48.1875 33.109375 48.1875 \nQ 26.21875 48.1875 22.15625 43.53125 \nQ 18.109375 38.875 18.109375 30.90625 \nL 18.109375 0 \nL 9.078125 0 \nL 9.078125 54.6875 \nL 18.109375 54.6875 \nL 18.109375 46.1875 \nQ 21.1875 51.21875 25.484375 53.609375 \nQ 29.78125 56 35.6875 56 \nQ 41.65625 56 45.828125 52.96875 \nQ 50 49.953125 52 44.1875 \nz\n\" id=\"DejaVuSans-109\"/>\n      <path d=\"M 56.203125 29.59375 \nL 56.203125 25.203125 \nL 14.890625 25.203125 \nQ 15.484375 15.921875 20.484375 11.0625 \nQ 25.484375 6.203125 34.421875 6.203125 \nQ 39.59375 6.203125 44.453125 7.46875 \nQ 49.3125 8.734375 54.109375 11.28125 \nL 54.109375 2.78125 \nQ 49.265625 0.734375 44.1875 -0.34375 \nQ 39.109375 -1.421875 33.890625 -1.421875 \nQ 20.796875 -1.421875 13.15625 6.1875 \nQ 5.515625 13.8125 5.515625 26.8125 \nQ 5.515625 40.234375 12.765625 48.109375 \nQ 20.015625 56 32.328125 56 \nQ 43.359375 56 49.78125 48.890625 \nQ 56.203125 41.796875 56.203125 29.59375 \nz\nM 47.21875 32.234375 \nQ 47.125 39.59375 43.09375 43.984375 \nQ 39.0625 48.390625 32.421875 48.390625 \nQ 24.90625 48.390625 20.390625 44.140625 \nQ 15.875 39.890625 15.1875 32.171875 \nz\n\" id=\"DejaVuSans-101\"/>\n     </defs>\n     <g transform=\"translate(201.978125 268.034687)scale(0.1 -0.1)\">\n      <use xlink:href=\"#DejaVuSans-84\"/>\n      <use x=\"61.037109\" xlink:href=\"#DejaVuSans-105\"/>\n      <use x=\"88.820312\" xlink:href=\"#DejaVuSans-109\"/>\n      <use x=\"186.232422\" xlink:href=\"#DejaVuSans-101\"/>\n     </g>\n    </g>\n   </g>\n   <g id=\"matplotlib.axis_2\">\n    <g id=\"ytick_1\">\n     <g id=\"line2d_9\">\n      <defs>\n       <path d=\"M 0 0 \nL -3.5 0 \n\" id=\"mc01942da6c\" style=\"stroke:#000000;stroke-width:0.8;\"/>\n      </defs>\n      <g>\n       <use style=\"stroke:#000000;stroke-width:0.8;\" x=\"46.965625\" xlink:href=\"#mc01942da6c\" y=\"222.825609\"/>\n      </g>\n     </g>\n     <g id=\"text_10\">\n      <!-- 780 -->\n      <defs>\n       <path d=\"M 31.78125 34.625 \nQ 24.75 34.625 20.71875 30.859375 \nQ 16.703125 27.09375 16.703125 20.515625 \nQ 16.703125 13.921875 20.71875 10.15625 \nQ 24.75 6.390625 31.78125 6.390625 \nQ 38.8125 6.390625 42.859375 10.171875 \nQ 46.921875 13.96875 46.921875 20.515625 \nQ 46.921875 27.09375 42.890625 30.859375 \nQ 38.875 34.625 31.78125 34.625 \nz\nM 21.921875 38.8125 \nQ 15.578125 40.375 12.03125 44.71875 \nQ 8.5 49.078125 8.5 55.328125 \nQ 8.5 64.0625 14.71875 69.140625 \nQ 20.953125 74.21875 31.78125 74.21875 \nQ 42.671875 74.21875 48.875 69.140625 \nQ 55.078125 64.0625 55.078125 55.328125 \nQ 55.078125 49.078125 51.53125 44.71875 \nQ 48 40.375 41.703125 38.8125 \nQ 48.828125 37.15625 52.796875 32.3125 \nQ 56.78125 27.484375 56.78125 20.515625 \nQ 56.78125 9.90625 50.3125 4.234375 \nQ 43.84375 -1.421875 31.78125 -1.421875 \nQ 19.734375 -1.421875 13.25 4.234375 \nQ 6.78125 9.90625 6.78125 20.515625 \nQ 6.78125 27.484375 10.78125 32.3125 \nQ 14.796875 37.15625 21.921875 38.8125 \nz\nM 18.3125 54.390625 \nQ 18.3125 48.734375 21.84375 45.5625 \nQ 25.390625 42.390625 31.78125 42.390625 \nQ 38.140625 42.390625 41.71875 45.5625 \nQ 45.3125 48.734375 45.3125 54.390625 \nQ 45.3125 60.0625 41.71875 63.234375 \nQ 38.140625 66.40625 31.78125 66.40625 \nQ 25.390625 66.40625 21.84375 63.234375 \nQ 18.3125 60.0625 18.3125 54.390625 \nz\n\" id=\"DejaVuSans-56\"/>\n      </defs>\n      <g transform=\"translate(20.878125 226.624828)scale(0.1 -0.1)\">\n       <use xlink:href=\"#DejaVuSans-55\"/>\n       <use x=\"63.623047\" xlink:href=\"#DejaVuSans-56\"/>\n       <use x=\"127.246094\" xlink:href=\"#DejaVuSans-48\"/>\n      </g>\n     </g>\n    </g>\n    <g id=\"ytick_2\">\n     <g id=\"line2d_10\">\n      <g>\n       <use style=\"stroke:#000000;stroke-width:0.8;\" x=\"46.965625\" xlink:href=\"#mc01942da6c\" y=\"189.85141\"/>\n      </g>\n     </g>\n     <g id=\"text_11\">\n      <!-- 790 -->\n      <defs>\n       <path d=\"M 10.984375 1.515625 \nL 10.984375 10.5 \nQ 14.703125 8.734375 18.5 7.8125 \nQ 22.3125 6.890625 25.984375 6.890625 \nQ 35.75 6.890625 40.890625 13.453125 \nQ 46.046875 20.015625 46.78125 33.40625 \nQ 43.953125 29.203125 39.59375 26.953125 \nQ 35.25 24.703125 29.984375 24.703125 \nQ 19.046875 24.703125 12.671875 31.3125 \nQ 6.296875 37.9375 6.296875 49.421875 \nQ 6.296875 60.640625 12.9375 67.421875 \nQ 19.578125 74.21875 30.609375 74.21875 \nQ 43.265625 74.21875 49.921875 64.515625 \nQ 56.59375 54.828125 56.59375 36.375 \nQ 56.59375 19.140625 48.40625 8.859375 \nQ 40.234375 -1.421875 26.421875 -1.421875 \nQ 22.703125 -1.421875 18.890625 -0.6875 \nQ 15.09375 0.046875 10.984375 1.515625 \nz\nM 30.609375 32.421875 \nQ 37.25 32.421875 41.125 36.953125 \nQ 45.015625 41.5 45.015625 49.421875 \nQ 45.015625 57.28125 41.125 61.84375 \nQ 37.25 66.40625 30.609375 66.40625 \nQ 23.96875 66.40625 20.09375 61.84375 \nQ 16.21875 57.28125 16.21875 49.421875 \nQ 16.21875 41.5 20.09375 36.953125 \nQ 23.96875 32.421875 30.609375 32.421875 \nz\n\" id=\"DejaVuSans-57\"/>\n      </defs>\n      <g transform=\"translate(20.878125 193.650629)scale(0.1 -0.1)\">\n       <use xlink:href=\"#DejaVuSans-55\"/>\n       <use x=\"63.623047\" xlink:href=\"#DejaVuSans-57\"/>\n       <use x=\"127.246094\" xlink:href=\"#DejaVuSans-48\"/>\n      </g>\n     </g>\n    </g>\n    <g id=\"ytick_3\">\n     <g id=\"line2d_11\">\n      <g>\n       <use style=\"stroke:#000000;stroke-width:0.8;\" x=\"46.965625\" xlink:href=\"#mc01942da6c\" y=\"156.87721\"/>\n      </g>\n     </g>\n     <g id=\"text_12\">\n      <!-- 800 -->\n      <g transform=\"translate(20.878125 160.676429)scale(0.1 -0.1)\">\n       <use xlink:href=\"#DejaVuSans-56\"/>\n       <use x=\"63.623047\" xlink:href=\"#DejaVuSans-48\"/>\n       <use x=\"127.246094\" xlink:href=\"#DejaVuSans-48\"/>\n      </g>\n     </g>\n    </g>\n    <g id=\"ytick_4\">\n     <g id=\"line2d_12\">\n      <g>\n       <use style=\"stroke:#000000;stroke-width:0.8;\" x=\"46.965625\" xlink:href=\"#mc01942da6c\" y=\"123.903011\"/>\n      </g>\n     </g>\n     <g id=\"text_13\">\n      <!-- 810 -->\n      <g transform=\"translate(20.878125 127.702229)scale(0.1 -0.1)\">\n       <use xlink:href=\"#DejaVuSans-56\"/>\n       <use x=\"63.623047\" xlink:href=\"#DejaVuSans-49\"/>\n       <use x=\"127.246094\" xlink:href=\"#DejaVuSans-48\"/>\n      </g>\n     </g>\n    </g>\n    <g id=\"ytick_5\">\n     <g id=\"line2d_13\">\n      <g>\n       <use style=\"stroke:#000000;stroke-width:0.8;\" x=\"46.965625\" xlink:href=\"#mc01942da6c\" y=\"90.928811\"/>\n      </g>\n     </g>\n     <g id=\"text_14\">\n      <!-- 820 -->\n      <g transform=\"translate(20.878125 94.72803)scale(0.1 -0.1)\">\n       <use xlink:href=\"#DejaVuSans-56\"/>\n       <use x=\"63.623047\" xlink:href=\"#DejaVuSans-50\"/>\n       <use x=\"127.246094\" xlink:href=\"#DejaVuSans-48\"/>\n      </g>\n     </g>\n    </g>\n    <g id=\"ytick_6\">\n     <g id=\"line2d_14\">\n      <g>\n       <use style=\"stroke:#000000;stroke-width:0.8;\" x=\"46.965625\" xlink:href=\"#mc01942da6c\" y=\"57.954611\"/>\n      </g>\n     </g>\n     <g id=\"text_15\">\n      <!-- 830 -->\n      <defs>\n       <path d=\"M 40.578125 39.3125 \nQ 47.65625 37.796875 51.625 33 \nQ 55.609375 28.21875 55.609375 21.1875 \nQ 55.609375 10.40625 48.1875 4.484375 \nQ 40.765625 -1.421875 27.09375 -1.421875 \nQ 22.515625 -1.421875 17.65625 -0.515625 \nQ 12.796875 0.390625 7.625 2.203125 \nL 7.625 11.71875 \nQ 11.71875 9.328125 16.59375 8.109375 \nQ 21.484375 6.890625 26.8125 6.890625 \nQ 36.078125 6.890625 40.9375 10.546875 \nQ 45.796875 14.203125 45.796875 21.1875 \nQ 45.796875 27.640625 41.28125 31.265625 \nQ 36.765625 34.90625 28.71875 34.90625 \nL 20.21875 34.90625 \nL 20.21875 43.015625 \nL 29.109375 43.015625 \nQ 36.375 43.015625 40.234375 45.921875 \nQ 44.09375 48.828125 44.09375 54.296875 \nQ 44.09375 59.90625 40.109375 62.90625 \nQ 36.140625 65.921875 28.71875 65.921875 \nQ 24.65625 65.921875 20.015625 65.03125 \nQ 15.375 64.15625 9.8125 62.3125 \nL 9.8125 71.09375 \nQ 15.4375 72.65625 20.34375 73.4375 \nQ 25.25 74.21875 29.59375 74.21875 \nQ 40.828125 74.21875 47.359375 69.109375 \nQ 53.90625 64.015625 53.90625 55.328125 \nQ 53.90625 49.265625 50.4375 45.09375 \nQ 46.96875 40.921875 40.578125 39.3125 \nz\n\" id=\"DejaVuSans-51\"/>\n      </defs>\n      <g transform=\"translate(20.878125 61.75383)scale(0.1 -0.1)\">\n       <use xlink:href=\"#DejaVuSans-56\"/>\n       <use x=\"63.623047\" xlink:href=\"#DejaVuSans-51\"/>\n       <use x=\"127.246094\" xlink:href=\"#DejaVuSans-48\"/>\n      </g>\n     </g>\n    </g>\n    <g id=\"ytick_7\">\n     <g id=\"line2d_15\">\n      <g>\n       <use style=\"stroke:#000000;stroke-width:0.8;\" x=\"46.965625\" xlink:href=\"#mc01942da6c\" y=\"24.980412\"/>\n      </g>\n     </g>\n     <g id=\"text_16\">\n      <!-- 840 -->\n      <defs>\n       <path d=\"M 37.796875 64.3125 \nL 12.890625 25.390625 \nL 37.796875 25.390625 \nz\nM 35.203125 72.90625 \nL 47.609375 72.90625 \nL 47.609375 25.390625 \nL 58.015625 25.390625 \nL 58.015625 17.1875 \nL 47.609375 17.1875 \nL 47.609375 0 \nL 37.796875 0 \nL 37.796875 17.1875 \nL 4.890625 17.1875 \nL 4.890625 26.703125 \nz\n\" id=\"DejaVuSans-52\"/>\n      </defs>\n      <g transform=\"translate(20.878125 28.77963)scale(0.1 -0.1)\">\n       <use xlink:href=\"#DejaVuSans-56\"/>\n       <use x=\"63.623047\" xlink:href=\"#DejaVuSans-52\"/>\n       <use x=\"127.246094\" xlink:href=\"#DejaVuSans-48\"/>\n      </g>\n     </g>\n    </g>\n    <g id=\"text_17\">\n     <!-- Google Stock Price -->\n     <defs>\n      <path d=\"M 59.515625 10.40625 \nL 59.515625 29.984375 \nL 43.40625 29.984375 \nL 43.40625 38.09375 \nL 69.28125 38.09375 \nL 69.28125 6.78125 \nQ 63.578125 2.734375 56.6875 0.65625 \nQ 49.8125 -1.421875 42 -1.421875 \nQ 24.90625 -1.421875 15.25 8.5625 \nQ 5.609375 18.5625 5.609375 36.375 \nQ 5.609375 54.25 15.25 64.234375 \nQ 24.90625 74.21875 42 74.21875 \nQ 49.125 74.21875 55.546875 72.453125 \nQ 61.96875 70.703125 67.390625 67.28125 \nL 67.390625 56.78125 \nQ 61.921875 61.421875 55.765625 63.765625 \nQ 49.609375 66.109375 42.828125 66.109375 \nQ 29.4375 66.109375 22.71875 58.640625 \nQ 16.015625 51.171875 16.015625 36.375 \nQ 16.015625 21.625 22.71875 14.15625 \nQ 29.4375 6.6875 42.828125 6.6875 \nQ 48.046875 6.6875 52.140625 7.59375 \nQ 56.25 8.5 59.515625 10.40625 \nz\n\" id=\"DejaVuSans-71\"/>\n      <path d=\"M 30.609375 48.390625 \nQ 23.390625 48.390625 19.1875 42.75 \nQ 14.984375 37.109375 14.984375 27.296875 \nQ 14.984375 17.484375 19.15625 11.84375 \nQ 23.34375 6.203125 30.609375 6.203125 \nQ 37.796875 6.203125 41.984375 11.859375 \nQ 46.1875 17.53125 46.1875 27.296875 \nQ 46.1875 37.015625 41.984375 42.703125 \nQ 37.796875 48.390625 30.609375 48.390625 \nz\nM 30.609375 56 \nQ 42.328125 56 49.015625 48.375 \nQ 55.71875 40.765625 55.71875 27.296875 \nQ 55.71875 13.875 49.015625 6.21875 \nQ 42.328125 -1.421875 30.609375 -1.421875 \nQ 18.84375 -1.421875 12.171875 6.21875 \nQ 5.515625 13.875 5.515625 27.296875 \nQ 5.515625 40.765625 12.171875 48.375 \nQ 18.84375 56 30.609375 56 \nz\n\" id=\"DejaVuSans-111\"/>\n      <path d=\"M 45.40625 27.984375 \nQ 45.40625 37.75 41.375 43.109375 \nQ 37.359375 48.484375 30.078125 48.484375 \nQ 22.859375 48.484375 18.828125 43.109375 \nQ 14.796875 37.75 14.796875 27.984375 \nQ 14.796875 18.265625 18.828125 12.890625 \nQ 22.859375 7.515625 30.078125 7.515625 \nQ 37.359375 7.515625 41.375 12.890625 \nQ 45.40625 18.265625 45.40625 27.984375 \nz\nM 54.390625 6.78125 \nQ 54.390625 -7.171875 48.1875 -13.984375 \nQ 42 -20.796875 29.203125 -20.796875 \nQ 24.46875 -20.796875 20.265625 -20.09375 \nQ 16.0625 -19.390625 12.109375 -17.921875 \nL 12.109375 -9.1875 \nQ 16.0625 -11.328125 19.921875 -12.34375 \nQ 23.78125 -13.375 27.78125 -13.375 \nQ 36.625 -13.375 41.015625 -8.765625 \nQ 45.40625 -4.15625 45.40625 5.171875 \nL 45.40625 9.625 \nQ 42.625 4.78125 38.28125 2.390625 \nQ 33.9375 0 27.875 0 \nQ 17.828125 0 11.671875 7.65625 \nQ 5.515625 15.328125 5.515625 27.984375 \nQ 5.515625 40.671875 11.671875 48.328125 \nQ 17.828125 56 27.875 56 \nQ 33.9375 56 38.28125 53.609375 \nQ 42.625 51.21875 45.40625 46.390625 \nL 45.40625 54.6875 \nL 54.390625 54.6875 \nz\n\" id=\"DejaVuSans-103\"/>\n      <path d=\"M 9.421875 75.984375 \nL 18.40625 75.984375 \nL 18.40625 0 \nL 9.421875 0 \nz\n\" id=\"DejaVuSans-108\"/>\n      <path id=\"DejaVuSans-32\"/>\n      <path d=\"M 53.515625 70.515625 \nL 53.515625 60.890625 \nQ 47.90625 63.578125 42.921875 64.890625 \nQ 37.9375 66.21875 33.296875 66.21875 \nQ 25.25 66.21875 20.875 63.09375 \nQ 16.5 59.96875 16.5 54.203125 \nQ 16.5 49.359375 19.40625 46.890625 \nQ 22.3125 44.4375 30.421875 42.921875 \nL 36.375 41.703125 \nQ 47.40625 39.59375 52.65625 34.296875 \nQ 57.90625 29 57.90625 20.125 \nQ 57.90625 9.515625 50.796875 4.046875 \nQ 43.703125 -1.421875 29.984375 -1.421875 \nQ 24.8125 -1.421875 18.96875 -0.25 \nQ 13.140625 0.921875 6.890625 3.21875 \nL 6.890625 13.375 \nQ 12.890625 10.015625 18.65625 8.296875 \nQ 24.421875 6.59375 29.984375 6.59375 \nQ 38.421875 6.59375 43.015625 9.90625 \nQ 47.609375 13.234375 47.609375 19.390625 \nQ 47.609375 24.75 44.3125 27.78125 \nQ 41.015625 30.8125 33.5 32.328125 \nL 27.484375 33.5 \nQ 16.453125 35.6875 11.515625 40.375 \nQ 6.59375 45.0625 6.59375 53.421875 \nQ 6.59375 63.09375 13.40625 68.65625 \nQ 20.21875 74.21875 32.171875 74.21875 \nQ 37.3125 74.21875 42.625 73.28125 \nQ 47.953125 72.359375 53.515625 70.515625 \nz\n\" id=\"DejaVuSans-83\"/>\n      <path d=\"M 18.3125 70.21875 \nL 18.3125 54.6875 \nL 36.8125 54.6875 \nL 36.8125 47.703125 \nL 18.3125 47.703125 \nL 18.3125 18.015625 \nQ 18.3125 11.328125 20.140625 9.421875 \nQ 21.96875 7.515625 27.59375 7.515625 \nL 36.8125 7.515625 \nL 36.8125 0 \nL 27.59375 0 \nQ 17.1875 0 13.234375 3.875 \nQ 9.28125 7.765625 9.28125 18.015625 \nL 9.28125 47.703125 \nL 2.6875 47.703125 \nL 2.6875 54.6875 \nL 9.28125 54.6875 \nL 9.28125 70.21875 \nz\n\" id=\"DejaVuSans-116\"/>\n      <path d=\"M 48.78125 52.59375 \nL 48.78125 44.1875 \nQ 44.96875 46.296875 41.140625 47.34375 \nQ 37.3125 48.390625 33.40625 48.390625 \nQ 24.65625 48.390625 19.8125 42.84375 \nQ 14.984375 37.3125 14.984375 27.296875 \nQ 14.984375 17.28125 19.8125 11.734375 \nQ 24.65625 6.203125 33.40625 6.203125 \nQ 37.3125 6.203125 41.140625 7.25 \nQ 44.96875 8.296875 48.78125 10.40625 \nL 48.78125 2.09375 \nQ 45.015625 0.34375 40.984375 -0.53125 \nQ 36.96875 -1.421875 32.421875 -1.421875 \nQ 20.0625 -1.421875 12.78125 6.34375 \nQ 5.515625 14.109375 5.515625 27.296875 \nQ 5.515625 40.671875 12.859375 48.328125 \nQ 20.21875 56 33.015625 56 \nQ 37.15625 56 41.109375 55.140625 \nQ 45.0625 54.296875 48.78125 52.59375 \nz\n\" id=\"DejaVuSans-99\"/>\n      <path d=\"M 9.078125 75.984375 \nL 18.109375 75.984375 \nL 18.109375 31.109375 \nL 44.921875 54.6875 \nL 56.390625 54.6875 \nL 27.390625 29.109375 \nL 57.625 0 \nL 45.90625 0 \nL 18.109375 26.703125 \nL 18.109375 0 \nL 9.078125 0 \nz\n\" id=\"DejaVuSans-107\"/>\n      <path d=\"M 19.671875 64.796875 \nL 19.671875 37.40625 \nL 32.078125 37.40625 \nQ 38.96875 37.40625 42.71875 40.96875 \nQ 46.484375 44.53125 46.484375 51.125 \nQ 46.484375 57.671875 42.71875 61.234375 \nQ 38.96875 64.796875 32.078125 64.796875 \nz\nM 9.8125 72.90625 \nL 32.078125 72.90625 \nQ 44.34375 72.90625 50.609375 67.359375 \nQ 56.890625 61.8125 56.890625 51.125 \nQ 56.890625 40.328125 50.609375 34.8125 \nQ 44.34375 29.296875 32.078125 29.296875 \nL 19.671875 29.296875 \nL 19.671875 0 \nL 9.8125 0 \nz\n\" id=\"DejaVuSans-80\"/>\n      <path d=\"M 41.109375 46.296875 \nQ 39.59375 47.171875 37.8125 47.578125 \nQ 36.03125 48 33.890625 48 \nQ 26.265625 48 22.1875 43.046875 \nQ 18.109375 38.09375 18.109375 28.8125 \nL 18.109375 0 \nL 9.078125 0 \nL 9.078125 54.6875 \nL 18.109375 54.6875 \nL 18.109375 46.1875 \nQ 20.953125 51.171875 25.484375 53.578125 \nQ 30.03125 56 36.53125 56 \nQ 37.453125 56 38.578125 55.875 \nQ 39.703125 55.765625 41.0625 55.515625 \nz\n\" id=\"DejaVuSans-114\"/>\n     </defs>\n     <g transform=\"translate(14.798438 177.971719)rotate(-90)scale(0.1 -0.1)\">\n      <use xlink:href=\"#DejaVuSans-71\"/>\n      <use x=\"77.490234\" xlink:href=\"#DejaVuSans-111\"/>\n      <use x=\"138.671875\" xlink:href=\"#DejaVuSans-111\"/>\n      <use x=\"199.853516\" xlink:href=\"#DejaVuSans-103\"/>\n      <use x=\"263.330078\" xlink:href=\"#DejaVuSans-108\"/>\n      <use x=\"291.113281\" xlink:href=\"#DejaVuSans-101\"/>\n      <use x=\"352.636719\" xlink:href=\"#DejaVuSans-32\"/>\n      <use x=\"384.423828\" xlink:href=\"#DejaVuSans-83\"/>\n      <use x=\"447.900391\" xlink:href=\"#DejaVuSans-116\"/>\n      <use x=\"487.109375\" xlink:href=\"#DejaVuSans-111\"/>\n      <use x=\"548.291016\" xlink:href=\"#DejaVuSans-99\"/>\n      <use x=\"603.271484\" xlink:href=\"#DejaVuSans-107\"/>\n      <use x=\"661.181641\" xlink:href=\"#DejaVuSans-32\"/>\n      <use x=\"692.96875\" xlink:href=\"#DejaVuSans-80\"/>\n      <use x=\"753.255859\" xlink:href=\"#DejaVuSans-114\"/>\n      <use x=\"794.369141\" xlink:href=\"#DejaVuSans-105\"/>\n      <use x=\"822.152344\" xlink:href=\"#DejaVuSans-99\"/>\n      <use x=\"877.132812\" xlink:href=\"#DejaVuSans-101\"/>\n     </g>\n    </g>\n   </g>\n   <g id=\"line2d_16\">\n    <path clip-path=\"url(#p9146e5019d)\" d=\"M 62.183807 226.749539 \nL 78.202946 195.259179 \nL 94.222084 202.777296 \nL 110.241223 172.506981 \nL 126.260362 135.773722 \nL 142.279501 130.959489 \nL 158.298639 140.39011 \nL 174.317778 133.333632 \nL 190.336917 132.212509 \nL 206.356056 133.531477 \nL 222.375194 137.7192 \nL 238.394333 139.99442 \nL 254.413472 134.092038 \nL 270.432611 132.970915 \nL 286.451749 83.344745 \nL 302.470888 59.207631 \nL 318.490027 32.201761 \nL 334.509166 42.423763 \nL 350.528304 108.537034 \nL 366.547443 167.231109 \n\" style=\"fill:none;stroke:#ff0000;stroke-linecap:square;stroke-width:1.5;\"/>\n   </g>\n   <g id=\"line2d_17\">\n    <path clip-path=\"url(#p9146e5019d)\" d=\"M 62.183807 221.803619 \nL 78.202946 229.874489 \nL 94.222084 213.234231 \nL 110.241223 214.816928 \nL 126.260362 198.035387 \nL 142.279501 171.567071 \nL 158.298639 163.731875 \nL 174.317778 167.414302 \nL 190.336917 161.75451 \nL 206.356056 158.11817 \nL 222.375194 157.507149 \nL 238.394333 159.093469 \nL 254.413472 159.967334 \nL 270.432611 155.902314 \nL 286.451749 154.065226 \nL 302.470888 123.13541 \nL 318.490027 102.329906 \nL 334.509166 82.196807 \nL 350.528304 83.14252 \nL 366.547443 121.167706 \n\" style=\"fill:none;stroke:#0000ff;stroke-linecap:square;stroke-width:1.5;\"/>\n   </g>\n   <g id=\"patch_3\">\n    <path d=\"M 46.965625 239.758125 \nL 46.965625 22.318125 \n\" style=\"fill:none;stroke:#000000;stroke-linecap:square;stroke-linejoin:miter;stroke-width:0.8;\"/>\n   </g>\n   <g id=\"patch_4\">\n    <path d=\"M 381.765625 239.758125 \nL 381.765625 22.318125 \n\" style=\"fill:none;stroke:#000000;stroke-linecap:square;stroke-linejoin:miter;stroke-width:0.8;\"/>\n   </g>\n   <g id=\"patch_5\">\n    <path d=\"M 46.965625 239.758125 \nL 381.765625 239.758125 \n\" style=\"fill:none;stroke:#000000;stroke-linecap:square;stroke-linejoin:miter;stroke-width:0.8;\"/>\n   </g>\n   <g id=\"patch_6\">\n    <path d=\"M 46.965625 22.318125 \nL 381.765625 22.318125 \n\" style=\"fill:none;stroke:#000000;stroke-linecap:square;stroke-linejoin:miter;stroke-width:0.8;\"/>\n   </g>\n   <g id=\"text_18\">\n    <!-- Google Stock Price Prediction -->\n    <defs>\n     <path d=\"M 45.40625 46.390625 \nL 45.40625 75.984375 \nL 54.390625 75.984375 \nL 54.390625 0 \nL 45.40625 0 \nL 45.40625 8.203125 \nQ 42.578125 3.328125 38.25 0.953125 \nQ 33.9375 -1.421875 27.875 -1.421875 \nQ 17.96875 -1.421875 11.734375 6.484375 \nQ 5.515625 14.40625 5.515625 27.296875 \nQ 5.515625 40.1875 11.734375 48.09375 \nQ 17.96875 56 27.875 56 \nQ 33.9375 56 38.25 53.625 \nQ 42.578125 51.265625 45.40625 46.390625 \nz\nM 14.796875 27.296875 \nQ 14.796875 17.390625 18.875 11.75 \nQ 22.953125 6.109375 30.078125 6.109375 \nQ 37.203125 6.109375 41.296875 11.75 \nQ 45.40625 17.390625 45.40625 27.296875 \nQ 45.40625 37.203125 41.296875 42.84375 \nQ 37.203125 48.484375 30.078125 48.484375 \nQ 22.953125 48.484375 18.875 42.84375 \nQ 14.796875 37.203125 14.796875 27.296875 \nz\n\" id=\"DejaVuSans-100\"/>\n     <path d=\"M 54.890625 33.015625 \nL 54.890625 0 \nL 45.90625 0 \nL 45.90625 32.71875 \nQ 45.90625 40.484375 42.875 44.328125 \nQ 39.84375 48.1875 33.796875 48.1875 \nQ 26.515625 48.1875 22.3125 43.546875 \nQ 18.109375 38.921875 18.109375 30.90625 \nL 18.109375 0 \nL 9.078125 0 \nL 9.078125 54.6875 \nL 18.109375 54.6875 \nL 18.109375 46.1875 \nQ 21.34375 51.125 25.703125 53.5625 \nQ 30.078125 56 35.796875 56 \nQ 45.21875 56 50.046875 50.171875 \nQ 54.890625 44.34375 54.890625 33.015625 \nz\n\" id=\"DejaVuSans-110\"/>\n    </defs>\n    <g transform=\"translate(126.097188 16.318125)scale(0.12 -0.12)\">\n     <use xlink:href=\"#DejaVuSans-71\"/>\n     <use x=\"77.490234\" xlink:href=\"#DejaVuSans-111\"/>\n     <use x=\"138.671875\" xlink:href=\"#DejaVuSans-111\"/>\n     <use x=\"199.853516\" xlink:href=\"#DejaVuSans-103\"/>\n     <use x=\"263.330078\" xlink:href=\"#DejaVuSans-108\"/>\n     <use x=\"291.113281\" xlink:href=\"#DejaVuSans-101\"/>\n     <use x=\"352.636719\" xlink:href=\"#DejaVuSans-32\"/>\n     <use x=\"384.423828\" xlink:href=\"#DejaVuSans-83\"/>\n     <use x=\"447.900391\" xlink:href=\"#DejaVuSans-116\"/>\n     <use x=\"487.109375\" xlink:href=\"#DejaVuSans-111\"/>\n     <use x=\"548.291016\" xlink:href=\"#DejaVuSans-99\"/>\n     <use x=\"603.271484\" xlink:href=\"#DejaVuSans-107\"/>\n     <use x=\"661.181641\" xlink:href=\"#DejaVuSans-32\"/>\n     <use x=\"692.96875\" xlink:href=\"#DejaVuSans-80\"/>\n     <use x=\"753.255859\" xlink:href=\"#DejaVuSans-114\"/>\n     <use x=\"794.369141\" xlink:href=\"#DejaVuSans-105\"/>\n     <use x=\"822.152344\" xlink:href=\"#DejaVuSans-99\"/>\n     <use x=\"877.132812\" xlink:href=\"#DejaVuSans-101\"/>\n     <use x=\"938.65625\" xlink:href=\"#DejaVuSans-32\"/>\n     <use x=\"970.443359\" xlink:href=\"#DejaVuSans-80\"/>\n     <use x=\"1030.730469\" xlink:href=\"#DejaVuSans-114\"/>\n     <use x=\"1071.8125\" xlink:href=\"#DejaVuSans-101\"/>\n     <use x=\"1133.335938\" xlink:href=\"#DejaVuSans-100\"/>\n     <use x=\"1196.8125\" xlink:href=\"#DejaVuSans-105\"/>\n     <use x=\"1224.595703\" xlink:href=\"#DejaVuSans-99\"/>\n     <use x=\"1279.576172\" xlink:href=\"#DejaVuSans-116\"/>\n     <use x=\"1318.785156\" xlink:href=\"#DejaVuSans-105\"/>\n     <use x=\"1346.568359\" xlink:href=\"#DejaVuSans-111\"/>\n     <use x=\"1407.75\" xlink:href=\"#DejaVuSans-110\"/>\n    </g>\n   </g>\n   <g id=\"legend_1\">\n    <g id=\"patch_7\">\n     <path d=\"M 53.965625 59.674375 \nL 230.346875 59.674375 \nQ 232.346875 59.674375 232.346875 57.674375 \nL 232.346875 29.318125 \nQ 232.346875 27.318125 230.346875 27.318125 \nL 53.965625 27.318125 \nQ 51.965625 27.318125 51.965625 29.318125 \nL 51.965625 57.674375 \nQ 51.965625 59.674375 53.965625 59.674375 \nz\n\" style=\"fill:#ffffff;opacity:0.8;stroke:#cccccc;stroke-linejoin:miter;\"/>\n    </g>\n    <g id=\"line2d_18\">\n     <path d=\"M 55.965625 35.416562 \nL 75.965625 35.416562 \n\" style=\"fill:none;stroke:#ff0000;stroke-linecap:square;stroke-width:1.5;\"/>\n    </g>\n    <g id=\"line2d_19\"/>\n    <g id=\"text_19\">\n     <!-- Real Google Stock Price -->\n     <defs>\n      <path d=\"M 44.390625 34.1875 \nQ 47.5625 33.109375 50.5625 29.59375 \nQ 53.5625 26.078125 56.59375 19.921875 \nL 66.609375 0 \nL 56 0 \nL 46.6875 18.703125 \nQ 43.0625 26.03125 39.671875 28.421875 \nQ 36.28125 30.8125 30.421875 30.8125 \nL 19.671875 30.8125 \nL 19.671875 0 \nL 9.8125 0 \nL 9.8125 72.90625 \nL 32.078125 72.90625 \nQ 44.578125 72.90625 50.734375 67.671875 \nQ 56.890625 62.453125 56.890625 51.90625 \nQ 56.890625 45.015625 53.6875 40.46875 \nQ 50.484375 35.9375 44.390625 34.1875 \nz\nM 19.671875 64.796875 \nL 19.671875 38.921875 \nL 32.078125 38.921875 \nQ 39.203125 38.921875 42.84375 42.21875 \nQ 46.484375 45.515625 46.484375 51.90625 \nQ 46.484375 58.296875 42.84375 61.546875 \nQ 39.203125 64.796875 32.078125 64.796875 \nz\n\" id=\"DejaVuSans-82\"/>\n      <path d=\"M 34.28125 27.484375 \nQ 23.390625 27.484375 19.1875 25 \nQ 14.984375 22.515625 14.984375 16.5 \nQ 14.984375 11.71875 18.140625 8.90625 \nQ 21.296875 6.109375 26.703125 6.109375 \nQ 34.1875 6.109375 38.703125 11.40625 \nQ 43.21875 16.703125 43.21875 25.484375 \nL 43.21875 27.484375 \nz\nM 52.203125 31.203125 \nL 52.203125 0 \nL 43.21875 0 \nL 43.21875 8.296875 \nQ 40.140625 3.328125 35.546875 0.953125 \nQ 30.953125 -1.421875 24.3125 -1.421875 \nQ 15.921875 -1.421875 10.953125 3.296875 \nQ 6 8.015625 6 15.921875 \nQ 6 25.140625 12.171875 29.828125 \nQ 18.359375 34.515625 30.609375 34.515625 \nL 43.21875 34.515625 \nL 43.21875 35.40625 \nQ 43.21875 41.609375 39.140625 45 \nQ 35.0625 48.390625 27.6875 48.390625 \nQ 23 48.390625 18.546875 47.265625 \nQ 14.109375 46.140625 10.015625 43.890625 \nL 10.015625 52.203125 \nQ 14.9375 54.109375 19.578125 55.046875 \nQ 24.21875 56 28.609375 56 \nQ 40.484375 56 46.34375 49.84375 \nQ 52.203125 43.703125 52.203125 31.203125 \nz\n\" id=\"DejaVuSans-97\"/>\n     </defs>\n     <g transform=\"translate(83.965625 38.916562)scale(0.1 -0.1)\">\n      <use xlink:href=\"#DejaVuSans-82\"/>\n      <use x=\"69.419922\" xlink:href=\"#DejaVuSans-101\"/>\n      <use x=\"130.943359\" xlink:href=\"#DejaVuSans-97\"/>\n      <use x=\"192.222656\" xlink:href=\"#DejaVuSans-108\"/>\n      <use x=\"220.005859\" xlink:href=\"#DejaVuSans-32\"/>\n      <use x=\"251.792969\" xlink:href=\"#DejaVuSans-71\"/>\n      <use x=\"329.283203\" xlink:href=\"#DejaVuSans-111\"/>\n      <use x=\"390.464844\" xlink:href=\"#DejaVuSans-111\"/>\n      <use x=\"451.646484\" xlink:href=\"#DejaVuSans-103\"/>\n      <use x=\"515.123047\" xlink:href=\"#DejaVuSans-108\"/>\n      <use x=\"542.90625\" xlink:href=\"#DejaVuSans-101\"/>\n      <use x=\"604.429688\" xlink:href=\"#DejaVuSans-32\"/>\n      <use x=\"636.216797\" xlink:href=\"#DejaVuSans-83\"/>\n      <use x=\"699.693359\" xlink:href=\"#DejaVuSans-116\"/>\n      <use x=\"738.902344\" xlink:href=\"#DejaVuSans-111\"/>\n      <use x=\"800.083984\" xlink:href=\"#DejaVuSans-99\"/>\n      <use x=\"855.064453\" xlink:href=\"#DejaVuSans-107\"/>\n      <use x=\"912.974609\" xlink:href=\"#DejaVuSans-32\"/>\n      <use x=\"944.761719\" xlink:href=\"#DejaVuSans-80\"/>\n      <use x=\"1005.048828\" xlink:href=\"#DejaVuSans-114\"/>\n      <use x=\"1046.162109\" xlink:href=\"#DejaVuSans-105\"/>\n      <use x=\"1073.945312\" xlink:href=\"#DejaVuSans-99\"/>\n      <use x=\"1128.925781\" xlink:href=\"#DejaVuSans-101\"/>\n     </g>\n    </g>\n    <g id=\"line2d_20\">\n     <path d=\"M 55.965625 50.094687 \nL 75.965625 50.094687 \n\" style=\"fill:none;stroke:#0000ff;stroke-linecap:square;stroke-width:1.5;\"/>\n    </g>\n    <g id=\"line2d_21\"/>\n    <g id=\"text_20\">\n     <!-- Predicted Google Stock Price -->\n     <g transform=\"translate(83.965625 53.594687)scale(0.1 -0.1)\">\n      <use xlink:href=\"#DejaVuSans-80\"/>\n      <use x=\"60.287109\" xlink:href=\"#DejaVuSans-114\"/>\n      <use x=\"101.369141\" xlink:href=\"#DejaVuSans-101\"/>\n      <use x=\"162.892578\" xlink:href=\"#DejaVuSans-100\"/>\n      <use x=\"226.369141\" xlink:href=\"#DejaVuSans-105\"/>\n      <use x=\"254.152344\" xlink:href=\"#DejaVuSans-99\"/>\n      <use x=\"309.132812\" xlink:href=\"#DejaVuSans-116\"/>\n      <use x=\"348.341797\" xlink:href=\"#DejaVuSans-101\"/>\n      <use x=\"409.865234\" xlink:href=\"#DejaVuSans-100\"/>\n      <use x=\"473.341797\" xlink:href=\"#DejaVuSans-32\"/>\n      <use x=\"505.128906\" xlink:href=\"#DejaVuSans-71\"/>\n      <use x=\"582.619141\" xlink:href=\"#DejaVuSans-111\"/>\n      <use x=\"643.800781\" xlink:href=\"#DejaVuSans-111\"/>\n      <use x=\"704.982422\" xlink:href=\"#DejaVuSans-103\"/>\n      <use x=\"768.458984\" xlink:href=\"#DejaVuSans-108\"/>\n      <use x=\"796.242188\" xlink:href=\"#DejaVuSans-101\"/>\n      <use x=\"857.765625\" xlink:href=\"#DejaVuSans-32\"/>\n      <use x=\"889.552734\" xlink:href=\"#DejaVuSans-83\"/>\n      <use x=\"953.029297\" xlink:href=\"#DejaVuSans-116\"/>\n      <use x=\"992.238281\" xlink:href=\"#DejaVuSans-111\"/>\n      <use x=\"1053.419922\" xlink:href=\"#DejaVuSans-99\"/>\n      <use x=\"1108.400391\" xlink:href=\"#DejaVuSans-107\"/>\n      <use x=\"1166.310547\" xlink:href=\"#DejaVuSans-32\"/>\n      <use x=\"1198.097656\" xlink:href=\"#DejaVuSans-80\"/>\n      <use x=\"1258.384766\" xlink:href=\"#DejaVuSans-114\"/>\n      <use x=\"1299.498047\" xlink:href=\"#DejaVuSans-105\"/>\n      <use x=\"1327.28125\" xlink:href=\"#DejaVuSans-99\"/>\n      <use x=\"1382.261719\" xlink:href=\"#DejaVuSans-101\"/>\n     </g>\n    </g>\n   </g>\n  </g>\n </g>\n <defs>\n  <clipPath id=\"p9146e5019d\">\n   <rect height=\"217.44\" width=\"334.8\" x=\"46.965625\" y=\"22.318125\"/>\n  </clipPath>\n </defs>\n</svg>\n",
      "image/png": "[encoded data removed]"
     },
     "metadata": {
      "needs_background": "light"
     }
    }
   ],
   "source": [
    "# Visualising the results\n",
    "plt.plot(real_stock_price, color = 'red', label = 'Real Google Stock Price')\n",
    "plt.plot(predicted_stock_price, color = 'blue', label = 'Predicted Google Stock Price')\n",
    "plt.title('Google Stock Price Prediction')\n",
    "plt.xlabel('Time')\n",
    "plt.ylabel('Google Stock Price')\n",
    "plt.legend()\n",
    "plt.show()"
   ]
  },
  {
   "cell_type": "code",
   "execution_count": null,
   "metadata": {},
   "outputs": [],
   "source": []
  }
 ]
}